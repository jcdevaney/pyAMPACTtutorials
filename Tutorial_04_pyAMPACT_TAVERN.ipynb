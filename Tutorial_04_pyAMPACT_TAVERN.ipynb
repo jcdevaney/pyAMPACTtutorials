{
  "cells": [
    {
      "cell_type": "markdown",
      "metadata": {
        "id": "view-in-github",
        "colab_type": "text"
      },
      "source": [
        "<a href=\"https://colab.research.google.com/github/jcdevaney/pyAMPACTtutorials/blob/main/Tutorial_04_pyAMPACT_TAVERN.ipynb\" target=\"_parent\"><img src=\"https://colab.research.google.com/assets/colab-badge.svg\" alt=\"Open In Colab\"/></a>"
      ]
    },
    {
      "cell_type": "markdown",
      "metadata": {
        "id": "ef2a9751-f3d7-45b9-8e94-3822cf25528d"
      },
      "source": [
        "<h1>Parsing TAVERN using pyAMPACT</h1>\n",
        "\n",
        "This notebook gives a quick demonstration of how to run some of pyAMPACT's primary functions and save the generated tables to csv files. Feel free to use this notebook as a way to create csv files of the results and save them locally. It's meant to be used on colab [here](https://colab.research.google.com/github/alexandermorgan/AMPACT/blob/main/AMPACT_Quick_Ref_Colab.ipynb#scrollTo=401a7ec7-e8ca-4944-ab81-8b9083cae543).\n",
        "\n",
        "<h2>Import a the repo and create a Score object</h2>\n",
        "\n",
        "You can import any type of symoblic notation file that music21 imports (kern, xml, mei, midi, abc, etc.). If you clone the repo your computer, you can import pieces locally from your computer. It's also convenient to import a piece from a url. Let's import one of the pieces from the TAVERN database and store the Score object to a variable called \"piece\". Note that if you're getting a file from github, make sure you use the \"raw\" link."
      ],
      "id": "ef2a9751-f3d7-45b9-8e94-3822cf25528d"
    },
    {
      "cell_type": "code",
      "execution_count": 1,
      "metadata": {
        "colab": {
          "base_uri": "https://localhost:8080/"
        },
        "id": "Wu-fJ4iVi5-3",
        "outputId": "8c9bc69a-dc58-411d-e615-112c7da99f75"
      },
      "outputs": [
        {
          "output_type": "stream",
          "name": "stdout",
          "text": [
            "Requirement already satisfied: pyampact in /usr/local/lib/python3.11/dist-packages (0.7.9)\n",
            "Requirement already satisfied: music21==9.1.0 in /usr/local/lib/python3.11/dist-packages (from pyampact) (9.1.0)\n",
            "Requirement already satisfied: pandas==2.2.0 in /usr/local/lib/python3.11/dist-packages (from pyampact) (2.2.0)\n",
            "Requirement already satisfied: pyarrow==15.0.0 in /usr/local/lib/python3.11/dist-packages (from pyampact) (15.0.0)\n",
            "Requirement already satisfied: numpy==1.24.3 in /usr/local/lib/python3.11/dist-packages (from pyampact) (1.24.3)\n",
            "Requirement already satisfied: requests==2.31.0 in /usr/local/lib/python3.11/dist-packages (from pyampact) (2.31.0)\n",
            "Requirement already satisfied: pytest==7.4.3 in /usr/local/lib/python3.11/dist-packages (from pyampact) (7.4.3)\n",
            "Requirement already satisfied: scipy==1.11.1 in /usr/local/lib/python3.11/dist-packages (from pyampact) (1.11.1)\n",
            "Requirement already satisfied: librosa==0.10.0.post2 in /usr/local/lib/python3.11/dist-packages (from pyampact) (0.10.0.post2)\n",
            "Requirement already satisfied: mido==1.3.2 in /usr/local/lib/python3.11/dist-packages (from pyampact) (1.3.2)\n",
            "Requirement already satisfied: setuptools>=48 in /usr/local/lib/python3.11/dist-packages (from pyampact) (75.2.0)\n",
            "Requirement already satisfied: audioread>=2.1.9 in /usr/local/lib/python3.11/dist-packages (from librosa==0.10.0.post2->pyampact) (3.0.1)\n",
            "Requirement already satisfied: scikit-learn>=0.20.0 in /usr/local/lib/python3.11/dist-packages (from librosa==0.10.0.post2->pyampact) (1.6.1)\n",
            "Requirement already satisfied: joblib>=0.14 in /usr/local/lib/python3.11/dist-packages (from librosa==0.10.0.post2->pyampact) (1.5.0)\n",
            "Requirement already satisfied: decorator>=4.3.0 in /usr/local/lib/python3.11/dist-packages (from librosa==0.10.0.post2->pyampact) (4.4.2)\n",
            "Requirement already satisfied: numba>=0.51.0 in /usr/local/lib/python3.11/dist-packages (from librosa==0.10.0.post2->pyampact) (0.60.0)\n",
            "Requirement already satisfied: soundfile>=0.12.1 in /usr/local/lib/python3.11/dist-packages (from librosa==0.10.0.post2->pyampact) (0.13.1)\n",
            "Requirement already satisfied: pooch<1.7,>=1.0 in /usr/local/lib/python3.11/dist-packages (from librosa==0.10.0.post2->pyampact) (1.6.0)\n",
            "Requirement already satisfied: soxr>=0.3.2 in /usr/local/lib/python3.11/dist-packages (from librosa==0.10.0.post2->pyampact) (0.5.0.post1)\n",
            "Requirement already satisfied: typing-extensions>=4.1.1 in /usr/local/lib/python3.11/dist-packages (from librosa==0.10.0.post2->pyampact) (4.13.2)\n",
            "Requirement already satisfied: lazy-loader>=0.1 in /usr/local/lib/python3.11/dist-packages (from librosa==0.10.0.post2->pyampact) (0.4)\n",
            "Requirement already satisfied: msgpack>=1.0 in /usr/local/lib/python3.11/dist-packages (from librosa==0.10.0.post2->pyampact) (1.1.0)\n",
            "Requirement already satisfied: packaging~=23.1 in /usr/local/lib/python3.11/dist-packages (from mido==1.3.2->pyampact) (23.2)\n",
            "Requirement already satisfied: chardet in /usr/local/lib/python3.11/dist-packages (from music21==9.1.0->pyampact) (5.2.0)\n",
            "Requirement already satisfied: jsonpickle in /usr/local/lib/python3.11/dist-packages (from music21==9.1.0->pyampact) (4.1.0)\n",
            "Requirement already satisfied: matplotlib in /usr/local/lib/python3.11/dist-packages (from music21==9.1.0->pyampact) (3.10.0)\n",
            "Requirement already satisfied: more-itertools in /usr/local/lib/python3.11/dist-packages (from music21==9.1.0->pyampact) (10.7.0)\n",
            "Requirement already satisfied: webcolors>=1.5 in /usr/local/lib/python3.11/dist-packages (from music21==9.1.0->pyampact) (24.11.1)\n",
            "Requirement already satisfied: python-dateutil>=2.8.2 in /usr/local/lib/python3.11/dist-packages (from pandas==2.2.0->pyampact) (2.9.0.post0)\n",
            "Requirement already satisfied: pytz>=2020.1 in /usr/local/lib/python3.11/dist-packages (from pandas==2.2.0->pyampact) (2025.2)\n",
            "Requirement already satisfied: tzdata>=2022.7 in /usr/local/lib/python3.11/dist-packages (from pandas==2.2.0->pyampact) (2025.2)\n",
            "Requirement already satisfied: iniconfig in /usr/local/lib/python3.11/dist-packages (from pytest==7.4.3->pyampact) (2.1.0)\n",
            "Requirement already satisfied: pluggy<2.0,>=0.12 in /usr/local/lib/python3.11/dist-packages (from pytest==7.4.3->pyampact) (1.6.0)\n",
            "Requirement already satisfied: charset-normalizer<4,>=2 in /usr/local/lib/python3.11/dist-packages (from requests==2.31.0->pyampact) (3.4.2)\n",
            "Requirement already satisfied: idna<4,>=2.5 in /usr/local/lib/python3.11/dist-packages (from requests==2.31.0->pyampact) (3.10)\n",
            "Requirement already satisfied: urllib3<3,>=1.21.1 in /usr/local/lib/python3.11/dist-packages (from requests==2.31.0->pyampact) (2.4.0)\n",
            "Requirement already satisfied: certifi>=2017.4.17 in /usr/local/lib/python3.11/dist-packages (from requests==2.31.0->pyampact) (2025.4.26)\n",
            "Requirement already satisfied: llvmlite<0.44,>=0.43.0dev0 in /usr/local/lib/python3.11/dist-packages (from numba>=0.51.0->librosa==0.10.0.post2->pyampact) (0.43.0)\n",
            "Requirement already satisfied: appdirs>=1.3.0 in /usr/local/lib/python3.11/dist-packages (from pooch<1.7,>=1.0->librosa==0.10.0.post2->pyampact) (1.4.4)\n",
            "Requirement already satisfied: six>=1.5 in /usr/local/lib/python3.11/dist-packages (from python-dateutil>=2.8.2->pandas==2.2.0->pyampact) (1.17.0)\n",
            "Requirement already satisfied: threadpoolctl>=3.1.0 in /usr/local/lib/python3.11/dist-packages (from scikit-learn>=0.20.0->librosa==0.10.0.post2->pyampact) (3.6.0)\n",
            "Requirement already satisfied: cffi>=1.0 in /usr/local/lib/python3.11/dist-packages (from soundfile>=0.12.1->librosa==0.10.0.post2->pyampact) (1.17.1)\n",
            "Requirement already satisfied: contourpy>=1.0.1 in /usr/local/lib/python3.11/dist-packages (from matplotlib->music21==9.1.0->pyampact) (1.3.2)\n",
            "Requirement already satisfied: cycler>=0.10 in /usr/local/lib/python3.11/dist-packages (from matplotlib->music21==9.1.0->pyampact) (0.12.1)\n",
            "Requirement already satisfied: fonttools>=4.22.0 in /usr/local/lib/python3.11/dist-packages (from matplotlib->music21==9.1.0->pyampact) (4.58.0)\n",
            "Requirement already satisfied: kiwisolver>=1.3.1 in /usr/local/lib/python3.11/dist-packages (from matplotlib->music21==9.1.0->pyampact) (1.4.8)\n",
            "Requirement already satisfied: pillow>=8 in /usr/local/lib/python3.11/dist-packages (from matplotlib->music21==9.1.0->pyampact) (11.2.1)\n",
            "Requirement already satisfied: pyparsing>=2.3.1 in /usr/local/lib/python3.11/dist-packages (from matplotlib->music21==9.1.0->pyampact) (3.2.3)\n",
            "Requirement already satisfied: pycparser in /usr/local/lib/python3.11/dist-packages (from cffi>=1.0->soundfile>=0.12.1->librosa==0.10.0.post2->pyampact) (2.22)\n"
          ]
        }
      ],
      "source": [
        "# Due to package dependencies issues, you will have to restart the runtime\n",
        "# after running this cell and then and re-run it a second time\n",
        "\n",
        "from IPython.utils import io\n",
        "!pip install pyampact\n",
        "import pyampact\n",
        "import os\n",
        "import pandas as pd\n",
        "import librosa\n",
        "import matplotlib.pyplot as plt\n",
        "import matplotlib.image as mpimg"
      ],
      "id": "Wu-fJ4iVi5-3"
    },
    {
      "cell_type": "code",
      "source": [
        "!git clone https://github.com/jcdevaney/pyAMPACTtutorials.git"
      ],
      "metadata": {
        "colab": {
          "base_uri": "https://localhost:8080/"
        },
        "id": "ldOPVeB7FY3L",
        "outputId": "b22dccad-28eb-43a0-bae9-6b986fa47da8"
      },
      "id": "ldOPVeB7FY3L",
      "execution_count": 2,
      "outputs": [
        {
          "output_type": "stream",
          "name": "stdout",
          "text": [
            "Cloning into 'pyAMPACTtutorials'...\n",
            "remote: Enumerating objects: 1022, done.\u001b[K\n",
            "remote: Counting objects: 100% (153/153), done.\u001b[K\n",
            "remote: Compressing objects: 100% (75/75), done.\u001b[K\n",
            "remote: Total 1022 (delta 110), reused 97 (delta 78), pack-reused 869 (from 1)\u001b[K\n",
            "Receiving objects: 100% (1022/1022), 147.54 MiB | 17.43 MiB/s, done.\n",
            "Resolving deltas: 100% (462/462), done.\n",
            "Updating files: 100% (554/554), done.\n"
          ]
        }
      ]
    },
    {
      "cell_type": "code",
      "execution_count": 3,
      "metadata": {
        "id": "4TT1EaqEasUj"
      },
      "outputs": [],
      "source": [
        "parent_dir = '/content/pyAMPACTtutorials/test_files/'\n",
        "tavernList = []\n",
        "errorList = []\n",
        "\n",
        "krn_dir = os.path.join(parent_dir, 'B063', 'Stripped')\n",
        "audio_dir = os.path.join(parent_dir, 'B063', 'Audio')\n",
        "\n",
        "# Check if the audio directory exists\n",
        "if os.path.exists(krn_dir):\n",
        "    # Get the list of audio files in the audio directory\n",
        "    kern_files = os.listdir(krn_dir)\n",
        "\n",
        "    for kern_file in kern_files:\n",
        "      align = []\n",
        "      kern = os.path.join(krn_dir, kern_file)\n",
        "      piece = pyampact.Score(kern)\n",
        "\n",
        "      audio_file = kern_file.rsplit(\"_\", 1)[0] + \".wav\"\n",
        "      audio = os.path.join(audio_dir, audio_file)\n",
        "      #y, original_sr = custom_audioread(audio)\n",
        "      y, original_sr = pyampact.load_audiofile(audio)\n",
        "\n",
        "      try:\n",
        "        piece.dtw, piece.spec, nmat = pyampact.run_alignment(y, original_sr, piece, piece.nmats())\n",
        "      except:\n",
        "        errorList.append(audio_file)\n",
        "\n",
        "      tavernList.append(piece)\n"
      ],
      "id": "4TT1EaqEasUj"
    },
    {
      "cell_type": "code",
      "execution_count": 4,
      "metadata": {
        "colab": {
          "base_uri": "https://localhost:8080/",
          "height": 485
        },
        "id": "4vOWFQIfgMMM",
        "outputId": "79db5add-d158-487b-ea7c-39f97613da9f"
      },
      "outputs": [
        {
          "output_type": "display_data",
          "data": {
            "text/plain": [
              "<Figure size 640x480 with 2 Axes>"
            ],
            "image/png": "[encoded data removed]"
          },
          "metadata": {
            "image/png": {
              "width": 581,
              "height": 468
            }
          }
        }
      ],
      "source": [
        "# Plot piano roll and mask with 4 harmonics and a bin width of 0\n",
        "pianoRoll = tavernList[0].pianoRoll()\n",
        "mask = tavernList[0].mask(num_harmonics=4, width=0)\n",
        "\n",
        "graph, (plot1, plot2) = plt.subplots(1, 2)\n",
        "\n",
        "# plot1 graph for normal axes\n",
        "plot1.imshow(pianoRoll)\n",
        "plot1.set_title(tavernList[0].fileName + ' piano roll')\n",
        "plot1.invert_yaxis()\n",
        "\n",
        "# plot2 graph for inverted axes\n",
        "plot2.imshow(mask)\n",
        "plot2.set_title(tavernList[0].fileName + ' note mask')\n",
        "plot2.invert_yaxis()\n",
        "\n",
        "# display the graph\n",
        "graph.tight_layout()\n",
        "plt.show()"
      ],
      "id": "4vOWFQIfgMMM"
    },
    {
      "cell_type": "markdown",
      "metadata": {
        "id": "MizgfWYRks4a"
      },
      "source": [
        "There are three types of annotations in TAVERN: keys (keys), chords (harmonies), and harmonic functions (functions)\n",
        "\n",
        "The snap_to argument specifies which repsentation the annotations will be aligned to (e.g., mask or piano roll)"
      ],
      "id": "MizgfWYRks4a"
    },
    {
      "cell_type": "code",
      "execution_count": 5,
      "metadata": {
        "id": "SzcVJJNHXAHd",
        "colab": {
          "base_uri": "https://localhost:8080/",
          "height": 458
        },
        "outputId": "7762a4e2-4fae-4e23-8bfb-aeabd606bab0"
      },
      "outputs": [
        {
          "output_type": "execute_result",
          "data": {
            "text/plain": [
              "0.000000     c\n",
              "0.041667     c\n",
              "0.083333     c\n",
              "0.125000     c\n",
              "0.166667     c\n",
              "            ..\n",
              "15.791667    c\n",
              "15.833333    c\n",
              "15.875000    c\n",
              "15.916667    c\n",
              "15.958333    c\n",
              "Name: keys, Length: 384, dtype: object"
            ],
            "text/html": [
              "<div>\n",
              "<style scoped>\n",
              "    .dataframe tbody tr th:only-of-type {\n",
              "        vertical-align: middle;\n",
              "    }\n",
              "\n",
              "    .dataframe tbody tr th {\n",
              "        vertical-align: top;\n",
              "    }\n",
              "\n",
              "    .dataframe thead th {\n",
              "        text-align: right;\n",
              "    }\n",
              "</style>\n",
              "<table border=\"1\" class=\"dataframe\">\n",
              "  <thead>\n",
              "    <tr style=\"text-align: right;\">\n",
              "      <th></th>\n",
              "      <th>keys</th>\n",
              "    </tr>\n",
              "  </thead>\n",
              "  <tbody>\n",
              "    <tr>\n",
              "      <th>0.000000</th>\n",
              "      <td>c</td>\n",
              "    </tr>\n",
              "    <tr>\n",
              "      <th>0.041667</th>\n",
              "      <td>c</td>\n",
              "    </tr>\n",
              "    <tr>\n",
              "      <th>0.083333</th>\n",
              "      <td>c</td>\n",
              "    </tr>\n",
              "    <tr>\n",
              "      <th>0.125000</th>\n",
              "      <td>c</td>\n",
              "    </tr>\n",
              "    <tr>\n",
              "      <th>0.166667</th>\n",
              "      <td>c</td>\n",
              "    </tr>\n",
              "    <tr>\n",
              "      <th>...</th>\n",
              "      <td>...</td>\n",
              "    </tr>\n",
              "    <tr>\n",
              "      <th>15.791667</th>\n",
              "      <td>c</td>\n",
              "    </tr>\n",
              "    <tr>\n",
              "      <th>15.833333</th>\n",
              "      <td>c</td>\n",
              "    </tr>\n",
              "    <tr>\n",
              "      <th>15.875000</th>\n",
              "      <td>c</td>\n",
              "    </tr>\n",
              "    <tr>\n",
              "      <th>15.916667</th>\n",
              "      <td>c</td>\n",
              "    </tr>\n",
              "    <tr>\n",
              "      <th>15.958333</th>\n",
              "      <td>c</td>\n",
              "    </tr>\n",
              "  </tbody>\n",
              "</table>\n",
              "<p>384 rows × 1 columns</p>\n",
              "</div><br><label><b>dtype:</b> object</label>"
            ]
          },
          "metadata": {},
          "execution_count": 5
        }
      ],
      "source": [
        "tavernList[0].keys(snap_to=mask)"
      ],
      "id": "SzcVJJNHXAHd"
    },
    {
      "cell_type": "code",
      "source": [
        "tavernList[0].harm(snap_to=mask)"
      ],
      "metadata": {
        "id": "u5JRGE3ptTbk",
        "colab": {
          "base_uri": "https://localhost:8080/"
        },
        "outputId": "1bed6704-27c7-4794-b996-e47fd126abf5"
      },
      "id": "u5JRGE3ptTbk",
      "execution_count": 6,
      "outputs": [
        {
          "output_type": "execute_result",
          "data": {
            "text/plain": [
              "array(['Ib/III', 'Ib/III', 'Ib/III', 'Ib/III', 'Ib/III', 'Ib/III',\n",
              "       'Ib/III', 'Ib/III', 'Ib/III', 'Ib/III', 'Ib/III', 'Ib/III',\n",
              "       'Ib/III', 'Ib/III', 'Ib/III', 'Ib/III', 'Ib/III', 'Ib/III',\n",
              "       'Ib/III', 'Ib/III', 'Ib/III', 'Ib/III', 'Ib/III', 'Ib/III',\n",
              "       'Ib/III', 'Ib/III', 'Ib/III', 'Ib/III', 'Ib/III', 'Ib/III',\n",
              "       'Ib/III', 'Ib/III', 'Ib/III', 'Ib/III', 'Ib/III', 'Ib/III',\n",
              "       'Ib/III', 'Ib/III', 'Ib/III', 'Ib/III', 'Ib/III', 'Ib/III',\n",
              "       'Ib/III', 'Ib/III', 'Ib/III', 'Ib/III', 'Ib/III', 'Ib/III',\n",
              "       'V7d/III', 'V7d/III', 'V7d/III', 'V7d/III', 'V7d/III', 'V7d/III',\n",
              "       'V7d/III', 'V7d/III', 'V7d/III', 'V7d/III', 'V7d/III', 'V7d/III',\n",
              "       'V7d/III', 'V7d/III', 'V7d/III', 'V7d/III', 'V7d/III', 'V7d/III',\n",
              "       'V7d/III', 'V7d/III', 'V7d/III', 'V7d/III', 'V7d/III', 'V7d/III',\n",
              "       'V7d/III', 'V7d/III', 'V7d/III', 'V7d/III', 'V7d/III', 'V7d/III',\n",
              "       'V7d/III', 'V7d/III', 'V7d/III', 'V7d/III', 'V7d/III', 'V7d/III',\n",
              "       'V7d/III', 'V7d/III', 'V7d/III', 'V7d/III', 'V7d/III', 'V7d/III',\n",
              "       'V7d/III', 'V7d/III', 'V7d/III', 'V7d/III', 'V7d/III', 'V7d/III',\n",
              "       'Ib/III', 'Ib/III', 'Ib/III', 'Ib/III', 'Ib/III', 'Ib/III',\n",
              "       'Ib/III', 'Ib/III', 'Ib/III', 'Ib/III', 'Ib/III', 'Ib/III',\n",
              "       'Ib/III', 'Ib/III', 'Ib/III', 'Ib/III', 'Ib/III', 'Ib/III',\n",
              "       'Ib/III', 'Ib/III', 'Ib/III', 'Ib/III', 'Ib/III', 'Ib/III',\n",
              "       'Ib/III', 'Ib/III', 'Ib/III', 'Ib/III', 'Ib/III', 'Ib/III',\n",
              "       'Ib/III', 'Ib/III', 'Ib/III', 'Ib/III', 'Ib/III', 'Ib/III',\n",
              "       'Ib/III', 'Ib/III', 'Ib/III', 'Ib/III', 'Ib/III', 'Ib/III',\n",
              "       'Ib/III', 'Ib/III', 'Ib/III', 'Ib/III', 'Ib/III', 'Ib/III',\n",
              "       'V7d/III', 'V7d/III', 'V7d/III', 'V7d/III', 'V7d/III', 'V7d/III',\n",
              "       'V7d/III', 'V7d/III', 'V7d/III', 'V7d/III', 'V7d/III', 'V7d/III',\n",
              "       'V7d/III', 'V7d/III', 'V7d/III', 'V7d/III', 'V7d/III', 'V7d/III',\n",
              "       'V7d/III', 'V7d/III', 'V7d/III', 'V7d/III', 'V7d/III', 'V7d/III',\n",
              "       'V7d/III', 'V7d/III', 'V7d/III', 'V7d/III', 'V7d/III', 'V7d/III',\n",
              "       'V7d/III', 'V7d/III', 'V7d/III', 'V7d/III', 'V7d/III', 'V7d/III',\n",
              "       'V7d/III', 'V7d/III', 'V7d/III', 'V7d/III', 'V7d/III', 'V7d/III',\n",
              "       'V7d/III', 'V7d/III', 'V7d/III', 'V7d/III', 'V7d/III', 'V7d/III',\n",
              "       'Ib/III', 'Ib/III', 'Ib/III', 'Ib/III', 'Ib/III', 'Ib/III',\n",
              "       'Ib/III', 'Ib/III', 'Ib/III', 'Ib/III', 'Ib/III', 'Ib/III',\n",
              "       'Ib/III', 'Ib/III', 'Ib/III', 'Ib/III', 'Ib/III', 'Ib/III',\n",
              "       'Ib/III', 'Ib/III', 'Ib/III', 'Ib/III', 'Ib/III', 'Ib/III',\n",
              "       'IV/III', 'IV/III', 'IV/III', 'IV/III', 'IV/III', 'IV/III',\n",
              "       'IV/III', 'IV/III', 'IV/III', 'IV/III', 'IV/III', 'IV/III',\n",
              "       'IV/III', 'IV/III', 'IV/III', 'IV/III', 'IV/III', 'IV/III',\n",
              "       'IV/III', 'IV/III', 'IV/III', 'IV/III', 'IV/III', 'IV/III',\n",
              "       'Ic/III', 'Ic/III', 'Ic/III', 'Ic/III', 'Ic/III', 'Ic/III',\n",
              "       'Ic/III', 'Ic/III', 'Ic/III', 'Ic/III', 'Ic/III', 'Ic/III',\n",
              "       'Ic/III', 'Ic/III', 'Ic/III', 'Ic/III', 'Ic/III', 'Ic/III',\n",
              "       'Ic/III', 'Ic/III', 'Ic/III', 'Ic/III', 'Ic/III', 'Ic/III',\n",
              "       'V/III', 'V/III', 'V/III', 'V/III', 'V/III', 'V/III', 'V/III',\n",
              "       'V/III', 'V/III', 'V/III', 'V/III', 'V/III', 'V/III', 'V/III',\n",
              "       'V/III', 'V/III', 'V/III', 'V/III', 'V/III', 'V/III', 'V/III',\n",
              "       'V/III', 'V/III', 'V/III', 'I/III', 'I/III', 'I/III', 'I/III',\n",
              "       'I/III', 'I/III', 'I/III', 'I/III', 'I/III', 'I/III', 'I/III',\n",
              "       'I/III', 'I/III', 'I/III', 'I/III', 'I/III', 'I/III', 'I/III',\n",
              "       'I/III', 'I/III', 'I/III', 'I/III', 'I/III', 'I/III', 'I/III',\n",
              "       'I/III', 'I/III', 'I/III', 'I/III', 'I/III', 'I/III', 'I/III',\n",
              "       'I/III', 'I/III', 'I/III', 'I/III', 'I/III', 'I/III', 'I/III',\n",
              "       'I/III', 'I/III', 'I/III', 'I/III', 'I/III', 'I/III', 'I/III',\n",
              "       'I/III', 'I/III', 'I/III', 'I/III', 'I/III', 'I/III', 'I/III',\n",
              "       'I/III', 'I/III', 'I/III', 'I/III', 'I/III', 'I/III', 'I/III',\n",
              "       'I/III', 'I/III', 'I/III', 'I/III', 'I/III', 'I/III', 'I/III',\n",
              "       'I/III', 'I/III', 'I/III', 'I/III', 'I/III', 'I/III', 'I/III',\n",
              "       'I/III', 'I/III', 'I/III', 'I/III', 'I/III', 'I/III', 'I/III',\n",
              "       'I/III', 'I/III', 'I/III', 'I/III', 'I/III', 'I/III', 'I/III',\n",
              "       'I/III', 'I/III', 'I/III', 'I/III', 'I/III', 'I/III', 'I/III',\n",
              "       'I/III'], dtype=object)"
            ]
          },
          "metadata": {},
          "execution_count": 6
        }
      ]
    },
    {
      "cell_type": "code",
      "execution_count": 7,
      "metadata": {
        "id": "HTnF3u_0hpRd",
        "colab": {
          "base_uri": "https://localhost:8080/",
          "height": 458
        },
        "outputId": "143b6e0b-1e47-4f19-85f0-4cfb2c887e2e"
      },
      "outputs": [
        {
          "output_type": "execute_result",
          "data": {
            "text/plain": [
              "0.000000     T\n",
              "0.041667     T\n",
              "0.083333     T\n",
              "0.125000     T\n",
              "0.166667     T\n",
              "            ..\n",
              "15.791667    T\n",
              "15.833333    T\n",
              "15.875000    T\n",
              "15.916667    T\n",
              "15.958333    T\n",
              "Name: Function, Length: 384, dtype: object"
            ],
            "text/html": [
              "<div>\n",
              "<style scoped>\n",
              "    .dataframe tbody tr th:only-of-type {\n",
              "        vertical-align: middle;\n",
              "    }\n",
              "\n",
              "    .dataframe tbody tr th {\n",
              "        vertical-align: top;\n",
              "    }\n",
              "\n",
              "    .dataframe thead th {\n",
              "        text-align: right;\n",
              "    }\n",
              "</style>\n",
              "<table border=\"1\" class=\"dataframe\">\n",
              "  <thead>\n",
              "    <tr style=\"text-align: right;\">\n",
              "      <th></th>\n",
              "      <th>Function</th>\n",
              "    </tr>\n",
              "  </thead>\n",
              "  <tbody>\n",
              "    <tr>\n",
              "      <th>0.000000</th>\n",
              "      <td>T</td>\n",
              "    </tr>\n",
              "    <tr>\n",
              "      <th>0.041667</th>\n",
              "      <td>T</td>\n",
              "    </tr>\n",
              "    <tr>\n",
              "      <th>0.083333</th>\n",
              "      <td>T</td>\n",
              "    </tr>\n",
              "    <tr>\n",
              "      <th>0.125000</th>\n",
              "      <td>T</td>\n",
              "    </tr>\n",
              "    <tr>\n",
              "      <th>0.166667</th>\n",
              "      <td>T</td>\n",
              "    </tr>\n",
              "    <tr>\n",
              "      <th>...</th>\n",
              "      <td>...</td>\n",
              "    </tr>\n",
              "    <tr>\n",
              "      <th>15.791667</th>\n",
              "      <td>T</td>\n",
              "    </tr>\n",
              "    <tr>\n",
              "      <th>15.833333</th>\n",
              "      <td>T</td>\n",
              "    </tr>\n",
              "    <tr>\n",
              "      <th>15.875000</th>\n",
              "      <td>T</td>\n",
              "    </tr>\n",
              "    <tr>\n",
              "      <th>15.916667</th>\n",
              "      <td>T</td>\n",
              "    </tr>\n",
              "    <tr>\n",
              "      <th>15.958333</th>\n",
              "      <td>T</td>\n",
              "    </tr>\n",
              "  </tbody>\n",
              "</table>\n",
              "<p>384 rows × 1 columns</p>\n",
              "</div><br><label><b>dtype:</b> object</label>"
            ]
          },
          "metadata": {},
          "execution_count": 7
        }
      ],
      "source": [
        "tavernList[0].functions(snap_to=mask)"
      ],
      "id": "HTnF3u_0hpRd"
    },
    {
      "cell_type": "markdown",
      "metadata": {
        "id": "0250231f-dba9-4c7d-9194-c0d3b14f1159"
      },
      "source": [
        "To save any of these to a csv file, just use panda's to_csv method. You may want to remove the column labels (\"header\" argument) and the index. Let's save it to the \"output_files\" folder visible in the file browser on the right."
      ],
      "id": "0250231f-dba9-4c7d-9194-c0d3b14f1159"
    },
    {
      "cell_type": "code",
      "execution_count": 8,
      "metadata": {
        "id": "401a7ec7-e8ca-4944-ab81-8b9083cae543"
      },
      "outputs": [],
      "source": [
        "piece.sampled().to_csv('/content/pyAMPACTtutorials/output_files/Mozart_piece_mask.csv', header=False, index=False)"
      ],
      "id": "401a7ec7-e8ca-4944-ab81-8b9083cae543"
    }
  ],
  "metadata": {
    "colab": {
      "provenance": [],
      "include_colab_link": true
    },
    "kernelspec": {
      "display_name": "Python 3 (ipykernel)",
      "language": "python",
      "name": "python3"
    },
    "language_info": {
      "codemirror_mode": {
        "name": "ipython",
        "version": 3
      },
      "file_extension": ".py",
      "mimetype": "text/x-python",
      "name": "python",
      "nbconvert_exporter": "python",
      "pygments_lexer": "ipython3",
      "version": "3.10.11"
    }
  },
  "nbformat": 4,
  "nbformat_minor": 5
}