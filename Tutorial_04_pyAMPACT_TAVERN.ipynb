{
  "cells": [
    {
      "cell_type": "markdown",
      "metadata": {
        "id": "view-in-github",
        "colab_type": "text"
      },
      "source": [
        "<a href=\"https://colab.research.google.com/github/jcdevaney/pyAMPACTtutorials/blob/main/Tutorial_04_pyAMPACT_TAVERN.ipynb\" target=\"_parent\"><img src=\"https://colab.research.google.com/assets/colab-badge.svg\" alt=\"Open In Colab\"/></a>"
      ]
    },
    {
      "cell_type": "markdown",
      "metadata": {
        "id": "ef2a9751-f3d7-45b9-8e94-3822cf25528d"
      },
      "source": [
        "<h1>Parsing TAVERN using pyAMPACT</h1>\n",
        "\n",
        "This notebook gives a quick demonstration of how to run some of pyAMPACT's primary functions and save the generated tables to csv files. Feel free to use this notebook as a way to create csv files of the results and save them locally. It's meant to be used on colab [here](https://colab.research.google.com/github/alexandermorgan/AMPACT/blob/main/AMPACT_Quick_Ref_Colab.ipynb#scrollTo=401a7ec7-e8ca-4944-ab81-8b9083cae543).\n",
        "\n",
        "<h2>Import a the repo and create a Score object</h2>\n",
        "\n",
        "You can import any type of symoblic notation file that music21 imports (kern, xml, mei, midi, abc, etc.). If you clone the repo your computer, you can import pieces locally from your computer. It's also convenient to import a piece from a url. Let's import one of the pieces from the TAVERN database and store the Score object to a variable called \"piece\". Note that if you're getting a file from github, make sure you use the \"raw\" link."
      ],
      "id": "ef2a9751-f3d7-45b9-8e94-3822cf25528d"
    },
    {
      "cell_type": "code",
      "execution_count": 1,
      "metadata": {
        "colab": {
          "base_uri": "https://localhost:8080/"
        },
        "id": "Wu-fJ4iVi5-3",
        "outputId": "2b4d8169-5e5d-4027-90be-ea092a330841"
      },
      "outputs": [
        {
          "output_type": "stream",
          "name": "stdout",
          "text": [
            "Cloning into 'pyAMPACTtutorials'...\n",
            "remote: Enumerating objects: 968, done.\u001b[K\n",
            "remote: Counting objects: 100% (99/99), done.\u001b[K\n",
            "remote: Compressing objects: 100% (24/24), done.\u001b[K\n",
            "remote: Total 968 (delta 90), reused 75 (delta 75), pack-reused 869 (from 1)\u001b[K\n",
            "Receiving objects: 100% (968/968), 147.09 MiB | 16.73 MiB/s, done.\n",
            "Resolving deltas: 100% (442/442), done.\n",
            "Updating files: 100% (535/535), done.\n",
            "Importing libraries...\n",
            "0.0.2\n"
          ]
        }
      ],
      "source": [
        "!git clone https://github.com/jcdevaney/pyAMPACTtutorials.git\n",
        "\n",
        "from IPython.utils import io\n",
        "print('Importing libraries...')\n",
        "with io.capture_output() as captured:\n",
        "   !pip install --upgrade pandas\n",
        "   !pip install mido\n",
        "   !pip install pyampact\n",
        "   import pyampact\n",
        "print(pyampact.__version__)\n",
        "\n",
        "import os\n",
        "import pandas as pd\n",
        "import matplotlib.pyplot as plt\n",
        "import matplotlib.image as mpimg"
      ],
      "id": "Wu-fJ4iVi5-3"
    },
    {
      "cell_type": "code",
      "execution_count": 2,
      "metadata": {
        "id": "4TT1EaqEasUj"
      },
      "outputs": [],
      "source": [
        "parent_dir = '/content/pyAMPACTtutorials/test_files/'\n",
        "tavernList = []\n",
        "errorList = []\n",
        "\n",
        "krn_dir = os.path.join(parent_dir, 'B063', 'Stripped')\n",
        "audio_dir = os.path.join(parent_dir, 'B063', 'Audio')\n",
        "\n",
        "# Check if the audio directory exists\n",
        "if os.path.exists(krn_dir):\n",
        "    # Get the list of audio files in the audio directory\n",
        "    kern_files = os.listdir(krn_dir)\n",
        "\n",
        "    for kern_file in kern_files:\n",
        "      align = []\n",
        "      kern = os.path.join(krn_dir, kern_file)\n",
        "      piece = pyampact.Score(kern)\n",
        "\n",
        "      audio_file = kern_file.rsplit(\"_\", 1)[0] + \".wav\"\n",
        "      audio = os.path.join(audio_dir, audio_file)\n",
        "      #y, original_sr = custom_audioread(audio)\n",
        "      y, original_sr = pyampact.load_audiofile(audio)\n",
        "\n",
        "      try:\n",
        "        piece.dtw, piece.spec, nmat = pyampact.run_alignment(y, original_sr, piece, piece.nmats())\n",
        "      except:\n",
        "        errorList.append(audio_file)\n",
        "\n",
        "      tavernList.append(piece)\n"
      ],
      "id": "4TT1EaqEasUj"
    },
    {
      "cell_type": "code",
      "execution_count": 4,
      "metadata": {
        "colab": {
          "base_uri": "https://localhost:8080/",
          "height": 487
        },
        "id": "4vOWFQIfgMMM",
        "outputId": "b4e883d1-d650-4b13-96c7-ee237e86a920"
      },
      "outputs": [
        {
          "output_type": "display_data",
          "data": {
            "text/plain": [
              "<Figure size 640x480 with 2 Axes>"
            ],
            "image/png": "[encoded data removed]"
          },
          "metadata": {}
        }
      ],
      "source": [
        "# Plot piano roll and mask with 4 harmonics and a bin width of 0\n",
        "pianoRoll = tavernList[0].pianoRoll()\n",
        "mask = tavernList[0].mask(num_harmonics=4, width=0)\n",
        "\n",
        "graph, (plot1, plot2) = plt.subplots(1, 2)\n",
        "\n",
        "# plot1 graph for normal axes\n",
        "plot1.imshow(pianoRoll)\n",
        "plot1.set_title(tavernList[0].fileName + ' piano roll')\n",
        "plot1.invert_yaxis()\n",
        "\n",
        "# plot2 graph for inverted axes\n",
        "plot2.imshow(mask)\n",
        "plot2.set_title(tavernList[0].fileName + ' note mask')\n",
        "plot2.invert_yaxis()\n",
        "\n",
        "# display the graph\n",
        "graph.tight_layout()\n",
        "plt.show()"
      ],
      "id": "4vOWFQIfgMMM"
    },
    {
      "cell_type": "markdown",
      "metadata": {
        "id": "MizgfWYRks4a"
      },
      "source": [
        "There are three types of annotations in TAVERN: keys (keys), chords (harmonies), and harmonic functions (functions)\n",
        "\n",
        "The snap_to argument specifies which repsentation the annotations will be aligned to (e.g., mask or piano roll)"
      ],
      "id": "MizgfWYRks4a"
    },
    {
      "cell_type": "code",
      "execution_count": 5,
      "metadata": {
        "id": "SzcVJJNHXAHd",
        "colab": {
          "base_uri": "https://localhost:8080/",
          "height": 458
        },
        "outputId": "58fdac7a-1e02-4a5f-caaf-751960a8c0b2"
      },
      "outputs": [
        {
          "output_type": "execute_result",
          "data": {
            "text/plain": [
              "0.000000     c\n",
              "0.041667     c\n",
              "0.083333     c\n",
              "0.125000     c\n",
              "0.166667     c\n",
              "            ..\n",
              "15.791667    c\n",
              "15.833333    c\n",
              "15.875000    c\n",
              "15.916667    c\n",
              "15.958333    c\n",
              "Name: keys, Length: 384, dtype: object"
            ],
            "text/html": [
              "<div>\n",
              "<style scoped>\n",
              "    .dataframe tbody tr th:only-of-type {\n",
              "        vertical-align: middle;\n",
              "    }\n",
              "\n",
              "    .dataframe tbody tr th {\n",
              "        vertical-align: top;\n",
              "    }\n",
              "\n",
              "    .dataframe thead th {\n",
              "        text-align: right;\n",
              "    }\n",
              "</style>\n",
              "<table border=\"1\" class=\"dataframe\">\n",
              "  <thead>\n",
              "    <tr style=\"text-align: right;\">\n",
              "      <th></th>\n",
              "      <th>keys</th>\n",
              "    </tr>\n",
              "  </thead>\n",
              "  <tbody>\n",
              "    <tr>\n",
              "      <th>0.000000</th>\n",
              "      <td>c</td>\n",
              "    </tr>\n",
              "    <tr>\n",
              "      <th>0.041667</th>\n",
              "      <td>c</td>\n",
              "    </tr>\n",
              "    <tr>\n",
              "      <th>0.083333</th>\n",
              "      <td>c</td>\n",
              "    </tr>\n",
              "    <tr>\n",
              "      <th>0.125000</th>\n",
              "      <td>c</td>\n",
              "    </tr>\n",
              "    <tr>\n",
              "      <th>0.166667</th>\n",
              "      <td>c</td>\n",
              "    </tr>\n",
              "    <tr>\n",
              "      <th>...</th>\n",
              "      <td>...</td>\n",
              "    </tr>\n",
              "    <tr>\n",
              "      <th>15.791667</th>\n",
              "      <td>c</td>\n",
              "    </tr>\n",
              "    <tr>\n",
              "      <th>15.833333</th>\n",
              "      <td>c</td>\n",
              "    </tr>\n",
              "    <tr>\n",
              "      <th>15.875000</th>\n",
              "      <td>c</td>\n",
              "    </tr>\n",
              "    <tr>\n",
              "      <th>15.916667</th>\n",
              "      <td>c</td>\n",
              "    </tr>\n",
              "    <tr>\n",
              "      <th>15.958333</th>\n",
              "      <td>c</td>\n",
              "    </tr>\n",
              "  </tbody>\n",
              "</table>\n",
              "<p>384 rows × 1 columns</p>\n",
              "</div><br><label><b>dtype:</b> object</label>"
            ]
          },
          "metadata": {},
          "execution_count": 5
        }
      ],
      "source": [
        "tavernList[0].keys(snap_to=mask)"
      ],
      "id": "SzcVJJNHXAHd"
    },
    {
      "cell_type": "code",
      "source": [
        "tavernList[0].harm(snap_to=mask)"
      ],
      "metadata": {
        "id": "u5JRGE3ptTbk",
        "colab": {
          "base_uri": "https://localhost:8080/"
        },
        "outputId": "d487c624-e647-43ae-83e6-c697760fa714"
      },
      "id": "u5JRGE3ptTbk",
      "execution_count": 6,
      "outputs": [
        {
          "output_type": "execute_result",
          "data": {
            "text/plain": [
              "array(['III', 'III', 'III', 'III', 'III', 'III', 'III', 'III', 'III',\n",
              "       'III', 'III', 'III', 'III', 'III', 'III', 'III', 'III', 'III',\n",
              "       'III', 'III', 'III', 'III', 'III', 'III', 'III', 'III', 'III',\n",
              "       'III', 'III', 'III', 'III', 'III', 'III', 'III', 'III', 'III',\n",
              "       'III', 'III', 'III', 'III', 'III', 'III', 'III', 'III', 'III',\n",
              "       'III', 'III', 'III', 'Vb/iv', 'Vb/iv', 'Vb/iv', 'Vb/iv', 'Vb/iv',\n",
              "       'Vb/iv', 'Vb/iv', 'Vb/iv', 'Vb/iv', 'Vb/iv', 'Vb/iv', 'Vb/iv',\n",
              "       'Vb/iv', 'Vb/iv', 'Vb/iv', 'Vb/iv', 'Vb/iv', 'Vb/iv', 'Vb/iv',\n",
              "       'Vb/iv', 'Vb/iv', 'Vb/iv', 'Vb/iv', 'Vb/iv', 'Vb/iv', 'Vb/iv',\n",
              "       'Vb/iv', 'Vb/iv', 'Vb/iv', 'Vb/iv', 'Vb/iv', 'Vb/iv', 'Vb/iv',\n",
              "       'Vb/iv', 'Vb/iv', 'Vb/iv', 'Vb/iv', 'Vb/iv', 'Vb/iv', 'Vb/iv',\n",
              "       'Vb/iv', 'Vb/iv', 'Vb/iv', 'Vb/iv', 'Vb/iv', 'Vb/iv', 'Vb/iv',\n",
              "       'Vb/iv', 'iv', 'iv', 'iv', 'iv', 'iv', 'iv', 'iv', 'iv', 'iv',\n",
              "       'iv', 'iv', 'iv', 'iv', 'iv', 'iv', 'iv', 'iv', 'iv', 'iv', 'iv',\n",
              "       'iv', 'iv', 'iv', 'iv', 'iv', 'iv', 'iv', 'iv', 'iv', 'iv', 'iv',\n",
              "       'iv', 'iv', 'iv', 'iv', 'iv', 'iv', 'iv', 'iv', 'iv', 'iv', 'iv',\n",
              "       'iv', 'iv', 'iv', 'iv', 'iv', 'iv', 'iv', 'iv', 'iv', 'iv', 'iv',\n",
              "       'iv', 'iv', 'iv', 'iv', 'iv', 'iv', 'iv', 'iv', 'iv', 'iv', 'iv',\n",
              "       'iv', 'iv', 'iv', 'iv', 'iv', 'iv', 'iv', 'iv', 'iv', 'iv', 'iv',\n",
              "       'iv', 'iv', 'iv', 'iv', 'iv', 'iv', 'iv', 'iv', 'iv', 'iv', 'iv',\n",
              "       'iv', 'iv', 'iv', 'iv', 'iv', 'iv', 'iv', 'iv', 'iv', 'iv', 'ib',\n",
              "       'ib', 'ib', 'ib', 'ib', 'ib', 'ib', 'ib', 'ib', 'ib', 'ib', 'ib',\n",
              "       'ib', 'ib', 'ib', 'ib', 'ib', 'ib', 'ib', 'ib', 'ib', 'ib', 'ib',\n",
              "       'ib', 'ib', 'ib', 'ib', 'ib', 'ib', 'ib', 'ib', 'ib', 'ib', 'ib',\n",
              "       'ib', 'ib', 'ib', 'ib', 'ib', 'ib', 'ib', 'ib', 'ib', 'ib', 'ib',\n",
              "       'ib', 'ib', 'ib', 'iv', 'iv', 'iv', 'iv', 'iv', 'iv', 'iv', 'iv',\n",
              "       'iv', 'iv', 'iv', 'iv', 'iv', 'iv', 'iv', 'iv', 'iv', 'iv', 'iv',\n",
              "       'iv', 'iv', 'iv', 'iv', 'iv', 'Vb/V', 'Vb/V', 'Vb/V', 'Vb/V',\n",
              "       'Vb/V', 'Vb/V', 'Vb/V', 'Vb/V', 'Vb/V', 'Vb/V', 'Vb/V', 'Vb/V',\n",
              "       'Vb/V', 'Vb/V', 'Vb/V', 'Vb/V', 'Vb/V', 'Vb/V', 'Vb/V', 'Vb/V',\n",
              "       'Vb/V', 'Vb/V', 'Vb/V', 'Vb/V', 'V', 'V', 'V', 'V', 'V', 'V', 'V',\n",
              "       'V', 'V', 'V', 'V', 'V', 'V', 'V', 'V', 'V', 'V', 'V', 'V', 'V',\n",
              "       'V', 'V', 'V', 'V', 'V', 'V', 'V', 'V', 'V', 'V', 'V', 'V', 'V',\n",
              "       'V', 'V', 'V', 'V', 'V', 'V', 'V', 'V', 'V', 'V', 'V', 'V', 'V',\n",
              "       'V', 'V', 'V', 'V', 'V', 'V', 'V', 'V', 'V', 'V', 'V', 'V', 'V',\n",
              "       'V', 'V', 'V', 'V', 'V', 'V', 'V', 'V', 'V', 'V', 'V', 'V', 'V',\n",
              "       'V', 'V', 'V', 'V', 'V', 'V', 'V', 'V', 'V', 'V', 'V', 'V', 'V',\n",
              "       'V', 'V', 'V', 'V', 'V', 'V', 'V', 'V', 'V', 'V', 'V'],\n",
              "      dtype=object)"
            ]
          },
          "metadata": {},
          "execution_count": 6
        }
      ]
    },
    {
      "cell_type": "code",
      "execution_count": 7,
      "metadata": {
        "id": "HTnF3u_0hpRd",
        "colab": {
          "base_uri": "https://localhost:8080/",
          "height": 458
        },
        "outputId": "0675f787-788b-40ae-a9af-63e90cc8197c"
      },
      "outputs": [
        {
          "output_type": "execute_result",
          "data": {
            "text/plain": [
              "0.000000     T\n",
              "0.041667     T\n",
              "0.083333     T\n",
              "0.125000     T\n",
              "0.166667     T\n",
              "            ..\n",
              "15.791667    D\n",
              "15.833333    D\n",
              "15.875000    D\n",
              "15.916667    D\n",
              "15.958333    D\n",
              "Name: Function, Length: 384, dtype: object"
            ],
            "text/html": [
              "<div>\n",
              "<style scoped>\n",
              "    .dataframe tbody tr th:only-of-type {\n",
              "        vertical-align: middle;\n",
              "    }\n",
              "\n",
              "    .dataframe tbody tr th {\n",
              "        vertical-align: top;\n",
              "    }\n",
              "\n",
              "    .dataframe thead th {\n",
              "        text-align: right;\n",
              "    }\n",
              "</style>\n",
              "<table border=\"1\" class=\"dataframe\">\n",
              "  <thead>\n",
              "    <tr style=\"text-align: right;\">\n",
              "      <th></th>\n",
              "      <th>Function</th>\n",
              "    </tr>\n",
              "  </thead>\n",
              "  <tbody>\n",
              "    <tr>\n",
              "      <th>0.000000</th>\n",
              "      <td>T</td>\n",
              "    </tr>\n",
              "    <tr>\n",
              "      <th>0.041667</th>\n",
              "      <td>T</td>\n",
              "    </tr>\n",
              "    <tr>\n",
              "      <th>0.083333</th>\n",
              "      <td>T</td>\n",
              "    </tr>\n",
              "    <tr>\n",
              "      <th>0.125000</th>\n",
              "      <td>T</td>\n",
              "    </tr>\n",
              "    <tr>\n",
              "      <th>0.166667</th>\n",
              "      <td>T</td>\n",
              "    </tr>\n",
              "    <tr>\n",
              "      <th>...</th>\n",
              "      <td>...</td>\n",
              "    </tr>\n",
              "    <tr>\n",
              "      <th>15.791667</th>\n",
              "      <td>D</td>\n",
              "    </tr>\n",
              "    <tr>\n",
              "      <th>15.833333</th>\n",
              "      <td>D</td>\n",
              "    </tr>\n",
              "    <tr>\n",
              "      <th>15.875000</th>\n",
              "      <td>D</td>\n",
              "    </tr>\n",
              "    <tr>\n",
              "      <th>15.916667</th>\n",
              "      <td>D</td>\n",
              "    </tr>\n",
              "    <tr>\n",
              "      <th>15.958333</th>\n",
              "      <td>D</td>\n",
              "    </tr>\n",
              "  </tbody>\n",
              "</table>\n",
              "<p>384 rows × 1 columns</p>\n",
              "</div><br><label><b>dtype:</b> object</label>"
            ]
          },
          "metadata": {},
          "execution_count": 7
        }
      ],
      "source": [
        "tavernList[0].functions(snap_to=mask)"
      ],
      "id": "HTnF3u_0hpRd"
    },
    {
      "cell_type": "markdown",
      "metadata": {
        "id": "0250231f-dba9-4c7d-9194-c0d3b14f1159"
      },
      "source": [
        "To save any of these to a csv file, just use panda's to_csv method. You may want to remove the column labels (\"header\" argument) and the index. Let's save it to the \"output_files\" folder visible in the file browser on the right."
      ],
      "id": "0250231f-dba9-4c7d-9194-c0d3b14f1159"
    },
    {
      "cell_type": "code",
      "execution_count": 8,
      "metadata": {
        "id": "401a7ec7-e8ca-4944-ab81-8b9083cae543"
      },
      "outputs": [],
      "source": [
        "piece.sampled().to_csv('/content/pyAMPACTtutorials/output_files/Mozart_piece_mask.csv', header=False, index=False)"
      ],
      "id": "401a7ec7-e8ca-4944-ab81-8b9083cae543"
    }
  ],
  "metadata": {
    "colab": {
      "provenance": [],
      "include_colab_link": true
    },
    "kernelspec": {
      "display_name": "Python 3 (ipykernel)",
      "language": "python",
      "name": "python3"
    },
    "language_info": {
      "codemirror_mode": {
        "name": "ipython",
        "version": 3
      },
      "file_extension": ".py",
      "mimetype": "text/x-python",
      "name": "python",
      "nbconvert_exporter": "python",
      "pygments_lexer": "ipython3",
      "version": "3.10.11"
    }
  },
  "nbformat": 4,
  "nbformat_minor": 5
}