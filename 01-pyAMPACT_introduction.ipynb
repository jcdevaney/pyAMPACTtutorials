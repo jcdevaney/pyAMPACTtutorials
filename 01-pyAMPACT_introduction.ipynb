{
  "cells": [
    {
      "cell_type": "markdown",
      "metadata": {
        "id": "view-in-github",
        "colab_type": "text"
      },
      "source": [
        "<a href=\"https://colab.research.google.com/github/jcdevaney/pyAMPACTtutorials/blob/main/01-pyAMPACT_introduction.ipynb\" target=\"_parent\"><img src=\"https://colab.research.google.com/assets/colab-badge.svg\" alt=\"Open In Colab\"/></a>"
      ]
    },
    {
      "cell_type": "markdown",
      "id": "4c5ed9bd-dd5b-406f-89a6-f40cf7bbce41",
      "metadata": {
        "id": "4c5ed9bd-dd5b-406f-89a6-f40cf7bbce41"
      },
      "source": [
        "<h1>pyAMPACT Introduction</h1>"
      ]
    },
    {
      "cell_type": "code",
      "execution_count": 8,
      "id": "a1509e57-aa7e-4c0a-99c3-26e02c565a6e",
      "metadata": {
        "id": "a1509e57-aa7e-4c0a-99c3-26e02c565a6e",
        "outputId": "3d5b7c03-9573-42c1-ec00-f5883c24608b",
        "colab": {
          "base_uri": "https://localhost:8080/"
        }
      },
      "outputs": [
        {
          "output_type": "stream",
          "name": "stdout",
          "text": [
            "fatal: destination path 'pyAMPACTtutorials' already exists and is not an empty directory.\n",
            "Importing libraries...\n"
          ]
        }
      ],
      "source": [
        "!git clone https://github.com/jcdevaney/pyAMPACTtutorials.git\n",
        "from IPython.utils import io\n",
        "print('Importing libraries...')\n",
        "with io.capture_output() as captured:\n",
        "    !pip install --upgrade pandas\n",
        "    !pip install -i https://test.pypi.org/simple/ --no-deps pyampact\n",
        "    import pyampact\n",
        "import pandas as pd\n",
        "import numpy as np\n",
        "import librosa"
      ]
    },
    {
      "cell_type": "markdown",
      "source": [
        "Load audio with librosa and symbolic files with pyAMPACT's `Score` function. Audio files can be any format supported by librosa (wav, mp3, flac, ogg, etc.) and symbolic files can be any format supported by music21 (kern, xml, mei, midi, abc, etc.)."
      ],
      "metadata": {
        "id": "GhIw0NxUfqyH"
      },
      "id": "GhIw0NxUfqyH"
    },
    {
      "cell_type": "code",
      "source": [
        "audio_file = '/content/pyAMPACTtutorials/test_files/Mozart_K179_seg.wav'\n",
        "score_file = '/content/pyAMPACTtutorials/test_files/Mozart_K179_seg.krn'\n",
        "\n",
        "y, original_sr = librosa.load(audio_file)\n",
        "\n",
        "piece = pyampact.Score(score_file)"
      ],
      "metadata": {
        "id": "OpdmrJcCfL_i"
      },
      "id": "OpdmrJcCfL_i",
      "execution_count": 9,
      "outputs": []
    },
    {
      "cell_type": "markdown",
      "source": [
        "Run the alignment with pyampact's `run_alignment` function.\n",
        "\n"
      ],
      "metadata": {
        "id": "AMW0icJ_g6gm"
      },
      "id": "AMW0icJ_g6gm"
    },
    {
      "cell_type": "code",
      "source": [
        "# You can specify the target sample rate (target_sr), window size in\n",
        "# milliseconds (win_ms), the hop size (hop_length) as well as arguments\n",
        "# that dictate the way that the symbolic file is represented as a\n",
        "# spectrogram-like mask: the bin width of each note/harmonic (width)\n",
        "# and the number of harmonics (n_harm).\n",
        "target_sr = 4000\n",
        "win_ms = 100\n",
        "hop_length = 32\n",
        "width = 3\n",
        "n_harm = 3\n",
        "\n",
        "# Visualize the alignment with True flag\n",
        "\n",
        "res, dtw, spec, nmat = pyampact.run_alignment(\n",
        "    y, original_sr, piece, piece.nmats(), width, target_sr, n_harm, win_ms, hop_length)"
      ],
      "metadata": {
        "id": "xBVKgDIHfdg5"
      },
      "id": "xBVKgDIHfdg5",
      "execution_count": 10,
      "outputs": []
    },
    {
      "cell_type": "markdown",
      "source": [
        "Estimate performance paramters.\n",
        "\n",
        "THIS IS NOT WORKING"
      ],
      "metadata": {
        "id": "brYkE-tPhqfS"
      },
      "id": "brYkE-tPhqfS"
    },
    {
      "cell_type": "code",
      "source": [
        "# This is just calculating a single F0 for each frame, but separate F0s need to be calculated\n",
        "# for each polyphonic note (as per https://github.com/jcdevaney/AMPACT-working/blob/main/f0EstWeightedSumSpec.m)\n",
        "# A spectrum also need to be calculated and return for estimating timbral parameters\n",
        "# The NMAT looped through and the onset, offset, and MIDI note passed to the calculate_f0_est function\n",
        "# [f0{v}{loc}, pwr{v}{loc}, t{v}{loc}, M{v}{loc}, xf{v}{loc}] = f0EstWeightedSumSpec(audiofile, ons(loc), offs(loc), nmat{v}(n,4));\n",
        "# In the original MATLAB code there was a separate NMAT for each part/voice (v) this can be done by creating a dictionary\n",
        "# out of the nmat\n",
        "#   nmat_dict = piece.nmats()\n",
        "#   nmat_dict['Part-1']\n",
        "\n",
        "def f0EstWeightedSumSpec(audio_file, hop_length, win_ms, target_sr):\n",
        "    freqs, times, mags, f0_values, mags_mat = pyampact.ifgram(audiofile=audio_file, tsr=target_sr, win_ms=win_ms)\n",
        "    mags_db = librosa.amplitude_to_db(mags, ref=np.max)\n",
        "    f0_values, sig_pwr = pyampact.calculate_f0_est(audio_file, hop_length, win_ms, target_sr)\n",
        "    sig_pwr = mags ** 2 # power of signal, magnitude/amplitude squared\n",
        "    # Prune NaN and zero values from estimated F0 and power\n",
        "    f0_values = f0_values[~np.isnan(f0_values)]\n",
        "    sig_pwr = sig_pwr[sig_pwr != 0]\n",
        "\n",
        "    return f0_values, sig_pwr, mags_mat\n",
        "\n",
        "f0_values, sig_pwr, mags_mat = f0EstWeightedSumSpec(audio_file, hop_length, win_ms, target_sr)"
      ],
      "metadata": {
        "id": "Q3h_oMh9ht00"
      },
      "id": "Q3h_oMh9ht00",
      "execution_count": 11,
      "outputs": []
    },
    {
      "cell_type": "markdown",
      "source": [
        "Compile estimated performance parameters"
      ],
      "metadata": {
        "id": "WTECcxItin5_"
      },
      "id": "WTECcxItin5_"
    },
    {
      "cell_type": "code",
      "source": [
        "pyampact.data_compilation(f0_values, sig_pwr, mags_mat, nmat, target_sr, hop_length, y, audio_file)"
      ],
      "metadata": {
        "id": "a7nwehYBiqpr"
      },
      "id": "a7nwehYBiqpr",
      "execution_count": null,
      "outputs": []
    },
    {
      "cell_type": "code",
      "source": [
        "piece.nmats()"
      ],
      "metadata": {
        "id": "QbBQNRPZLDH_",
        "outputId": "ddc74be9-ce01-4786-9752-4b367619d0f2",
        "colab": {
          "base_uri": "https://localhost:8080/"
        }
      },
      "id": "QbBQNRPZLDH_",
      "execution_count": 15,
      "outputs": [
        {
          "output_type": "execute_result",
          "data": {
            "text/plain": [
              "{'Part-1':                  MEASURE     ONSET  DURATION    PART  MIDI  ONSET_SEC  \\\n",
              " XML_ID                                                                  \n",
              " 134376443559312        1   0.00000   2.00000  Part-1  79.0    0.00000   \n",
              " 134376443557968        1   2.00000   0.25000  Part-1  77.0    2.00000   \n",
              " 134376443551056        1   2.25000   0.25000  Part-1  76.0    2.25000   \n",
              " 134376443544576        1   2.50000   0.25000  Part-1  74.0    2.50000   \n",
              " 134376443556864        1   2.75000   0.25000  Part-1  72.0    2.75000   \n",
              " 134376443554320        2   3.00000   0.50000  Part-1  79.0    3.00000   \n",
              " 134376443554368        2   3.50000   0.50000  Part-1  77.0    3.50000   \n",
              " 134376443553888        2   4.00000   1.50000  Part-1  74.0    4.00000   \n",
              " 134376443556624        2   5.50000   0.50000  Part-1  77.0    5.50000   \n",
              " 134376443555568        3   6.00000   0.33333  Part-1  76.0    6.00000   \n",
              " 134376443546976        3   6.33333   0.33333  Part-1  79.0    6.33333   \n",
              " 134376443558064        3   6.66667   0.33333  Part-1  81.0    6.66667   \n",
              " 134376443557728        3   7.00000   1.00000  Part-1  72.0    7.00000   \n",
              " 134376443545152        3   8.00000   1.00000  Part-1  71.0    8.00000   \n",
              " 134376443558880        4   9.00000   1.00000  Part-1  71.0    9.00000   \n",
              " 134376443550816        4  10.00000   1.00000  Part-1  72.0   10.00000   \n",
              " \n",
              "                  OFFSET_SEC     ppitch1     ppitch2      jitter  vibratoDepth  \\\n",
              " XML_ID                                                                          \n",
              " 134376443559312     2.00000  527.835052  508.205128   44.227642    194.896144   \n",
              " 134376443557968     2.25000  673.846154  680.000000    2.857143     15.077818   \n",
              " 134376443551056     2.50000  640.000000  640.000000   90.666667     85.679579   \n",
              " 134376443544576     2.75000  528.000000  530.000000   34.666667     53.457304   \n",
              " 134376443556864     3.00000  649.230769  664.000000   17.142857    153.068356   \n",
              " 134376443554320     3.50000  732.413793  734.545455    2.666667     45.803170   \n",
              " 134376443554368     4.00000  667.272727  673.684211   26.666667     49.395733   \n",
              " 134376443553888     5.50000  446.349206  440.769231   86.021505    164.733479   \n",
              " 134376443556624     6.00000  504.761905  540.000000   69.333333    223.224449   \n",
              " 134376443555568     6.33333  754.285714  753.846154   54.736842     88.922463   \n",
              " 134376443546976     6.66666  664.000000  730.000000   70.000000    231.319258   \n",
              " 134376443558064     7.00000  536.000000  540.000000  108.000000    215.591961   \n",
              " 134376443557728     8.00000  438.000000  467.500000   41.967213     80.123692   \n",
              " 134376443545152     9.00000  475.454545  472.631579   29.508197     29.362655   \n",
              " 134376443558880    10.00000  440.000000  470.000000   89.836066     96.790988   \n",
              " 134376443550816    11.00000  349.387755  339.487179   45.161290    161.682556   \n",
              " \n",
              "                  vibratoRate  \\\n",
              " XML_ID                         \n",
              " 134376443559312     1.008065   \n",
              " 134376443557968     8.333333   \n",
              " 134376443551056    15.625000   \n",
              " 134376443544576     7.812500   \n",
              " 134376443556864     8.333333   \n",
              " 134376443554320     4.032258   \n",
              " 134376443554368     4.032258   \n",
              " 134376443553888     1.329787   \n",
              " 134376443556624     4.032258   \n",
              " 134376443555568     6.250000   \n",
              " 134376443546976     5.952381   \n",
              " 134376443558064   119.047619   \n",
              " 134376443557728     4.032258   \n",
              " 134376443545152   122.983871   \n",
              " 134376443558880     6.048387   \n",
              " 134376443550816     1.984127   \n",
              " \n",
              "                                                            pwrVals     avgPwr  \\\n",
              " XML_ID                                                                          \n",
              " 134376443559312  [ -7.455658  -23.249374  -14.911608  -20.11124... -15.988544   \n",
              " 134376443557968                                                 [] -12.815935   \n",
              " 134376443551056                                                 [] -12.084114   \n",
              " 134376443544576                                                 []  -9.046865   \n",
              " 134376443556864                                                 [] -11.063274   \n",
              " 134376443554320                                                 [] -14.404490   \n",
              " 134376443554368                                                 [] -13.870515   \n",
              " 134376443553888                                                 [] -13.762147   \n",
              " 134376443556624                                                 [] -10.746541   \n",
              " 134376443555568                                                 []  -5.872348   \n",
              " 134376443546976                                                 []  -8.441225   \n",
              " 134376443558064                                                 [] -10.533014   \n",
              " 134376443557728                                                 [] -13.603673   \n",
              " 134376443545152                                                 [] -12.930343   \n",
              " 134376443558880                                                 []  -9.637385   \n",
              " 134376443550816                                                 [] -11.962843   \n",
              " \n",
              "                    shimmer  specCentMean  meanSpecSlope  meanSpecFlux  \\\n",
              " XML_ID                                                                  \n",
              " 134376443559312   9.103174    781.891202      -0.007523      1.417650   \n",
              " 134376443557968  11.319239    781.891202      -0.002924      0.091031   \n",
              " 134376443551056  11.823729    781.891202      -0.029891      0.174936   \n",
              " 134376443544576   6.240475    781.891202      -0.007306      0.032707   \n",
              " 134376443556864   5.299646    781.891202       0.003526      0.017857   \n",
              " 134376443554320   8.555464    781.891202      -0.001915      0.014831   \n",
              " 134376443554368   6.402955    781.891202       0.001879      0.017574   \n",
              " 134376443553888   5.074931    781.891202      -0.000073      0.001882   \n",
              " 134376443556624   3.761696    781.891202       0.000457      0.000651   \n",
              " 134376443555568   3.272092    781.891202       0.001212      0.000825   \n",
              " 134376443546976   5.976403    781.891202       0.000967      0.000602   \n",
              " 134376443558064   2.567313    781.891202       0.000697      0.000493   \n",
              " 134376443557728   4.829343    781.891202      -0.000214      0.000293   \n",
              " 134376443545152  12.624782    781.891202      -0.000046      0.000078   \n",
              " 134376443558880   8.280148    781.891202      -0.000023      0.000020   \n",
              " 134376443550816  12.109227    781.891202       0.000014      0.000019   \n",
              " \n",
              "                  meanSpecFlat  \n",
              " XML_ID                         \n",
              " 134376443559312      0.050836  \n",
              " 134376443557968      0.225666  \n",
              " 134376443551056      0.131602  \n",
              " 134376443544576      0.218311  \n",
              " 134376443556864      0.294438  \n",
              " 134376443554320      0.109201  \n",
              " 134376443554368      0.185207  \n",
              " 134376443553888      0.077326  \n",
              " 134376443556624      0.200964  \n",
              " 134376443555568      0.255334  \n",
              " 134376443546976      0.338641  \n",
              " 134376443558064      0.315779  \n",
              " 134376443557728      0.148770  \n",
              " 134376443545152      0.203351  \n",
              " 134376443558880      0.274818  \n",
              " 134376443550816      0.281527  ,\n",
              " 'Part-2':                  MEASURE  ONSET  DURATION    PART  MIDI  ONSET_SEC  \\\n",
              " XML_ID                                                               \n",
              " 134376444598864        1    0.0       1.0  Part-2  48.0        0.0   \n",
              " 134376444599968        1    1.0       1.0  Part-2  52.0        1.0   \n",
              " 134376444599824        1    2.0       1.0  Part-2  48.0        2.0   \n",
              " 134376444600208        2    3.0       1.0  Part-2  50.0        3.0   \n",
              " 134376444599344        2    4.0       1.0  Part-2  47.0        4.0   \n",
              " 134376444599632        2    5.0       1.0  Part-2  43.0        5.0   \n",
              " 134376444595168        3    6.0       0.5  Part-2  50.0        6.0   \n",
              " 134376444592912        3    6.5       0.5  Part-2  53.0        6.5   \n",
              " 134376444604096        3    7.0       1.0  Part-2  55.0        7.0   \n",
              " 134376444605200        3    8.0       1.0  Part-2  43.0        8.0   \n",
              " 134376444600064        4    9.0       1.0  Part-2  48.0        9.0   \n",
              " 134376444595312        4   10.0       1.0  Part-2  43.0       10.0   \n",
              " 134376444592624        4   11.0       1.0  Part-2  36.0       11.0   \n",
              " \n",
              "                  OFFSET_SEC     ppitch1     ppitch2     jitter  vibratoDepth  \\\n",
              " XML_ID                                                                         \n",
              " 134376444598864         1.0  652.500000  667.692308  32.142857    222.682238   \n",
              " 134376444599968         2.0  401.860465  397.837838  47.142857     75.608313   \n",
              " 134376444599824         3.0  594.736842  612.500000  50.714286    117.590532   \n",
              " 134376444600208         4.0  702.222222  720.000000   5.714286     73.722905   \n",
              " 134376444599344         5.0  591.764706  632.857143  95.714286    103.586423   \n",
              " 134376444599632         6.0  380.000000  358.823529  61.428571    249.711618   \n",
              " 134376444595168         6.5  496.000000  520.000000  74.074074    234.619871   \n",
              " 134376444592912         7.0  752.380952  751.578947  40.000000     78.508604   \n",
              " 134376444604096         8.0  531.707317  547.428571  71.428571    155.536202   \n",
              " 134376444605200         9.0  437.777778  460.000000  52.142857     75.505906   \n",
              " 134376444600064        10.0  463.589744  463.529412  23.571429     27.422115   \n",
              " 134376444595312        11.0  400.000000  423.750000  92.857143    129.538440   \n",
              " 134376444592624        12.0  370.232558  364.324324  50.000000    160.928038   \n",
              " \n",
              "                  vibratoRate  \\\n",
              " XML_ID                         \n",
              " 134376444598864     2.192982   \n",
              " 134376444599968   122.807018   \n",
              " 134376444599824     2.192982   \n",
              " 134376444600208   122.807018   \n",
              " 134376444599344    13.157895   \n",
              " 134376444599632     2.192982   \n",
              " 134376444595168     4.464286   \n",
              " 134376444592912     4.310345   \n",
              " 134376444604096   122.807018   \n",
              " 134376444605200     4.385965   \n",
              " 134376444600064   122.807018   \n",
              " 134376444595312     4.385965   \n",
              " 134376444592624     2.192982   \n",
              " \n",
              "                                                            pwrVals     avgPwr  \\\n",
              " XML_ID                                                                          \n",
              " 134376444598864  [ -7.455658  -23.249374  -14.911608  -20.11124... -16.691376   \n",
              " 134376444599968                                                 [] -16.008720   \n",
              " 134376444599824                                                 [] -11.386118   \n",
              " 134376444600208                                                 [] -13.443828   \n",
              " 134376444599344                                                 [] -13.996540   \n",
              " 134376444599632                                                 [] -13.544127   \n",
              " 134376444595168                                                 [] -11.200180   \n",
              " 134376444592912                                                 []  -5.653896   \n",
              " 134376444604096                                                 [] -11.752573   \n",
              " 134376444605200                                                 [] -13.016316   \n",
              " 134376444600064                                                 [] -12.679068   \n",
              " 134376444595312                                                 []  -8.683594   \n",
              " 134376444592624                                                 [] -12.952076   \n",
              " \n",
              "                    shimmer  specCentMean  meanSpecSlope  meanSpecFlux  \\\n",
              " XML_ID                                                                  \n",
              " 134376444598864   9.716568    781.891202       0.038174      1.617201   \n",
              " 134376444599968  10.704512    781.891202      -0.017283      1.756372   \n",
              " 134376444599824   8.362010    781.891202      -0.002645      0.072360   \n",
              " 134376444600208   6.367753    781.891202      -0.000458      0.012413   \n",
              " 134376444599344  30.011000    781.891202      -0.000801      0.008358   \n",
              " 134376444599632   4.507020    781.891202      -0.000526      0.002229   \n",
              " 134376444595168   3.481802    781.891202       0.000846      0.000721   \n",
              " 134376444592912   3.134546    781.891202       0.000199      0.000572   \n",
              " 134376444604096   3.897260    781.891202      -0.000049      0.000548   \n",
              " 134376444605200   5.819564    781.891202       0.000040      0.000093   \n",
              " 134376444600064   4.815517    781.891202      -0.000037      0.000039   \n",
              " 134376444595312   7.652101    781.891202      -0.000048      0.000024   \n",
              " 134376444592624  11.788881    781.891202       0.000021      0.000019   \n",
              " \n",
              "                  meanSpecFlat  \n",
              " XML_ID                         \n",
              " 134376444598864      0.142929  \n",
              " 134376444599968      0.076469  \n",
              " 134376444599824      0.065919  \n",
              " 134376444600208      0.089013  \n",
              " 134376444599344      0.128497  \n",
              " 134376444599632      0.087629  \n",
              " 134376444595168      0.202860  \n",
              " 134376444592912      0.234818  \n",
              " 134376444604096      0.140796  \n",
              " 134376444605200      0.207564  \n",
              " 134376444600064      0.257943  \n",
              " 134376444595312      0.267176  \n",
              " 134376444592624      0.293909  }"
            ]
          },
          "metadata": {},
          "execution_count": 15
        }
      ]
    },
    {
      "cell_type": "markdown",
      "source": [
        "Export estimated performance parameters to a kern or MEI file"
      ],
      "metadata": {
        "id": "lpj83MQxiwCh"
      },
      "id": "lpj83MQxiwCh"
    },
    {
      "cell_type": "code",
      "source": [
        "piece.toKern()"
      ],
      "metadata": {
        "id": "Q2V6ovo0YdR_",
        "colab": {
          "base_uri": "https://localhost:8080/",
          "height": 139
        },
        "outputId": "e7029a96-b769-4783-f882-c20820306b04"
      },
      "id": "Q2V6ovo0YdR_",
      "execution_count": 16,
      "outputs": [
        {
          "output_type": "execute_result",
          "data": {
            "text/plain": [
              "'!!!COM: Mozart\\n!!!OTL: Zwolf Variationen in C uber ein Menuett von Johann Christian Fischer\\n**kern\\t**kern\\n*part2\\t*part1\\n*staff2\\t*staff1\\n*Ivox\\t*Ivox\\n*I\"Part-2\\t*I\"Part-1\\n*I\\'P\\t*I\\'P\\n=1\\t=1\\n*clefF4\\t*clefG2\\n*k[]\\t*k[]\\n*M3/4\\t*M3/4\\n4C\\t2gg\\n4E\\t.\\n4C\\t16ffLL\\n.\\t16ee\\n.\\t16dd\\n.\\t16ccJJ\\n=2\\t=2\\n4D\\t8ggL\\n.\\t8ffJ\\n4BB\\t4.dd\\n4GG\\t.\\n.\\t8ff\\n=3\\t=3\\n8DL\\t12eeL\\n.\\t12gg\\n8FJ\\t.\\n.\\t12aaJ\\n4G\\t4cc\\n4GG\\t4b\\n=4\\t=4\\n4C\\t4b\\n4GG\\t4cc\\n4CC\\t4r\\n==\\t==\\n*-\\t*-\\n!!!RDF**kern: %=rational rhythm\\n!!!RDF**kern: l=long note in original notation\\n!!!RDF**kern: i=editorial accidental\\n!!!ONB: Translated from a krn file on 2024-04-06 via pyAMPACT\\n!!!title: @{OTL}'"
            ],
            "application/vnd.google.colaboratory.intrinsic+json": {
              "type": "string"
            }
          },
          "metadata": {},
          "execution_count": 16
        }
      ]
    },
    {
      "cell_type": "code",
      "source": [
        "piece.toMEI()"
      ],
      "metadata": {
        "id": "ihwvIxMIeoQb",
        "colab": {
          "base_uri": "https://localhost:8080/"
        },
        "outputId": "9de38ced-fa84-488f-b5c7-593f90eda5e2"
      },
      "id": "ihwvIxMIeoQb",
      "execution_count": 14,
      "outputs": [
        {
          "output_type": "execute_result",
          "data": {
            "text/plain": [
              "<xml.etree.ElementTree.ElementTree at 0x7a36f3ff9000>"
            ]
          },
          "metadata": {},
          "execution_count": 14
        }
      ]
    }
  ],
  "metadata": {
    "kernelspec": {
      "display_name": "Python 3 (ipykernel)",
      "language": "python",
      "name": "python3"
    },
    "language_info": {
      "codemirror_mode": {
        "name": "ipython",
        "version": 3
      },
      "file_extension": ".py",
      "mimetype": "text/x-python",
      "name": "python",
      "nbconvert_exporter": "python",
      "pygments_lexer": "ipython3",
      "version": "3.10.11"
    },
    "colab": {
      "provenance": [],
      "include_colab_link": true
    }
  },
  "nbformat": 4,
  "nbformat_minor": 5
}