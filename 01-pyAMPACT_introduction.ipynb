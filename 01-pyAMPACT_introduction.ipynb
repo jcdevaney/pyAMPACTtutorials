{
  "cells": [
    {
      "cell_type": "markdown",
      "metadata": {
        "id": "view-in-github",
        "colab_type": "text"
      },
      "source": [
        "<a href=\"https://colab.research.google.com/github/jcdevaney/pyAMPACTtutorials/blob/main/01-pyAMPACT_introduction.ipynb\" target=\"_parent\"><img src=\"https://colab.research.google.com/assets/colab-badge.svg\" alt=\"Open In Colab\"/></a>"
      ]
    },
    {
      "cell_type": "markdown",
      "id": "4c5ed9bd-dd5b-406f-89a6-f40cf7bbce41",
      "metadata": {
        "id": "4c5ed9bd-dd5b-406f-89a6-f40cf7bbce41"
      },
      "source": [
        "<h1>pyAMPACT Introduction</h1>"
      ]
    },
    {
      "cell_type": "code",
      "execution_count": 1,
      "id": "a1509e57-aa7e-4c0a-99c3-26e02c565a6e",
      "metadata": {
        "id": "a1509e57-aa7e-4c0a-99c3-26e02c565a6e",
        "outputId": "bb7bbed9-81f1-48c5-98c9-38fa717f7c82",
        "colab": {
          "base_uri": "https://localhost:8080/"
        }
      },
      "outputs": [
        {
          "output_type": "stream",
          "name": "stdout",
          "text": [
            "Cloning into 'pyAMPACTtutorials'...\n",
            "remote: Enumerating objects: 427, done.\u001b[K\n",
            "remote: Counting objects: 100% (250/250), done.\u001b[K\n",
            "remote: Compressing objects: 100% (143/143), done.\u001b[K\n",
            "remote: Total 427 (delta 153), reused 181 (delta 106), pack-reused 177\u001b[K\n",
            "Receiving objects: 100% (427/427), 19.44 MiB | 13.60 MiB/s, done.\n",
            "Resolving deltas: 100% (214/214), done.\n",
            "Importing libraries...\n"
          ]
        }
      ],
      "source": [
        "!git clone https://github.com/jcdevaney/pyAMPACTtutorials.git\n",
        "from IPython.utils import io\n",
        "print('Importing libraries...')\n",
        "with io.capture_output() as captured:\n",
        "    !pip install --upgrade pandas\n",
        "    !pip install -i https://test.pypi.org/simple/ --no-deps pyampact\n",
        "    import pyampact\n",
        "import pandas as pd\n",
        "import numpy as np\n",
        "import librosa"
      ]
    },
    {
      "cell_type": "markdown",
      "source": [
        "### Load audio with librosa and symbolic files with pyAMPACT's `Score` function. Audio files can be any format supported by librosa (wav, mp3, flac, ogg, etc.) and symbolic files can be any format supported by music21 (kern, xml, mei, midi, abc, etc.)."
      ],
      "metadata": {
        "id": "GhIw0NxUfqyH"
      },
      "id": "GhIw0NxUfqyH"
    },
    {
      "cell_type": "code",
      "source": [
        "audio_file = '/content/pyAMPACTtutorials/test_files/aveMaria_seg.wav'\n",
        "score_file = '/content/pyAMPACTtutorials/test_files/aveMaria_seg.mei'\n",
        "\n",
        "y, original_sr = librosa.load(audio_file)\n",
        "\n",
        "piece = pyampact.Score(score_file)"
      ],
      "metadata": {
        "id": "OpdmrJcCfL_i"
      },
      "id": "OpdmrJcCfL_i",
      "execution_count": 3,
      "outputs": []
    },
    {
      "cell_type": "markdown",
      "source": [
        "### Run the alignment with pyampact's `run_alignment` function.\n",
        "\n"
      ],
      "metadata": {
        "id": "AMW0icJ_g6gm"
      },
      "id": "AMW0icJ_g6gm"
    },
    {
      "cell_type": "code",
      "source": [
        "# You can specify the target sample rate (target_sr), window size in\n",
        "# milliseconds (win_ms), the hop size (hop_length) as well as arguments\n",
        "# that dictate the way that the symbolic file is represented as a\n",
        "# spectrogram-like mask: the bin width of each note/harmonic (width)\n",
        "# and the number of harmonics (n_harm).\n",
        "target_sr = 4000\n",
        "win_ms = 100\n",
        "hop_length = 32\n",
        "width = 3\n",
        "n_harm = 3\n",
        "\n",
        "res, dtw, spec, nmat = pyampact.run_alignment(\n",
        "    y, original_sr, piece, piece.nmats(), width, target_sr, n_harm, win_ms, hop_length)"
      ],
      "metadata": {
        "id": "xBVKgDIHfdg5"
      },
      "id": "xBVKgDIHfdg5",
      "execution_count": 4,
      "outputs": []
    },
    {
      "cell_type": "markdown",
      "source": [
        "### Estimate and compile performance parameters"
      ],
      "metadata": {
        "id": "brYkE-tPhqfS"
      },
      "id": "brYkE-tPhqfS"
    },
    {
      "cell_type": "code",
      "source": [
        "performData =pyampact.data_compilation(res, nmat, audio_file)"
      ],
      "metadata": {
        "id": "Q3h_oMh9ht00",
        "outputId": "325b3346-bf22-4c94-c2bb-29360766ce5b",
        "colab": {
          "base_uri": "https://localhost:8080/",
          "height": 144
        }
      },
      "id": "Q3h_oMh9ht00",
      "execution_count": 5,
      "outputs": [
        {
          "output_type": "error",
          "ename": "TypeError",
          "evalue": "data_compilation() missing 4 required positional arguments: 'nmat', 'target_sr', 'hop_length', and 'y'",
          "traceback": [
            "\u001b[0;31m---------------------------------------------------------------------------\u001b[0m",
            "\u001b[0;31mTypeError\u001b[0m                                 Traceback (most recent call last)",
            "\u001b[0;32m<ipython-input-5-5fb2a3baaf81>\u001b[0m in \u001b[0;36m<cell line: 1>\u001b[0;34m()\u001b[0m\n\u001b[0;32m----> 1\u001b[0;31m \u001b[0mpyampact\u001b[0m\u001b[0;34m.\u001b[0m\u001b[0mdata_compilation\u001b[0m\u001b[0;34m(\u001b[0m\u001b[0mres\u001b[0m\u001b[0;34m,\u001b[0m \u001b[0mnmat\u001b[0m\u001b[0;34m,\u001b[0m \u001b[0maudio_file\u001b[0m\u001b[0;34m)\u001b[0m\u001b[0;34m\u001b[0m\u001b[0;34m\u001b[0m\u001b[0m\n\u001b[0m",
            "\u001b[0;31mTypeError\u001b[0m: data_compilation() missing 4 required positional arguments: 'nmat', 'target_sr', 'hop_length', and 'y'"
          ]
        }
      ]
    },
    {
      "cell_type": "markdown",
      "source": [
        "### Note Matrix with Performance Data"
      ],
      "metadata": {
        "id": "WTECcxItin5_"
      },
      "id": "WTECcxItin5_"
    },
    {
      "cell_type": "code",
      "source": [
        "performData[0]"
      ],
      "metadata": {
        "id": "a7nwehYBiqpr"
      },
      "id": "a7nwehYBiqpr",
      "execution_count": null,
      "outputs": []
    },
    {
      "cell_type": "markdown",
      "source": [
        "### JSON object with Performance Data"
      ],
      "metadata": {
        "id": "qyP9XF-7G0EA"
      },
      "id": "qyP9XF-7G0EA"
    },
    {
      "cell_type": "code",
      "source": [
        "performData[1]"
      ],
      "metadata": {
        "id": "Q2V6ovo0YdR_",
        "colab": {
          "base_uri": "https://localhost:8080/",
          "height": 107
        },
        "outputId": "694c7590-ef45-4e12-a315-6f872c98765d"
      },
      "id": "Q2V6ovo0YdR_",
      "execution_count": null,
      "outputs": [
        {
          "output_type": "execute_result",
          "data": {
            "text/plain": [
              "'!!!COM: Mozart\\n!!!OTL: Zwolf Variationen in C uber ein Menuett von Johann Christian Fischer\\n**kern\\t**kern\\n*part2\\t*part1\\n*staff2\\t*staff1\\n*Ivox\\t*Ivox\\n*I\"Part-2\\t*I\"Part-1\\n*I\\'P\\t*I\\'P\\n=1\\t=1\\n*clefF4\\t*clefG2\\n*k[]\\t*k[]\\n*M3/4\\t*M3/4\\n4C\\t2gg\\n4E\\t.\\n4C\\t16ffLL\\n.\\t16ee\\n.\\t16dd\\n.\\t16ccJJ\\n=2\\t=2\\n4D\\t8ggL\\n.\\t8ffJ\\n4BB\\t4.dd\\n4GG\\t.\\n.\\t8ff\\n=3\\t=3\\n8DL\\t12eeL\\n.\\t12gg\\n8FJ\\t.\\n.\\t12aaJ\\n4G\\t4cc\\n4GG\\t4b\\n=4\\t=4\\n4C\\t4b\\n4GG\\t4cc\\n4CC\\t4r\\n==\\t==\\n*-\\t*-\\n!!!RDF**kern: %=rational rhythm\\n!!!RDF**kern: l=long note in original notation\\n!!!RDF**kern: i=editorial accidental\\n!!!ONB: Translated from a krn file on 2024-04-09 via pyAMPACT\\n!!!title: @{OTL}'"
            ],
            "application/vnd.google.colaboratory.intrinsic+json": {
              "type": "string"
            }
          },
          "metadata": {},
          "execution_count": 7
        }
      ]
    },
    {
      "cell_type": "markdown",
      "source": [
        "### Export to Kern and MEI"
      ],
      "metadata": {
        "id": "9YUzuIe12G2i"
      },
      "id": "9YUzuIe12G2i"
    },
    {
      "cell_type": "code",
      "source": [
        "piece.toKern('toKern.krn')"
      ],
      "metadata": {
        "id": "-h29ESjk2Ef_"
      },
      "id": "-h29ESjk2Ef_",
      "execution_count": 8,
      "outputs": []
    },
    {
      "cell_type": "code",
      "source": [
        "piece.toMEI('toMEI.mei')"
      ],
      "metadata": {
        "id": "ihwvIxMIeoQb"
      },
      "id": "ihwvIxMIeoQb",
      "execution_count": 9,
      "outputs": []
    }
  ],
  "metadata": {
    "kernelspec": {
      "display_name": "Python 3 (ipykernel)",
      "language": "python",
      "name": "python3"
    },
    "language_info": {
      "codemirror_mode": {
        "name": "ipython",
        "version": 3
      },
      "file_extension": ".py",
      "mimetype": "text/x-python",
      "name": "python",
      "nbconvert_exporter": "python",
      "pygments_lexer": "ipython3",
      "version": "3.10.11"
    },
    "colab": {
      "provenance": [],
      "include_colab_link": true
    }
  },
  "nbformat": 4,
  "nbformat_minor": 5
}