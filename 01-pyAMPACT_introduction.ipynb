{
  "cells": [
    {
      "cell_type": "markdown",
      "metadata": {
        "id": "view-in-github",
        "colab_type": "text"
      },
      "source": [
        "<a href=\"https://colab.research.google.com/github/jcdevaney/pyAMPACTtutorials/blob/main/01-pyAMPACT_introduction.ipynb\" target=\"_parent\"><img src=\"https://colab.research.google.com/assets/colab-badge.svg\" alt=\"Open In Colab\"/></a>"
      ]
    },
    {
      "cell_type": "markdown",
      "id": "4c5ed9bd-dd5b-406f-89a6-f40cf7bbce41",
      "metadata": {
        "id": "4c5ed9bd-dd5b-406f-89a6-f40cf7bbce41"
      },
      "source": [
        "<h1>pyAMPACT Introduction</h1>"
      ]
    },
    {
      "cell_type": "code",
      "execution_count": 1,
      "id": "a1509e57-aa7e-4c0a-99c3-26e02c565a6e",
      "metadata": {
        "id": "a1509e57-aa7e-4c0a-99c3-26e02c565a6e",
        "outputId": "ea959018-c5c7-4b72-eaf1-21b308a12277",
        "colab": {
          "base_uri": "https://localhost:8080/"
        }
      },
      "outputs": [
        {
          "output_type": "stream",
          "name": "stdout",
          "text": [
            "fatal: destination path 'pyAMPACTtutorials' already exists and is not an empty directory.\n",
            "Importing libraries...\n"
          ]
        }
      ],
      "source": [
        "!git clone https://github.com/jcdevaney/pyAMPACTtutorials.git\n",
        "from IPython.utils import io\n",
        "print('Importing libraries...')\n",
        "with io.capture_output() as captured:\n",
        "    !pip install --upgrade pandas\n",
        "    !pip install -i https://test.pypi.org/simple/ --no-deps pyampact\n",
        "    import pyampact\n",
        "import pandas as pd\n",
        "import numpy as np\n",
        "import librosa"
      ]
    },
    {
      "cell_type": "markdown",
      "source": [
        "Load audio with librosa and symbolic files with pyAMPACT's `Score` function. Audio files can be any format supported by librosa (wav, mp3, flac, ogg, etc.) and symbolic files can be any format supported by music21 (kern, xml, mei, midi, abc, etc.)."
      ],
      "metadata": {
        "id": "GhIw0NxUfqyH"
      },
      "id": "GhIw0NxUfqyH"
    },
    {
      "cell_type": "code",
      "source": [
        "audio_file = '/content/pyAMPACTtutorials/test_files/Mozart_K179_seg.wav'\n",
        "midi_file = '/content/pyAMPACTtutorials/test_files/Mozart_K179_seg.krn'\n",
        "\n",
        "y, original_sr = librosa.load(audio_file)\n",
        "\n",
        "piece = pyampact.Score(midi_file)"
      ],
      "metadata": {
        "id": "OpdmrJcCfL_i"
      },
      "id": "OpdmrJcCfL_i",
      "execution_count": 2,
      "outputs": []
    },
    {
      "cell_type": "markdown",
      "source": [
        "Run the alignment with pyampact's `run_alignment` function.\n",
        "\n"
      ],
      "metadata": {
        "id": "AMW0icJ_g6gm"
      },
      "id": "AMW0icJ_g6gm"
    },
    {
      "cell_type": "code",
      "source": [
        "# You can specify the target sample rate (target_sr), window size in\n",
        "# milliseconds (win_ms), the hop size (hop_length) as well as arguments\n",
        "# that dictate the way that the symbolic file is represented as a\n",
        "# spectrogram-like mask: the bin width of each note/harmonic (width)\n",
        "# and the number of harmonics (n_harm).\n",
        "target_sr = 4000\n",
        "win_ms = 100\n",
        "hop_length = 32\n",
        "width = 3\n",
        "n_harm = 3\n",
        "\n",
        "# Visualize the alignment with True flag\n",
        "\n",
        "res, dtw, spec, nmat = pyampact.run_alignment(\n",
        "    y, original_sr, piece, piece.nmats(), width, target_sr, n_harm, win_ms, hop_length)"
      ],
      "metadata": {
        "id": "xBVKgDIHfdg5"
      },
      "id": "xBVKgDIHfdg5",
      "execution_count": 3,
      "outputs": []
    },
    {
      "cell_type": "markdown",
      "source": [
        "Estimate performance paramters.\n",
        "\n",
        "THIS IS NOT WORKING"
      ],
      "metadata": {
        "id": "brYkE-tPhqfS"
      },
      "id": "brYkE-tPhqfS"
    },
    {
      "cell_type": "code",
      "source": [
        "# Calculate an instananeous frequency-gram of the audio signal\n",
        "# What are the f0_valuues here?\n",
        "#freqs, times, mags, f0_values, mags_mat = pyampact.ifgram(audiofile=audio_file, tsr=target_sr, win_ms=win_ms)\n",
        "#mags_db = librosa.amplitude_to_db(mags, ref=np.max)\n",
        "\n",
        "# Estimate F0 values\n",
        "# This is just calculating a single F0 for each frame, but separate F0s need to be calculated\n",
        "# for each polyphonic note (as per https://github.com/jcdevaney/AMPACT-working/blob/main/f0EstWeightedSumSpec.m)\n",
        "# A spectrum also need to be calculated and return for estimating timbral parameters\n",
        "# The NMAT looped through and the onset, offset, and MIDI note passed to the calculate_f0_est function\n",
        "# [f0{v}{loc}, pwr{v}{loc}, t{v}{loc}, M{v}{loc}, xf{v}{loc}] = f0EstWeightedSumSpec(audiofile, ons(loc), offs(loc), nmat{v}(n,4));\n",
        "# In the original MATLAB code there was a separate NMAT for each part/voice (v) this can be done by creating a dictionary\n",
        "# out of the nmat\n",
        "#   nmat_dict = piece.nmats()\n",
        "#   nmat_dict['Part-1']\n",
        "f0_values, sig_pwr = pyampact.calculate_f0_est(audio_file, hop_length, win_ms, target_sr)\n",
        "sig_pwr = mags ** 2 # power of signal, magnitude/amplitude squared\n",
        "# Prune NaN and zero values from estimated F0 and power\n",
        "f0_values = f0_values[~np.isnan(f0_values)]\n",
        "sig_pwr = sig_pwr[sig_pwr != 0]\n"
      ],
      "metadata": {
        "id": "Q3h_oMh9ht00",
        "colab": {
          "base_uri": "https://localhost:8080/",
          "height": 211
        },
        "outputId": "e4ee4e7b-4100-4a64-c70d-7f973bcba0d8"
      },
      "id": "Q3h_oMh9ht00",
      "execution_count": 5,
      "outputs": [
        {
          "output_type": "error",
          "ename": "NameError",
          "evalue": "name 'mags' is not defined",
          "traceback": [
            "\u001b[0;31m---------------------------------------------------------------------------\u001b[0m",
            "\u001b[0;31mNameError\u001b[0m                                 Traceback (most recent call last)",
            "\u001b[0;32m<ipython-input-5-a9af322d02bd>\u001b[0m in \u001b[0;36m<cell line: 15>\u001b[0;34m()\u001b[0m\n\u001b[1;32m     13\u001b[0m \u001b[0;31m# out of the nmat\u001b[0m\u001b[0;34m\u001b[0m\u001b[0;34m\u001b[0m\u001b[0m\n\u001b[1;32m     14\u001b[0m \u001b[0mf0_values\u001b[0m\u001b[0;34m,\u001b[0m \u001b[0msig_pwr\u001b[0m \u001b[0;34m=\u001b[0m \u001b[0mpyampact\u001b[0m\u001b[0;34m.\u001b[0m\u001b[0mcalculate_f0_est\u001b[0m\u001b[0;34m(\u001b[0m\u001b[0maudio_file\u001b[0m\u001b[0;34m,\u001b[0m \u001b[0mhop_length\u001b[0m\u001b[0;34m,\u001b[0m \u001b[0mwin_ms\u001b[0m\u001b[0;34m,\u001b[0m \u001b[0mtarget_sr\u001b[0m\u001b[0;34m)\u001b[0m\u001b[0;34m\u001b[0m\u001b[0;34m\u001b[0m\u001b[0m\n\u001b[0;32m---> 15\u001b[0;31m \u001b[0msig_pwr\u001b[0m \u001b[0;34m=\u001b[0m \u001b[0mmags\u001b[0m \u001b[0;34m**\u001b[0m \u001b[0;36m2\u001b[0m \u001b[0;31m# power of signal, magnitude/amplitude squared\u001b[0m\u001b[0;34m\u001b[0m\u001b[0;34m\u001b[0m\u001b[0m\n\u001b[0m\u001b[1;32m     16\u001b[0m \u001b[0;31m# Prune NaN and zero values from estimated F0 and power\u001b[0m\u001b[0;34m\u001b[0m\u001b[0;34m\u001b[0m\u001b[0m\n\u001b[1;32m     17\u001b[0m \u001b[0mf0_values\u001b[0m \u001b[0;34m=\u001b[0m \u001b[0mf0_values\u001b[0m\u001b[0;34m[\u001b[0m\u001b[0;34m~\u001b[0m\u001b[0mnp\u001b[0m\u001b[0;34m.\u001b[0m\u001b[0misnan\u001b[0m\u001b[0;34m(\u001b[0m\u001b[0mf0_values\u001b[0m\u001b[0;34m)\u001b[0m\u001b[0;34m]\u001b[0m\u001b[0;34m\u001b[0m\u001b[0;34m\u001b[0m\u001b[0m\n",
            "\u001b[0;31mNameError\u001b[0m: name 'mags' is not defined"
          ]
        }
      ]
    },
    {
      "cell_type": "markdown",
      "source": [
        "Compile estimated performance parameters"
      ],
      "metadata": {
        "id": "WTECcxItin5_"
      },
      "id": "WTECcxItin5_"
    },
    {
      "cell_type": "code",
      "source": [
        "pyampact.data_compilation(f0_values, sig_pwr, mags_mat, nmat, target_sr, hop_length, y, audio_file)"
      ],
      "metadata": {
        "id": "a7nwehYBiqpr"
      },
      "id": "a7nwehYBiqpr",
      "execution_count": null,
      "outputs": []
    },
    {
      "cell_type": "markdown",
      "source": [
        "Export estimated performance parameters to a kern or MEI file"
      ],
      "metadata": {
        "id": "lpj83MQxiwCh"
      },
      "id": "lpj83MQxiwCh"
    },
    {
      "cell_type": "code",
      "source": [
        "piece.toKern()"
      ],
      "metadata": {
        "id": "Q2V6ovo0YdR_"
      },
      "id": "Q2V6ovo0YdR_",
      "execution_count": null,
      "outputs": []
    },
    {
      "cell_type": "code",
      "source": [
        "piece.toMEI()"
      ],
      "metadata": {
        "id": "ihwvIxMIeoQb"
      },
      "id": "ihwvIxMIeoQb",
      "execution_count": null,
      "outputs": []
    }
  ],
  "metadata": {
    "kernelspec": {
      "display_name": "Python 3 (ipykernel)",
      "language": "python",
      "name": "python3"
    },
    "language_info": {
      "codemirror_mode": {
        "name": "ipython",
        "version": 3
      },
      "file_extension": ".py",
      "mimetype": "text/x-python",
      "name": "python",
      "nbconvert_exporter": "python",
      "pygments_lexer": "ipython3",
      "version": "3.10.11"
    },
    "colab": {
      "provenance": [],
      "include_colab_link": true
    }
  },
  "nbformat": 4,
  "nbformat_minor": 5
}