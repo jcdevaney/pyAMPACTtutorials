{
  "cells": [
    {
      "cell_type": "markdown",
      "metadata": {
        "id": "view-in-github",
        "colab_type": "text"
      },
      "source": [
        "<a href=\"https://colab.research.google.com/github/jcdevaney/pyAMPACTtutorials/blob/main/01-pyAMPACT_introduction.ipynb\" target=\"_parent\"><img src=\"https://colab.research.google.com/assets/colab-badge.svg\" alt=\"Open In Colab\"/></a>"
      ]
    },
    {
      "cell_type": "markdown",
      "id": "4c5ed9bd-dd5b-406f-89a6-f40cf7bbce41",
      "metadata": {
        "id": "4c5ed9bd-dd5b-406f-89a6-f40cf7bbce41"
      },
      "source": [
        "<h1>pyAMPACT Introduction</h1>"
      ]
    },
    {
      "cell_type": "code",
      "execution_count": 1,
      "id": "a1509e57-aa7e-4c0a-99c3-26e02c565a6e",
      "metadata": {
        "id": "a1509e57-aa7e-4c0a-99c3-26e02c565a6e",
        "outputId": "d70b052f-8194-44e2-da99-96eea38091a7",
        "colab": {
          "base_uri": "https://localhost:8080/"
        }
      },
      "outputs": [
        {
          "output_type": "stream",
          "name": "stdout",
          "text": [
            "Cloning into 'pyAMPACTtutorials'...\n",
            "remote: Enumerating objects: 430, done.\u001b[K\n",
            "remote: Counting objects: 100% (253/253), done.\u001b[K\n",
            "remote: Compressing objects: 100% (146/146), done.\u001b[K\n",
            "remote: Total 430 (delta 154), reused 181 (delta 106), pack-reused 177\u001b[K\n",
            "Receiving objects: 100% (430/430), 19.44 MiB | 9.45 MiB/s, done.\n",
            "Resolving deltas: 100% (215/215), done.\n",
            "Importing libraries...\n"
          ]
        }
      ],
      "source": [
        "!git clone https://github.com/jcdevaney/pyAMPACTtutorials.git\n",
        "from IPython.utils import io\n",
        "print('Importing libraries...')\n",
        "with io.capture_output() as captured:\n",
        "    !pip install --upgrade pandas\n",
        "    !pip install -i https://test.pypi.org/simple/ --no-deps pyampact\n",
        "    import pyampact\n",
        "import pandas as pd\n",
        "import numpy as np\n",
        "import librosa"
      ]
    },
    {
      "cell_type": "markdown",
      "source": [
        "### Load audio with librosa and symbolic files with pyAMPACT's `Score` function. Audio files can be any format supported by librosa (wav, mp3, flac, ogg, etc.) and symbolic files can be any format supported by music21 (kern, xml, mei, midi, abc, etc.)."
      ],
      "metadata": {
        "id": "GhIw0NxUfqyH"
      },
      "id": "GhIw0NxUfqyH"
    },
    {
      "cell_type": "code",
      "source": [
        "audio_file = '/content/pyAMPACTtutorials/test_files/aveMaria_seg.wav'\n",
        "score_file = '/content/pyAMPACTtutorials/test_files/aveMaria_seg.mei'\n",
        "\n",
        "y, original_sr = librosa.load(audio_file)\n",
        "\n",
        "piece = pyampact.Score(score_file)"
      ],
      "metadata": {
        "id": "OpdmrJcCfL_i"
      },
      "id": "OpdmrJcCfL_i",
      "execution_count": 2,
      "outputs": []
    },
    {
      "cell_type": "markdown",
      "source": [
        "### Run the alignment with pyampact's `run_alignment` function.\n",
        "\n"
      ],
      "metadata": {
        "id": "AMW0icJ_g6gm"
      },
      "id": "AMW0icJ_g6gm"
    },
    {
      "cell_type": "code",
      "source": [
        "# You can specify the target sample rate (target_sr), window size in\n",
        "# milliseconds (win_ms), the hop size (hop_length) as well as arguments\n",
        "# that dictate the way that the symbolic file is represented as a\n",
        "# spectrogram-like mask: the bin width of each note/harmonic (width)\n",
        "# and the number of harmonics (n_harm).\n",
        "target_sr = 4000\n",
        "win_ms = 100\n",
        "hop_length = 32\n",
        "width = 3\n",
        "n_harm = 3\n",
        "import pdb\n",
        "res, dtw, spec, nmat = pyampact.run_alignment(\n",
        "    y, original_sr, piece, piece.nmats(), width, target_sr, n_harm, win_ms, hop_length)"
      ],
      "metadata": {
        "id": "xBVKgDIHfdg5"
      },
      "id": "xBVKgDIHfdg5",
      "execution_count": 3,
      "outputs": []
    },
    {
      "cell_type": "markdown",
      "source": [
        "### Estimate and compile performance parameters"
      ],
      "metadata": {
        "id": "brYkE-tPhqfS"
      },
      "id": "brYkE-tPhqfS"
    },
    {
      "cell_type": "code",
      "source": [
        "# Data compilation takes the output of the alignment (res and nmat) and the\n",
        "# original audio file. It uses the time point estimated by the alignment to\n",
        "# index into an instantaneous frequency representation of the audio to\n",
        "# estimate fundamental frequency, power, and a spectral representation.\n",
        "# It then estimates note-wise tuning-, dynamics, and timbre-related descriptors.\n",
        "\n",
        "performData=pyampact.data_compilation(res, nmat, audio_file)"
      ],
      "metadata": {
        "id": "Q3h_oMh9ht00"
      },
      "id": "Q3h_oMh9ht00",
      "execution_count": 4,
      "outputs": []
    },
    {
      "cell_type": "markdown",
      "source": [
        "### Export to Kern and MEI"
      ],
      "metadata": {
        "id": "9YUzuIe12G2i"
      },
      "id": "9YUzuIe12G2i"
    },
    {
      "cell_type": "code",
      "source": [
        "piece.toKern('toKern.krn')"
      ],
      "metadata": {
        "id": "-h29ESjk2Ef_"
      },
      "id": "-h29ESjk2Ef_",
      "execution_count": 5,
      "outputs": []
    },
    {
      "cell_type": "code",
      "source": [
        "piece.toMEI('toMEI.mei')"
      ],
      "metadata": {
        "id": "ihwvIxMIeoQb"
      },
      "id": "ihwvIxMIeoQb",
      "execution_count": 6,
      "outputs": []
    }
  ],
  "metadata": {
    "kernelspec": {
      "display_name": "Python 3 (ipykernel)",
      "language": "python",
      "name": "python3"
    },
    "language_info": {
      "codemirror_mode": {
        "name": "ipython",
        "version": 3
      },
      "file_extension": ".py",
      "mimetype": "text/x-python",
      "name": "python",
      "nbconvert_exporter": "python",
      "pygments_lexer": "ipython3",
      "version": "3.10.11"
    },
    "colab": {
      "provenance": [],
      "include_colab_link": true
    }
  },
  "nbformat": 4,
  "nbformat_minor": 5
}