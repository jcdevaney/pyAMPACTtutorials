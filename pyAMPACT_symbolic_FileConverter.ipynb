{
  "cells": [
    {
      "cell_type": "markdown",
      "metadata": {
        "id": "view-in-github",
        "colab_type": "text"
      },
      "source": [
        "<a href=\"https://colab.research.google.com/github/jcdevaney/pyAMPACTtutorials/blob/main/07-pyAMPACT_symbolic_FileConverter.ipynb\" target=\"_parent\"><img src=\"https://colab.research.google.com/assets/colab-badge.svg\" alt=\"Open In Colab\"/></a>"
      ]
    },
    {
      "cell_type": "markdown",
      "id": "f8471506-8929-470b-866f-c3e1e65482c2",
      "metadata": {
        "id": "f8471506-8929-470b-866f-c3e1e65482c2"
      },
      "source": [
        "<h1>Symbolic Processing File Conversion</h1>"
      ]
    },
    {
      "cell_type": "markdown",
      "id": "e715140d-e8a6-4a4d-baf4-071fbf1501c8",
      "metadata": {
        "id": "e715140d-e8a6-4a4d-baf4-071fbf1501c8"
      },
      "source": [
        "`1.` Click on the folder button on the left ⬅️ 📁\\\n",
        "`2.` Add the symbolic notation files (no images or pdfs) you want to convert to the `pyAMPACT/added_files` folder then run the next cell"
      ]
    },
    {
      "cell_type": "code",
      "execution_count": 1,
      "id": "f25e5c4c-69e1-4d32-b89e-958c61b96eff",
      "metadata": {
        "id": "f25e5c4c-69e1-4d32-b89e-958c61b96eff",
        "outputId": "b4f6091e-6f4d-4a88-cb53-12ac8725196a",
        "colab": {
          "base_uri": "https://localhost:8080/"
        }
      },
      "outputs": [
        {
          "output_type": "stream",
          "name": "stdout",
          "text": [
            "Cloning into 'pyAMPACTtutorials'...\n",
            "remote: Enumerating objects: 305, done.\u001b[K\n",
            "remote: Counting objects: 100% (128/128), done.\u001b[K\n",
            "remote: Compressing objects: 100% (114/114), done.\u001b[K\n",
            "remote: Total 305 (delta 83), reused 17 (delta 14), pack-reused 177\u001b[K\n",
            "Receiving objects: 100% (305/305), 17.42 MiB | 12.51 MiB/s, done.\n",
            "Resolving deltas: 100% (144/144), done.\n",
            "Importing libraries...\n"
          ]
        }
      ],
      "source": [
        "!git clone https://github.com/jcdevaney/pyAMPACTtutorials.git\n",
        "from IPython.utils import io\n",
        "print('Importing libraries...')\n",
        "with io.capture_output() as captured:\n",
        "    !pip install --upgrade pandas\n",
        "    !pip install -i https://test.pypi.org/simple/ --no-deps pyampact==0.4.7\n",
        "    import pyampact"
      ]
    },
    {
      "cell_type": "code",
      "source": [
        "import os\n",
        "contents = [file for file in os.listdir('/content/pyAMPACTtutorials/added_files') if file != 'README.txt'\n",
        "            and file.endswith(('krn', 'xml', 'mei', 'mxl', 'musicxml', 'mid', 'midi', 'abc', 'txt'))]\n",
        "if not len(contents):\n",
        "    print('\\n*** No valid file types detected. Please add the symbolic music notation \\n\\\n",
        "files you want to convert to kern or MEI to the added_files folder.')\n",
        "else:\n",
        "    print('Found these files:', *contents, sep='\\n')"
      ],
      "metadata": {
        "id": "qnAEXp01zrAm",
        "outputId": "0a016cb9-aba8-4a75-e776-d44666c04479",
        "colab": {
          "base_uri": "https://localhost:8080/"
        }
      },
      "id": "qnAEXp01zrAm",
      "execution_count": 2,
      "outputs": [
        {
          "output_type": "stream",
          "name": "stdout",
          "text": [
            "Found these files:\n",
            "Auld_Lang_Syne.mid\n"
          ]
        }
      ]
    },
    {
      "cell_type": "markdown",
      "id": "d0a2ef71-9945-491d-987e-e76c0d6645d4",
      "metadata": {
        "id": "d0a2ef71-9945-491d-987e-e76c0d6645d4"
      },
      "source": [
        "`3a.` Run the next cell to convert the file or files to kern:"
      ]
    },
    {
      "cell_type": "code",
      "execution_count": 3,
      "id": "a73c926a-075b-4692-8eb9-dde4d11b9938",
      "metadata": {
        "id": "a73c926a-075b-4692-8eb9-dde4d11b9938"
      },
      "outputs": [],
      "source": [
        "contents = [file for file in os.listdir('/content/pyAMPACTtutorials/added_files') if file != 'README.txt'\n",
        "            and file.endswith(('krn', 'xml', 'mei', 'mxl', 'musicxml', 'mid', 'midi', 'abc', 'txt'))]\n",
        "for file in contents:\n",
        "    score = pyampact.Score(f'/content/pyAMPACTtutorials/added_files/{file}')\n",
        "    score.toKern(file.rsplit('.', 1)[0])\n",
        "    #score.toKern('/content/pyAMPACTtutorials/output_files/' + file.rsplit('.', 1)[0])"
      ]
    },
    {
      "cell_type": "markdown",
      "id": "c8da2a14-1e53-4b0f-9f42-633d46af1856",
      "metadata": {
        "id": "c8da2a14-1e53-4b0f-9f42-633d46af1856"
      },
      "source": [
        "`3b.` Run the next cell to convert the files to MEI"
      ]
    },
    {
      "cell_type": "code",
      "execution_count": 4,
      "id": "e0ac8d7e-a737-42d4-a9f9-78760b6fd801",
      "metadata": {
        "id": "e0ac8d7e-a737-42d4-a9f9-78760b6fd801"
      },
      "outputs": [],
      "source": [
        "contents = [file for file in os.listdir('/content/pyAMPACTtutorials/added_files') if file != 'README.txt'\n",
        "            and file.endswith(('krn', 'xml', 'mei', 'mxl', 'musicxml', 'mid', 'midi', 'abc', 'txt'))]\n",
        "for file in contents:\n",
        "    score = pyampact.Score(f'/content/pyAMPACTtutorials/added_files/{file}')\n",
        "    score.toMEI(file.rsplit('.', 1)[0])\n",
        "    #score.toMEI('/content/pyAMPACTtutorials/output_files' + file.rsplit('.', 1)[0])\n"
      ]
    },
    {
      "cell_type": "markdown",
      "id": "df845024-bd1c-4ec2-bf9e-f3d797230d46",
      "metadata": {
        "id": "df845024-bd1c-4ec2-bf9e-f3d797230d46"
      },
      "source": [
        "`4` Download your converted files from the `pyAMPACT/output_files` folder on the left ⬅️ 📁\\\n",
        "They will have the same filename but with a `.krn` or `.mei.xml` extension."
      ]
    }
  ],
  "metadata": {
    "colab": {
      "provenance": [],
      "include_colab_link": true
    },
    "kernelspec": {
      "display_name": "Python 3 (ipykernel)",
      "language": "python",
      "name": "python3"
    },
    "language_info": {
      "codemirror_mode": {
        "name": "ipython",
        "version": 3
      },
      "file_extension": ".py",
      "mimetype": "text/x-python",
      "name": "python",
      "nbconvert_exporter": "python",
      "pygments_lexer": "ipython3",
      "version": "3.10.11"
    }
  },
  "nbformat": 4,
  "nbformat_minor": 5
}