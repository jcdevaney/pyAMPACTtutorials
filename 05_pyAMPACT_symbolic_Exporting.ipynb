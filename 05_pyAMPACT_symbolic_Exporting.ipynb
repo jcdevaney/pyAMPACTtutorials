{
  "nbformat": 4,
  "nbformat_minor": 0,
  "metadata": {
    "colab": {
      "provenance": [],
      "authorship_tag": "ABX9TyMdwyhkA/y5hxhO9UKyIWYU",
      "include_colab_link": true
    },
    "kernelspec": {
      "name": "python3",
      "display_name": "Python 3"
    },
    "language_info": {
      "name": "python"
    }
  },
  "cells": [
    {
      "cell_type": "markdown",
      "metadata": {
        "id": "view-in-github",
        "colab_type": "text"
      },
      "source": [
        "<a href=\"https://colab.research.google.com/github/jcdevaney/pyAMPACTtutorials/blob/main/05_pyAMPACT_symbolic_Exporting.ipynb\" target=\"_parent\"><img src=\"https://colab.research.google.com/assets/colab-badge.svg\" alt=\"Open In Colab\"/></a>"
      ]
    },
    {
      "cell_type": "markdown",
      "source": [
        "<h1>pyAMPACT Exporting Symbolic Data</h1>"
      ],
      "metadata": {
        "id": "l5QIb5WCFRwy"
      }
    },
    {
      "cell_type": "code",
      "execution_count": 1,
      "metadata": {
        "id": "MCFs3L2TFKgN",
        "outputId": "7da7fc00-615f-44c4-f774-d559b55d6370",
        "colab": {
          "base_uri": "https://localhost:8080/"
        }
      },
      "outputs": [
        {
          "output_type": "stream",
          "name": "stdout",
          "text": [
            "Cloning into 'pyAMPACTtutorials'...\n",
            "remote: Enumerating objects: 390, done.\u001b[K\n",
            "remote: Counting objects: 100% (213/213), done.\u001b[K\n",
            "remote: Compressing objects: 100% (113/113), done.\u001b[K\n",
            "remote: Total 390 (delta 135), reused 160 (delta 100), pack-reused 177\u001b[K\n",
            "Receiving objects: 100% (390/390), 17.69 MiB | 12.66 MiB/s, done.\n",
            "Resolving deltas: 100% (196/196), done.\n",
            "Importing libraries...\n"
          ]
        }
      ],
      "source": [
        "!git clone https://github.com/jcdevaney/pyAMPACTtutorials.git\n",
        "from IPython.utils import io\n",
        "print('Importing libraries...')\n",
        "with io.capture_output() as captured:\n",
        "    !pip install --upgrade pandas\n",
        "    !pip install -i https://test.pypi.org/simple/ --no-deps pyampact\n",
        "    import pyampact"
      ]
    },
    {
      "cell_type": "markdown",
      "source": [
        "pyAMPACT can export MEI and Humdrum kern-formmated files using the built in .toMEI() and .toKern() functions respectively"
      ],
      "metadata": {
        "id": "UNg8D0Ft_EJ4"
      }
    },
    {
      "cell_type": "code",
      "source": [
        "score_file = '/content/pyAMPACTtutorials/test_files/Mozart_K179_seg.krn'\n",
        "piece = pyampact.Score(score_file)"
      ],
      "metadata": {
        "id": "zzh_3_lk_QDI"
      },
      "execution_count": 2,
      "outputs": []
    },
    {
      "cell_type": "markdown",
      "source": [
        "If not path is given, both .toMEI() and .toKern return the MEI and Humdrum kern formatted data."
      ],
      "metadata": {
        "id": "VWCEoRqa_iI3"
      }
    },
    {
      "cell_type": "code",
      "source": [
        "piece.toMEI()"
      ],
      "metadata": {
        "id": "ZGNHcdyX_ewI",
        "outputId": "c7569e0a-4536-4439-da49-671c7a4afd66",
        "colab": {
          "base_uri": "https://localhost:8080/"
        }
      },
      "execution_count": 3,
      "outputs": [
        {
          "output_type": "execute_result",
          "data": {
            "text/plain": [
              "<xml.etree.ElementTree.ElementTree at 0x7c2a445704f0>"
            ]
          },
          "metadata": {},
          "execution_count": 3
        }
      ]
    },
    {
      "cell_type": "code",
      "source": [
        "piece.toKern()"
      ],
      "metadata": {
        "id": "rMaxDPD2_sPD",
        "outputId": "6d4f5542-cc5a-4abc-f025-a9f313246b2e",
        "colab": {
          "base_uri": "https://localhost:8080/",
          "height": 122
        }
      },
      "execution_count": 4,
      "outputs": [
        {
          "output_type": "execute_result",
          "data": {
            "text/plain": [
              "'!!!COM: Mozart\\n!!!OTL: Zwolf Variationen in C uber ein Menuett von Johann Christian Fischer\\n**kern\\t**kern\\n*part2\\t*part1\\n*staff2\\t*staff1\\n*Ivox\\t*Ivox\\n*I\"Part-2\\t*I\"Part-1\\n*I\\'P\\t*I\\'P\\n=1\\t=1\\n*clefF4\\t*clefG2\\n*k[]\\t*k[]\\n*M3/4\\t*M3/4\\n4C\\t2gg\\n4E\\t.\\n4C\\t16ffLL\\n.\\t16ee\\n.\\t16dd\\n.\\t16ccJJ\\n=2\\t=2\\n4D\\t8ggL\\n.\\t8ffJ\\n4BB\\t4.dd\\n4GG\\t.\\n.\\t8ff\\n=3\\t=3\\n8DL\\t12eeL\\n.\\t12gg\\n8FJ\\t.\\n.\\t12aaJ\\n4G\\t4cc\\n4GG\\t4b\\n=4\\t=4\\n4C\\t4b\\n4GG\\t4cc\\n4CC\\t4r\\n==\\t==\\n*-\\t*-\\n!!!RDF**kern: %=rational rhythm\\n!!!RDF**kern: l=long note in original notation\\n!!!RDF**kern: i=editorial accidental\\n!!!ONB: Translated from a krn file on 2024-04-07 via pyAMPACT\\n!!!title: @{OTL}'"
            ],
            "application/vnd.google.colaboratory.intrinsic+json": {
              "type": "string"
            }
          },
          "metadata": {},
          "execution_count": 4
        }
      ]
    },
    {
      "cell_type": "markdown",
      "source": [
        "To output to a file, a file name."
      ],
      "metadata": {
        "id": "5S4X9UgY_-is"
      }
    },
    {
      "cell_type": "code",
      "source": [
        "piece.toMEI('Mozart_K179_seg.mei')\n",
        "piece.toKern('Mozart_K179_seg.krn')"
      ],
      "metadata": {
        "id": "rP-slmAD_7U8"
      },
      "execution_count": 5,
      "outputs": []
    },
    {
      "cell_type": "markdown",
      "source": [
        "## Batch Conversion"
      ],
      "metadata": {
        "id": "Og5g6Rxf9EYT"
      }
    },
    {
      "cell_type": "markdown",
      "source": [
        "`1.` Click on the folder button on the left ⬅️ 📁\\\n",
        "`2.` Add the symbolic notation files (no images or pdfs) you want to convert to the `pyAMPACT/added_files` folder then run the next cell"
      ],
      "metadata": {
        "id": "Gw-pRxv49IFz"
      }
    },
    {
      "cell_type": "code",
      "source": [
        "import os\n",
        "contents = [file for file in os.listdir('/content/pyAMPACTtutorials/added_files') if file != 'README.txt'\n",
        "            and file.endswith(('krn', 'xml', 'mei', 'mxl', 'musicxml', 'mid', 'midi', 'abc', 'txt'))]\n",
        "if not len(contents):\n",
        "    print('\\n*** No valid file types detected. Please add the symbolic music notation \\n\\\n",
        "files you want to convert to kern or MEI to the added_files folder.')\n",
        "else:\n",
        "    print('Found these files:', *contents, sep='\\n')"
      ],
      "metadata": {
        "id": "qFNgFR_99F6x",
        "outputId": "d8492b97-eadb-482f-e40d-706b1f9fd325",
        "colab": {
          "base_uri": "https://localhost:8080/"
        }
      },
      "execution_count": 6,
      "outputs": [
        {
          "output_type": "stream",
          "name": "stdout",
          "text": [
            "Found these files:\n",
            "Auld_Lang_Syne.mid\n"
          ]
        }
      ]
    },
    {
      "cell_type": "markdown",
      "source": [
        "`3a.` Run the next cell to convert the file or files to kern:"
      ],
      "metadata": {
        "id": "kilKxdAM9psU"
      }
    },
    {
      "cell_type": "code",
      "source": [
        "contents = [file for file in os.listdir('/content/pyAMPACTtutorials/added_files') if file != 'README.txt'\n",
        "            and file.endswith(('krn', 'xml', 'mei', 'mxl', 'musicxml', 'mid', 'midi', 'abc', 'txt'))]\n",
        "for file in contents:\n",
        "    score = pyampact.Score(f'/content/pyAMPACTtutorials/added_files/{file}')\n",
        "    score.toKern(file.rsplit('.', 1)[0])\n",
        "    #score.toKern('/content/pyAMPACTtutorials/output_files/' + file.rsplit('.', 1)[0])"
      ],
      "metadata": {
        "id": "HNTKc1fZ9qIt"
      },
      "execution_count": 7,
      "outputs": []
    },
    {
      "cell_type": "markdown",
      "source": [
        "`3b.` Run the next cell to convert the files to MEI"
      ],
      "metadata": {
        "id": "J21PXsqK9sjN"
      }
    },
    {
      "cell_type": "code",
      "source": [
        "contents = [file for file in os.listdir('/content/pyAMPACTtutorials/added_files') if file != 'README.txt'\n",
        "            and file.endswith(('krn', 'xml', 'mei', 'mxl', 'musicxml', 'mid', 'midi', 'abc', 'txt'))]\n",
        "for file in contents:\n",
        "    score = pyampact.Score(f'/content/pyAMPACTtutorials/added_files/{file}')\n",
        "    score.toMEI(file.rsplit('.', 1)[0])\n",
        "    #score.toMEI('/content/pyAMPACTtutorials/output_files' + file.rsplit('.', 1)[0])"
      ],
      "metadata": {
        "id": "qloKv2n89viQ"
      },
      "execution_count": 8,
      "outputs": []
    }
  ]
}