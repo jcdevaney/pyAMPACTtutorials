{
  "nbformat": 4,
  "nbformat_minor": 0,
  "metadata": {
    "colab": {
      "provenance": [],
      "authorship_tag": "ABX9TyOdH5WhpV0fsNSQ7t/Vq/Rc",
      "include_colab_link": true
    },
    "kernelspec": {
      "name": "python3",
      "display_name": "Python 3"
    },
    "language_info": {
      "name": "python"
    }
  },
  "cells": [
    {
      "cell_type": "markdown",
      "metadata": {
        "id": "view-in-github",
        "colab_type": "text"
      },
      "source": [
        "<a href=\"https://colab.research.google.com/github/jcdevaney/pyAMPACTtutorials/blob/main/05_pyAMPACT_symbolic_Exporting.ipynb\" target=\"_parent\"><img src=\"https://colab.research.google.com/assets/colab-badge.svg\" alt=\"Open In Colab\"/></a>"
      ]
    },
    {
      "cell_type": "markdown",
      "source": [
        "<h1>pyAMPACT Exporting Symbolic Data</h1>"
      ],
      "metadata": {
        "id": "l5QIb5WCFRwy"
      }
    },
    {
      "cell_type": "code",
      "execution_count": 1,
      "metadata": {
        "id": "MCFs3L2TFKgN",
        "outputId": "ebe3e8f2-c5fd-460d-dcc3-d4b974fec762",
        "colab": {
          "base_uri": "https://localhost:8080/"
        }
      },
      "outputs": [
        {
          "output_type": "stream",
          "name": "stdout",
          "text": [
            "Cloning into 'pyAMPACTtutorials'...\n",
            "remote: Enumerating objects: 361, done.\u001b[K\n",
            "remote: Counting objects: 100% (184/184), done.\u001b[K\n",
            "remote: Compressing objects: 100% (88/88), done.\u001b[K\n",
            "remote: Total 361 (delta 121), reused 149 (delta 96), pack-reused 177\u001b[K\n",
            "Receiving objects: 100% (361/361), 17.64 MiB | 12.59 MiB/s, done.\n",
            "Resolving deltas: 100% (182/182), done.\n",
            "Importing libraries...\n"
          ]
        }
      ],
      "source": [
        "!git clone https://github.com/jcdevaney/pyAMPACTtutorials.git\n",
        "from IPython.utils import io\n",
        "print('Importing libraries...')\n",
        "with io.capture_output() as captured:\n",
        "    !pip install --upgrade pandas\n",
        "    !pip install -i https://test.pypi.org/simple/ --no-deps pyampact\n",
        "    import pyampact"
      ]
    },
    {
      "cell_type": "markdown",
      "source": [
        "pyAMPACT can export MEI and Humdrum kern-formmated files using the built in .toMEI() and .toKern() functions respectively"
      ],
      "metadata": {
        "id": "UNg8D0Ft_EJ4"
      }
    },
    {
      "cell_type": "code",
      "source": [
        "score_file = '/content/pyAMPACTtutorials/test_files/Mozart_K179_seg.krn'\n",
        "piece = pyampact.Score(score_file)"
      ],
      "metadata": {
        "id": "zzh_3_lk_QDI"
      },
      "execution_count": 2,
      "outputs": []
    },
    {
      "cell_type": "markdown",
      "source": [
        "If not path is given, both .toMEI() and .toKern return the MEI and Humdrum kern formatted data."
      ],
      "metadata": {
        "id": "VWCEoRqa_iI3"
      }
    },
    {
      "cell_type": "code",
      "source": [
        "piece.toMEI()"
      ],
      "metadata": {
        "id": "ZGNHcdyX_ewI",
        "outputId": "4ca5c733-0180-4c7c-9fbb-d490233b4943",
        "colab": {
          "base_uri": "https://localhost:8080/"
        }
      },
      "execution_count": 3,
      "outputs": [
        {
          "output_type": "execute_result",
          "data": {
            "text/plain": [
              "<xml.etree.ElementTree.ElementTree at 0x7aa002724910>"
            ]
          },
          "metadata": {},
          "execution_count": 3
        }
      ]
    },
    {
      "cell_type": "code",
      "source": [
        "piece.toKern()"
      ],
      "metadata": {
        "id": "rMaxDPD2_sPD",
        "outputId": "34a33a4a-0014-480a-9b37-c9cafdf83d4d",
        "colab": {
          "base_uri": "https://localhost:8080/",
          "height": 191
        }
      },
      "execution_count": 4,
      "outputs": [
        {
          "output_type": "execute_result",
          "data": {
            "text/plain": [
              "'!!!COM: Mozart\\n!!!OTL: Zwolf Variationen in C uber ein Menuett von Johann Christian Fischer\\n**kern\\t**kern\\n*part2\\t*part1\\n*staff2\\t*staff1\\n*Ivox\\t*Ivox\\n*I\"Part-2\\t*I\"Part-1\\n*I\\'P\\t*I\\'P\\n=1\\t=1\\n*clefF4\\t*clefG2\\n*k[]\\t*k[]\\n*M3/4\\t*M3/4\\n4C\\t2gg\\n4E\\t.\\n4C\\t16ffLL\\n.\\t16ee\\n.\\t16dd\\n.\\t16ccJJ\\n=2\\t=2\\n4D\\t8ggL\\n.\\t8ffJ\\n4BB\\t4.dd\\n4GG\\t.\\n.\\t8ff\\n=3\\t=3\\n8DL\\t12eeL\\n.\\t12gg\\n8FJ\\t.\\n.\\t12aaJ\\n4G\\t4cc\\n4GG\\t4b\\n=4\\t=4\\n4C\\t4b\\n4GG\\t4cc\\n4CC\\t4r\\n==\\t==\\n*-\\t*-\\n!!!RDF**kern: %=rational rhythm\\n!!!RDF**kern: l=long note in original notation\\n!!!RDF**kern: i=editorial accidental\\n!!!ONB: Translated from a krn file on 2024-04-06 via pyAMPACT\\n!!!title: @{OTL}'"
            ],
            "application/vnd.google.colaboratory.intrinsic+json": {
              "type": "string"
            }
          },
          "metadata": {},
          "execution_count": 4
        }
      ]
    },
    {
      "cell_type": "markdown",
      "source": [
        "To output to a file, a file name."
      ],
      "metadata": {
        "id": "5S4X9UgY_-is"
      }
    },
    {
      "cell_type": "code",
      "source": [
        "piece.toMEI('Mozart_K179_seg.mei')\n",
        "piece.toKern('Mozart_K179_seg.krn')"
      ],
      "metadata": {
        "id": "rP-slmAD_7U8"
      },
      "execution_count": 13,
      "outputs": []
    }
  ]
}