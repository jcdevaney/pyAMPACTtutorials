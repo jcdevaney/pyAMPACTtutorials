{
  "cells": [
    {
      "cell_type": "markdown",
      "metadata": {
        "id": "view-in-github",
        "colab_type": "text"
      },
      "source": [
        "<a href=\"https://colab.research.google.com/github/jcdevaney/pyAMPACTtutorials/blob/main/03-pyAMPACT_symbolic_Annotations.ipynb\" target=\"_parent\"><img src=\"https://colab.research.google.com/assets/colab-badge.svg\" alt=\"Open In Colab\"/></a>"
      ]
    },
    {
      "cell_type": "markdown",
      "id": "8433e991-6286-45f8-8245-9ecd35e612ca",
      "metadata": {
        "id": "8433e991-6286-45f8-8245-9ecd35e612ca"
      },
      "source": [
        "<h1>pyAMPACT Working with Annotations</h1>\n",
        "\n"
      ]
    },
    {
      "cell_type": "code",
      "execution_count": 1,
      "id": "2f5fba6a-c9d7-45e2-87f4-1ad5291aad46",
      "metadata": {
        "colab": {
          "base_uri": "https://localhost:8080/"
        },
        "id": "2f5fba6a-c9d7-45e2-87f4-1ad5291aad46",
        "outputId": "b2c86280-e71d-484c-8fa0-1c63ee2b7f61"
      },
      "outputs": [
        {
          "output_type": "stream",
          "name": "stdout",
          "text": [
            "fatal: destination path 'pyAMPACTtutorials' already exists and is not an empty directory.\n",
            "Importing libraries...\n"
          ]
        }
      ],
      "source": [
        "!git clone https://github.com/jcdevaney/pyAMPACTtutorials.git\n",
        "from IPython.utils import io\n",
        "print('Importing libraries...')\n",
        "with io.capture_output() as captured:\n",
        "    !pip install --upgrade pandas\n",
        "    !pip install -i https://test.pypi.org/simple/ --no-deps pyampact\n",
        "    import pyampact\n",
        "    !pip install crim_intervals\n",
        "    import crim_intervals as crim"
      ]
    },
    {
      "cell_type": "markdown",
      "source": [
        "<h2>Working with Common Practice Harmony Annotations in pyAMPACT (Humdrum)<h2>"
      ],
      "metadata": {
        "id": "udyk5mJ_Glu9"
      },
      "id": "udyk5mJ_Glu9"
    },
    {
      "cell_type": "markdown",
      "source": [
        "**The Humdrum analysis must be in the same .krn file as the score itself**. So in addition to having as many **kern spines as there are voices in the piece, the krn file should have at least one spine of analysis data. As a reference, there are several special spine types that we have dedicated methods for reading in as pandas dataframes in pyAMPACT. This table shows which pyAMPACT Score object methods to use to get each given .krn file spine type:\n",
        "\n",
        "| Spine Type | pyAMPACT Methods |\n",
        "|----------|----------|\n",
        "| **kern | .notes(), .midiPitches() |\n",
        "| **text | .lyrics() |\n",
        "| **dyanm | .dynamics() |\n",
        "| **harm | .harm(), .harmKeys(), .romanNumeral()|\n",
        "| **function | .functions() |\n",
        "| **chord | .chords() |\n",
        "| **cdata | .cdata() |\n",
        "| Any other spine type | .getSpines('name_of_spine_type') |\n",
        "\n",
        "Here is an example of reading a **harm spine."
      ],
      "metadata": {
        "id": "KkOje0KZG1k2"
      },
      "id": "KkOje0KZG1k2"
    },
    {
      "cell_type": "code",
      "source": [
        "piece = pyampact.Score('/content/pyAMPACTtutorials/test_files/Mozart_K179_seg.krn')\n",
        "piece.harm()"
      ],
      "metadata": {
        "id": "oba2l57-CjJS",
        "outputId": "9c1f247d-ab96-4d4f-b418-0121a369538e",
        "colab": {
          "base_uri": "https://localhost:8080/"
        }
      },
      "id": "oba2l57-CjJS",
      "execution_count": 2,
      "outputs": [
        {
          "output_type": "execute_result",
          "data": {
            "text/plain": [
              "array(['I', 'I', 'I', 'I', 'I', 'I', 'V7', 'V7', 'V7', 'V7', 'V7', 'I',\n",
              "       'I', 'IV', 'IV', 'V', 'V', 'I', 'I', 'I'], dtype=object)"
            ]
          },
          "metadata": {},
          "execution_count": 2
        }
      ]
    },
    {
      "cell_type": "markdown",
      "source": [
        "Additional parsing of .krn scores is also available. If a *function spine is in the file, you can retrieve its scoretime-aligned values with the .functions() method. For non-kern files, or for kern files without a *function spine, this method returns an empty array."
      ],
      "metadata": {
        "id": "toAJsflHCTCu"
      },
      "id": "toAJsflHCTCu"
    },
    {
      "cell_type": "code",
      "source": [
        "piece.functions()"
      ],
      "metadata": {
        "id": "3dVEn8cxDwtX",
        "outputId": "bdf2bc05-2087-4309-d824-0db7a04c8c58",
        "colab": {
          "base_uri": "https://localhost:8080/"
        }
      },
      "id": "3dVEn8cxDwtX",
      "execution_count": 3,
      "outputs": [
        {
          "output_type": "execute_result",
          "data": {
            "text/plain": [
              "array(['T', 'T', 'T', 'T', 'T', 'T', 'T', 'T', 'T', 'T', 'T', 'T', 'T',\n",
              "       'P', 'P', 'D', 'D', 'T', 'T', 'T'], dtype=object)"
            ]
          },
          "metadata": {},
          "execution_count": 3
        }
      ]
    },
    {
      "cell_type": "markdown",
      "source": [
        "Analytic information in the symbolic files can be reshaped to match the time dimesnion of `.pianoRoll()` using the `snap_to` parameter."
      ],
      "metadata": {
        "id": "DlFLEoSAB-Zw"
      },
      "id": "DlFLEoSAB-Zw"
    },
    {
      "cell_type": "code",
      "source": [
        "pianoRoll = piece.pianoRoll()\n",
        "piece.harm(snap_to=pianoRoll)"
      ],
      "metadata": {
        "id": "9otAsGxzCBfT",
        "outputId": "3886856c-f079-47e1-c8dd-ec39f84a721b",
        "colab": {
          "base_uri": "https://localhost:8080/"
        }
      },
      "id": "9otAsGxzCBfT",
      "execution_count": 4,
      "outputs": [
        {
          "output_type": "execute_result",
          "data": {
            "text/plain": [
              "array(['I', 'I', 'I', 'I', 'I', 'I', 'V7', 'V7', 'V7', 'V7', 'V7', 'I',\n",
              "       'I', 'IV', 'IV', 'V', 'V', 'I', 'I', 'I'], dtype=object)"
            ]
          },
          "metadata": {},
          "execution_count": 4
        }
      ]
    },
    {
      "cell_type": "markdown",
      "source": [
        "The annotations can also be reshaped to the time dimension of `.mask()`. Since annotations are sparse with respect to the number of time points, functions automatically fill in the intermediary timepoints by repeating the last label. This behavior can be modified with the filler parameter."
      ],
      "metadata": {
        "id": "Gt1HPiHQFbpQ"
      },
      "id": "Gt1HPiHQFbpQ"
    },
    {
      "cell_type": "code",
      "source": [
        "mask = piece.mask(num_harmonics=4, width=1)\n",
        "piece.harm(snap_to=mask)"
      ],
      "metadata": {
        "id": "nZH6IIFpB8nY",
        "outputId": "6edc2c85-6e5a-4b6b-d1d5-4403bebbe896",
        "colab": {
          "base_uri": "https://localhost:8080/"
        }
      },
      "id": "nZH6IIFpB8nY",
      "execution_count": 5,
      "outputs": [
        {
          "output_type": "execute_result",
          "data": {
            "text/plain": [
              "array(['I', 'I', 'I', 'I', 'I', 'I', 'I', 'I', 'I', 'I', 'I', 'I', 'I',\n",
              "       'I', 'I', 'I', 'I', 'I', 'I', 'I', 'I', 'I', 'I', 'I', 'I', 'I',\n",
              "       'I', 'I', 'I', 'I', 'I', 'I', 'I', 'I', 'I', 'I', 'I', 'I', 'I',\n",
              "       'I', 'I', 'I', 'I', 'I', 'I', 'I', 'I', 'I', 'I', 'I', 'I', 'I',\n",
              "       'I', 'I', 'I', 'I', 'I', 'I', 'I', 'I', 'V7', 'V7', 'V7', 'V7',\n",
              "       'V7', 'V7', 'V7', 'V7', 'V7', 'V7', 'V7', 'V7', 'V7', 'V7', 'V7',\n",
              "       'V7', 'V7', 'V7', 'V7', 'V7', 'V7', 'V7', 'V7', 'V7', 'V7', 'V7',\n",
              "       'V7', 'V7', 'V7', 'V7', 'V7', 'V7', 'V7', 'V7', 'V7', 'V7', 'V7',\n",
              "       'V7', 'V7', 'V7', 'V7', 'V7', 'V7', 'V7', 'V7', 'V7', 'V7', 'V7',\n",
              "       'V7', 'V7', 'V7', 'V7', 'V7', 'V7', 'V7', 'V7', 'V7', 'V7', 'V7',\n",
              "       'V7', 'I', 'I', 'I', 'I', 'I', 'I', 'I', 'I', 'I', 'I', 'IV', 'IV',\n",
              "       'IV', 'IV', 'IV', 'IV', 'IV', 'IV', 'IV', 'IV', 'V', 'V', 'V', 'V',\n",
              "       'V', 'V', 'V', 'V', 'V', 'V', 'V', 'V', 'V', 'V', 'V', 'V', 'V',\n",
              "       'V', 'V', 'V', 'V', 'V', 'V', 'V', 'V', 'V', 'V', 'V', 'V', 'V',\n",
              "       'V', 'V', 'V', 'V', 'V', 'V', 'V', 'V', 'V', 'V', 'I', 'I', 'I',\n",
              "       'I', 'I', 'I', 'I', 'I', 'I', 'I', 'I', 'I', 'I', 'I', 'I', 'I',\n",
              "       'I', 'I', 'I', 'I', 'I', 'I', 'I', 'I', 'I', 'I', 'I', 'I', 'I',\n",
              "       'I', 'I', 'I', 'I', 'I', 'I', 'I', 'I', 'I', 'I', 'I', 'I', 'I',\n",
              "       'I', 'I', 'I', 'I', 'I', 'I', 'I', 'I', 'I', 'I', 'I', 'I', 'I',\n",
              "       'I', 'I', 'I', 'I', 'I'], dtype=object)"
            ]
          },
          "metadata": {},
          "execution_count": 5
        }
      ]
    },
    {
      "cell_type": "markdown",
      "source": [
        "#Working with Common Practice Harmony Annotations in pyAMPACT (Dezran)"
      ],
      "metadata": {
        "id": "8DhzphXjV5o6"
      },
      "id": "8DhzphXjV5o6"
    },
    {
      "cell_type": "markdown",
      "source": [
        "pyAMPACT can import .dez annotation files and link them to corresponding score data in manner consistent to the way Humdrum annotation is imported (as described above)."
      ],
      "metadata": {
        "id": "Uc8a0ntdfhIk"
      },
      "id": "Uc8a0ntdfhIk"
    },
    {
      "cell_type": "code",
      "source": [
        "from pyampact import snapTo\n",
        "piece = pyampact.Score('/content/pyAMPACTtutorials/test_files/K279-seg.musicxml')\n",
        "rn = piece.romanNumerals(output='series', dez_path='/content/pyAMPACTtutorials/test_files/K279-seg_harmony_texture.dez')"
      ],
      "metadata": {
        "id": "7CEW0RvzV3dT",
        "outputId": "256cae9b-d9d7-45cd-e04f-fb1740514195",
        "colab": {
          "base_uri": "https://localhost:8080/"
        }
      },
      "id": "7CEW0RvzV3dT",
      "execution_count": 6,
      "outputs": [
        {
          "output_type": "stream",
          "name": "stderr",
          "text": [
            "/usr/local/lib/python3.10/dist-packages/music21/musicxml/xmlToM21.py:1986: MusicXMLWarning: The following exception took place in m. 1 in part Klavier linke Hand.\n",
            "  warnings.warn(\n"
          ]
        },
        {
          "output_type": "stream",
          "name": "stdout",
          "text": [
            "There was an issue with the function texts so they were removed.\n"
          ]
        }
      ]
    },
    {
      "cell_type": "markdown",
      "source": [
        "Once the annotations have been imported, they can be snapped to a pyAMPACT score representation."
      ],
      "metadata": {
        "id": "Gy6R1P-2fx_-"
      },
      "id": "Gy6R1P-2fx_-"
    },
    {
      "cell_type": "code",
      "source": [
        "snapTo(rn, pianoRoll, output='series')"
      ],
      "metadata": {
        "id": "4qPJ2oQFcJHk",
        "outputId": "c7e015dc-23d7-44a1-ab7d-97e1b4b2c763",
        "colab": {
          "base_uri": "https://localhost:8080/"
        }
      },
      "id": "4qPJ2oQFcJHk",
      "execution_count": 7,
      "outputs": [
        {
          "output_type": "execute_result",
          "data": {
            "text/plain": [
              "0.00000       I\n",
              "1.00000       I\n",
              "2.00000       I\n",
              "2.25000       I\n",
              "2.50000       I\n",
              "2.75000       I\n",
              "3.00000       I\n",
              "3.50000       I\n",
              "4.00000     ii6\n",
              "5.00000     ii6\n",
              "5.50000     ii6\n",
              "6.00000      V2\n",
              "6.33333      V2\n",
              "6.50000      I6\n",
              "6.66667      I6\n",
              "7.00000     ii6\n",
              "8.00000       I\n",
              "9.00000       I\n",
              "10.00000      I\n",
              "11.00000      I\n",
              "Name: tag, dtype: object"
            ]
          },
          "metadata": {},
          "execution_count": 7
        }
      ]
    },
    {
      "cell_type": "code",
      "source": [
        "snapTo(rn, mask, output='series')"
      ],
      "metadata": {
        "id": "WWn2PpfshHhR",
        "outputId": "6c515b14-34cb-4b12-df1e-49a80cca3320",
        "colab": {
          "base_uri": "https://localhost:8080/"
        }
      },
      "id": "WWn2PpfshHhR",
      "execution_count": 8,
      "outputs": [
        {
          "output_type": "execute_result",
          "data": {
            "text/plain": [
              "0.00     I\n",
              "0.05     I\n",
              "0.10     I\n",
              "0.15     I\n",
              "0.20     I\n",
              "        ..\n",
              "11.75    I\n",
              "11.80    I\n",
              "11.85    I\n",
              "11.90    I\n",
              "11.95    I\n",
              "Name: tag, Length: 240, dtype: object"
            ]
          },
          "metadata": {},
          "execution_count": 8
        }
      ]
    },
    {
      "cell_type": "markdown",
      "id": "rkxIzvnYA8yn",
      "metadata": {
        "id": "rkxIzvnYA8yn"
      },
      "source": [
        "# Working with Renaissance Annotations in pyAMPACT"
      ]
    },
    {
      "cell_type": "markdown",
      "id": "cLbrt5nvwZ59",
      "metadata": {
        "id": "cLbrt5nvwZ59"
      },
      "source": [
        "Renaissance dissonance analysis (from the humlib dissonant tool) can also be imported using .getSpines(), pyAMPACTs generic spine importer, to get `**cdata-rdiss` spine data.\n",
        "\n",
        "Humdrum's Renaissance dissonance classification tool is part of humlib. It is accessible in the command-line Humdrum tools and in the Verovio Humdrum Viewer."
      ]
    },
    {
      "cell_type": "code",
      "execution_count": 9,
      "id": "2eVow1ydvbQI",
      "metadata": {
        "colab": {
          "base_uri": "https://localhost:8080/",
          "height": 1000
        },
        "id": "2eVow1ydvbQI",
        "outputId": "cc424fa1-2342-4377-de4d-e6839054f08d"
      },
      "outputs": [
        {
          "output_type": "execute_result",
          "data": {
            "text/plain": [
              "      Voice Part-2 Part-3\n",
              "                         \n",
              "6.0     NaN    NaN      q\n",
              "9.0     NaN    NaN      p\n",
              "11.0    NaN    NaN      p\n",
              "14.0      q    NaN    NaN\n",
              "20.0      g      s      g\n",
              "29.0      p    NaN    NaN\n",
              "37.0      P    NaN      P\n",
              "59.0      P    NaN    NaN\n",
              "67.0    NaN    NaN      P\n",
              "71.0      a      e    NaN\n",
              "75.0    NaN      k      P\n",
              "77.0      P    NaN    NaN\n",
              "79.0    NaN      P      P\n",
              "81.0      e    NaN    NaN\n",
              "85.0      p    NaN    NaN\n",
              "87.0    NaN      P    NaN\n",
              "90.0      q      q    NaN\n",
              "107.0     P    NaN      P\n",
              "109.0   NaN      n    NaN\n",
              "111.0   NaN      P    NaN\n",
              "113.0     p    NaN    NaN\n",
              "115.0   NaN    NaN      c\n",
              "125.0   NaN      p    NaN\n",
              "154.0     b    NaN    NaN\n",
              "162.0     b    NaN    NaN\n",
              "166.0     v    NaN    NaN\n",
              "179.0     P    NaN    NaN\n",
              "188.0     s      g      g\n",
              "221.0   NaN      p    NaN\n",
              "225.0   NaN      n    NaN\n",
              "245.0   NaN      p    NaN\n",
              "249.0   NaN      p    NaN\n",
              "255.0   NaN      P      P\n",
              "265.0   NaN      P    NaN\n",
              "270.0     w    NaN    NaN\n",
              "279.0     n      n    NaN\n",
              "281.0     p      p    NaN\n",
              "283.0     p      p    NaN\n",
              "287.0     e    NaN    NaN\n",
              "293.0   NaN    NaN      P\n",
              "295.0   NaN      P    NaN\n",
              "305.0   NaN      n    NaN\n",
              "313.0     p    NaN      P\n",
              "315.0   NaN      P    NaN\n",
              "318.0   NaN      Q    NaN\n",
              "325.0   NaN    NaN      p\n",
              "332.0     s      g      g\n",
              "345.0     P    NaN    NaN\n",
              "353.0     p      p    NaN\n",
              "356.0     s      g      g"
            ],
            "text/html": [
              "\n",
              "  <div id=\"df-7e3eaf18-879b-458c-b4b2-28a929432112\" class=\"colab-df-container\">\n",
              "    <div>\n",
              "<style scoped>\n",
              "    .dataframe tbody tr th:only-of-type {\n",
              "        vertical-align: middle;\n",
              "    }\n",
              "\n",
              "    .dataframe tbody tr th {\n",
              "        vertical-align: top;\n",
              "    }\n",
              "\n",
              "    .dataframe thead th {\n",
              "        text-align: right;\n",
              "    }\n",
              "</style>\n",
              "<table border=\"1\" class=\"dataframe\">\n",
              "  <thead>\n",
              "    <tr style=\"text-align: right;\">\n",
              "      <th></th>\n",
              "      <th>Voice</th>\n",
              "      <th>Part-2</th>\n",
              "      <th>Part-3</th>\n",
              "    </tr>\n",
              "    <tr>\n",
              "      <th></th>\n",
              "      <th></th>\n",
              "      <th></th>\n",
              "      <th></th>\n",
              "    </tr>\n",
              "  </thead>\n",
              "  <tbody>\n",
              "    <tr>\n",
              "      <th>6.0</th>\n",
              "      <td>NaN</td>\n",
              "      <td>NaN</td>\n",
              "      <td>q</td>\n",
              "    </tr>\n",
              "    <tr>\n",
              "      <th>9.0</th>\n",
              "      <td>NaN</td>\n",
              "      <td>NaN</td>\n",
              "      <td>p</td>\n",
              "    </tr>\n",
              "    <tr>\n",
              "      <th>11.0</th>\n",
              "      <td>NaN</td>\n",
              "      <td>NaN</td>\n",
              "      <td>p</td>\n",
              "    </tr>\n",
              "    <tr>\n",
              "      <th>14.0</th>\n",
              "      <td>q</td>\n",
              "      <td>NaN</td>\n",
              "      <td>NaN</td>\n",
              "    </tr>\n",
              "    <tr>\n",
              "      <th>20.0</th>\n",
              "      <td>g</td>\n",
              "      <td>s</td>\n",
              "      <td>g</td>\n",
              "    </tr>\n",
              "    <tr>\n",
              "      <th>29.0</th>\n",
              "      <td>p</td>\n",
              "      <td>NaN</td>\n",
              "      <td>NaN</td>\n",
              "    </tr>\n",
              "    <tr>\n",
              "      <th>37.0</th>\n",
              "      <td>P</td>\n",
              "      <td>NaN</td>\n",
              "      <td>P</td>\n",
              "    </tr>\n",
              "    <tr>\n",
              "      <th>59.0</th>\n",
              "      <td>P</td>\n",
              "      <td>NaN</td>\n",
              "      <td>NaN</td>\n",
              "    </tr>\n",
              "    <tr>\n",
              "      <th>67.0</th>\n",
              "      <td>NaN</td>\n",
              "      <td>NaN</td>\n",
              "      <td>P</td>\n",
              "    </tr>\n",
              "    <tr>\n",
              "      <th>71.0</th>\n",
              "      <td>a</td>\n",
              "      <td>e</td>\n",
              "      <td>NaN</td>\n",
              "    </tr>\n",
              "    <tr>\n",
              "      <th>75.0</th>\n",
              "      <td>NaN</td>\n",
              "      <td>k</td>\n",
              "      <td>P</td>\n",
              "    </tr>\n",
              "    <tr>\n",
              "      <th>77.0</th>\n",
              "      <td>P</td>\n",
              "      <td>NaN</td>\n",
              "      <td>NaN</td>\n",
              "    </tr>\n",
              "    <tr>\n",
              "      <th>79.0</th>\n",
              "      <td>NaN</td>\n",
              "      <td>P</td>\n",
              "      <td>P</td>\n",
              "    </tr>\n",
              "    <tr>\n",
              "      <th>81.0</th>\n",
              "      <td>e</td>\n",
              "      <td>NaN</td>\n",
              "      <td>NaN</td>\n",
              "    </tr>\n",
              "    <tr>\n",
              "      <th>85.0</th>\n",
              "      <td>p</td>\n",
              "      <td>NaN</td>\n",
              "      <td>NaN</td>\n",
              "    </tr>\n",
              "    <tr>\n",
              "      <th>87.0</th>\n",
              "      <td>NaN</td>\n",
              "      <td>P</td>\n",
              "      <td>NaN</td>\n",
              "    </tr>\n",
              "    <tr>\n",
              "      <th>90.0</th>\n",
              "      <td>q</td>\n",
              "      <td>q</td>\n",
              "      <td>NaN</td>\n",
              "    </tr>\n",
              "    <tr>\n",
              "      <th>107.0</th>\n",
              "      <td>P</td>\n",
              "      <td>NaN</td>\n",
              "      <td>P</td>\n",
              "    </tr>\n",
              "    <tr>\n",
              "      <th>109.0</th>\n",
              "      <td>NaN</td>\n",
              "      <td>n</td>\n",
              "      <td>NaN</td>\n",
              "    </tr>\n",
              "    <tr>\n",
              "      <th>111.0</th>\n",
              "      <td>NaN</td>\n",
              "      <td>P</td>\n",
              "      <td>NaN</td>\n",
              "    </tr>\n",
              "    <tr>\n",
              "      <th>113.0</th>\n",
              "      <td>p</td>\n",
              "      <td>NaN</td>\n",
              "      <td>NaN</td>\n",
              "    </tr>\n",
              "    <tr>\n",
              "      <th>115.0</th>\n",
              "      <td>NaN</td>\n",
              "      <td>NaN</td>\n",
              "      <td>c</td>\n",
              "    </tr>\n",
              "    <tr>\n",
              "      <th>125.0</th>\n",
              "      <td>NaN</td>\n",
              "      <td>p</td>\n",
              "      <td>NaN</td>\n",
              "    </tr>\n",
              "    <tr>\n",
              "      <th>154.0</th>\n",
              "      <td>b</td>\n",
              "      <td>NaN</td>\n",
              "      <td>NaN</td>\n",
              "    </tr>\n",
              "    <tr>\n",
              "      <th>162.0</th>\n",
              "      <td>b</td>\n",
              "      <td>NaN</td>\n",
              "      <td>NaN</td>\n",
              "    </tr>\n",
              "    <tr>\n",
              "      <th>166.0</th>\n",
              "      <td>v</td>\n",
              "      <td>NaN</td>\n",
              "      <td>NaN</td>\n",
              "    </tr>\n",
              "    <tr>\n",
              "      <th>179.0</th>\n",
              "      <td>P</td>\n",
              "      <td>NaN</td>\n",
              "      <td>NaN</td>\n",
              "    </tr>\n",
              "    <tr>\n",
              "      <th>188.0</th>\n",
              "      <td>s</td>\n",
              "      <td>g</td>\n",
              "      <td>g</td>\n",
              "    </tr>\n",
              "    <tr>\n",
              "      <th>221.0</th>\n",
              "      <td>NaN</td>\n",
              "      <td>p</td>\n",
              "      <td>NaN</td>\n",
              "    </tr>\n",
              "    <tr>\n",
              "      <th>225.0</th>\n",
              "      <td>NaN</td>\n",
              "      <td>n</td>\n",
              "      <td>NaN</td>\n",
              "    </tr>\n",
              "    <tr>\n",
              "      <th>245.0</th>\n",
              "      <td>NaN</td>\n",
              "      <td>p</td>\n",
              "      <td>NaN</td>\n",
              "    </tr>\n",
              "    <tr>\n",
              "      <th>249.0</th>\n",
              "      <td>NaN</td>\n",
              "      <td>p</td>\n",
              "      <td>NaN</td>\n",
              "    </tr>\n",
              "    <tr>\n",
              "      <th>255.0</th>\n",
              "      <td>NaN</td>\n",
              "      <td>P</td>\n",
              "      <td>P</td>\n",
              "    </tr>\n",
              "    <tr>\n",
              "      <th>265.0</th>\n",
              "      <td>NaN</td>\n",
              "      <td>P</td>\n",
              "      <td>NaN</td>\n",
              "    </tr>\n",
              "    <tr>\n",
              "      <th>270.0</th>\n",
              "      <td>w</td>\n",
              "      <td>NaN</td>\n",
              "      <td>NaN</td>\n",
              "    </tr>\n",
              "    <tr>\n",
              "      <th>279.0</th>\n",
              "      <td>n</td>\n",
              "      <td>n</td>\n",
              "      <td>NaN</td>\n",
              "    </tr>\n",
              "    <tr>\n",
              "      <th>281.0</th>\n",
              "      <td>p</td>\n",
              "      <td>p</td>\n",
              "      <td>NaN</td>\n",
              "    </tr>\n",
              "    <tr>\n",
              "      <th>283.0</th>\n",
              "      <td>p</td>\n",
              "      <td>p</td>\n",
              "      <td>NaN</td>\n",
              "    </tr>\n",
              "    <tr>\n",
              "      <th>287.0</th>\n",
              "      <td>e</td>\n",
              "      <td>NaN</td>\n",
              "      <td>NaN</td>\n",
              "    </tr>\n",
              "    <tr>\n",
              "      <th>293.0</th>\n",
              "      <td>NaN</td>\n",
              "      <td>NaN</td>\n",
              "      <td>P</td>\n",
              "    </tr>\n",
              "    <tr>\n",
              "      <th>295.0</th>\n",
              "      <td>NaN</td>\n",
              "      <td>P</td>\n",
              "      <td>NaN</td>\n",
              "    </tr>\n",
              "    <tr>\n",
              "      <th>305.0</th>\n",
              "      <td>NaN</td>\n",
              "      <td>n</td>\n",
              "      <td>NaN</td>\n",
              "    </tr>\n",
              "    <tr>\n",
              "      <th>313.0</th>\n",
              "      <td>p</td>\n",
              "      <td>NaN</td>\n",
              "      <td>P</td>\n",
              "    </tr>\n",
              "    <tr>\n",
              "      <th>315.0</th>\n",
              "      <td>NaN</td>\n",
              "      <td>P</td>\n",
              "      <td>NaN</td>\n",
              "    </tr>\n",
              "    <tr>\n",
              "      <th>318.0</th>\n",
              "      <td>NaN</td>\n",
              "      <td>Q</td>\n",
              "      <td>NaN</td>\n",
              "    </tr>\n",
              "    <tr>\n",
              "      <th>325.0</th>\n",
              "      <td>NaN</td>\n",
              "      <td>NaN</td>\n",
              "      <td>p</td>\n",
              "    </tr>\n",
              "    <tr>\n",
              "      <th>332.0</th>\n",
              "      <td>s</td>\n",
              "      <td>g</td>\n",
              "      <td>g</td>\n",
              "    </tr>\n",
              "    <tr>\n",
              "      <th>345.0</th>\n",
              "      <td>P</td>\n",
              "      <td>NaN</td>\n",
              "      <td>NaN</td>\n",
              "    </tr>\n",
              "    <tr>\n",
              "      <th>353.0</th>\n",
              "      <td>p</td>\n",
              "      <td>p</td>\n",
              "      <td>NaN</td>\n",
              "    </tr>\n",
              "    <tr>\n",
              "      <th>356.0</th>\n",
              "      <td>s</td>\n",
              "      <td>g</td>\n",
              "      <td>g</td>\n",
              "    </tr>\n",
              "  </tbody>\n",
              "</table>\n",
              "</div>\n",
              "    <div class=\"colab-df-buttons\">\n",
              "\n",
              "  <div class=\"colab-df-container\">\n",
              "    <button class=\"colab-df-convert\" onclick=\"convertToInteractive('df-7e3eaf18-879b-458c-b4b2-28a929432112')\"\n",
              "            title=\"Convert this dataframe to an interactive table.\"\n",
              "            style=\"display:none;\">\n",
              "\n",
              "  <svg xmlns=\"http://www.w3.org/2000/svg\" height=\"24px\" viewBox=\"0 -960 960 960\">\n",
              "    <path d=\"M120-120v-720h720v720H120Zm60-500h600v-160H180v160Zm220 220h160v-160H400v160Zm0 220h160v-160H400v160ZM180-400h160v-160H180v160Zm440 0h160v-160H620v160ZM180-180h160v-160H180v160Zm440 0h160v-160H620v160Z\"/>\n",
              "  </svg>\n",
              "    </button>\n",
              "\n",
              "  <style>\n",
              "    .colab-df-container {\n",
              "      display:flex;\n",
              "      gap: 12px;\n",
              "    }\n",
              "\n",
              "    .colab-df-convert {\n",
              "      background-color: #E8F0FE;\n",
              "      border: none;\n",
              "      border-radius: 50%;\n",
              "      cursor: pointer;\n",
              "      display: none;\n",
              "      fill: #1967D2;\n",
              "      height: 32px;\n",
              "      padding: 0 0 0 0;\n",
              "      width: 32px;\n",
              "    }\n",
              "\n",
              "    .colab-df-convert:hover {\n",
              "      background-color: #E2EBFA;\n",
              "      box-shadow: 0px 1px 2px rgba(60, 64, 67, 0.3), 0px 1px 3px 1px rgba(60, 64, 67, 0.15);\n",
              "      fill: #174EA6;\n",
              "    }\n",
              "\n",
              "    .colab-df-buttons div {\n",
              "      margin-bottom: 4px;\n",
              "    }\n",
              "\n",
              "    [theme=dark] .colab-df-convert {\n",
              "      background-color: #3B4455;\n",
              "      fill: #D2E3FC;\n",
              "    }\n",
              "\n",
              "    [theme=dark] .colab-df-convert:hover {\n",
              "      background-color: #434B5C;\n",
              "      box-shadow: 0px 1px 3px 1px rgba(0, 0, 0, 0.15);\n",
              "      filter: drop-shadow(0px 1px 2px rgba(0, 0, 0, 0.3));\n",
              "      fill: #FFFFFF;\n",
              "    }\n",
              "  </style>\n",
              "\n",
              "    <script>\n",
              "      const buttonEl =\n",
              "        document.querySelector('#df-7e3eaf18-879b-458c-b4b2-28a929432112 button.colab-df-convert');\n",
              "      buttonEl.style.display =\n",
              "        google.colab.kernel.accessAllowed ? 'block' : 'none';\n",
              "\n",
              "      async function convertToInteractive(key) {\n",
              "        const element = document.querySelector('#df-7e3eaf18-879b-458c-b4b2-28a929432112');\n",
              "        const dataTable =\n",
              "          await google.colab.kernel.invokeFunction('convertToInteractive',\n",
              "                                                    [key], {});\n",
              "        if (!dataTable) return;\n",
              "\n",
              "        const docLinkHtml = 'Like what you see? Visit the ' +\n",
              "          '<a target=\"_blank\" href=https://colab.research.google.com/notebooks/data_table.ipynb>data table notebook</a>'\n",
              "          + ' to learn more about interactive tables.';\n",
              "        element.innerHTML = '';\n",
              "        dataTable['output_type'] = 'display_data';\n",
              "        await google.colab.output.renderOutput(dataTable, element);\n",
              "        const docLink = document.createElement('div');\n",
              "        docLink.innerHTML = docLinkHtml;\n",
              "        element.appendChild(docLink);\n",
              "      }\n",
              "    </script>\n",
              "  </div>\n",
              "\n",
              "\n",
              "<div id=\"df-ee57c04d-816d-4f94-984f-cf056dbf2a7b\">\n",
              "  <button class=\"colab-df-quickchart\" onclick=\"quickchart('df-ee57c04d-816d-4f94-984f-cf056dbf2a7b')\"\n",
              "            title=\"Suggest charts\"\n",
              "            style=\"display:none;\">\n",
              "\n",
              "<svg xmlns=\"http://www.w3.org/2000/svg\" height=\"24px\"viewBox=\"0 0 24 24\"\n",
              "     width=\"24px\">\n",
              "    <g>\n",
              "        <path d=\"M19 3H5c-1.1 0-2 .9-2 2v14c0 1.1.9 2 2 2h14c1.1 0 2-.9 2-2V5c0-1.1-.9-2-2-2zM9 17H7v-7h2v7zm4 0h-2V7h2v10zm4 0h-2v-4h2v4z\"/>\n",
              "    </g>\n",
              "</svg>\n",
              "  </button>\n",
              "\n",
              "<style>\n",
              "  .colab-df-quickchart {\n",
              "      --bg-color: #E8F0FE;\n",
              "      --fill-color: #1967D2;\n",
              "      --hover-bg-color: #E2EBFA;\n",
              "      --hover-fill-color: #174EA6;\n",
              "      --disabled-fill-color: #AAA;\n",
              "      --disabled-bg-color: #DDD;\n",
              "  }\n",
              "\n",
              "  [theme=dark] .colab-df-quickchart {\n",
              "      --bg-color: #3B4455;\n",
              "      --fill-color: #D2E3FC;\n",
              "      --hover-bg-color: #434B5C;\n",
              "      --hover-fill-color: #FFFFFF;\n",
              "      --disabled-bg-color: #3B4455;\n",
              "      --disabled-fill-color: #666;\n",
              "  }\n",
              "\n",
              "  .colab-df-quickchart {\n",
              "    background-color: var(--bg-color);\n",
              "    border: none;\n",
              "    border-radius: 50%;\n",
              "    cursor: pointer;\n",
              "    display: none;\n",
              "    fill: var(--fill-color);\n",
              "    height: 32px;\n",
              "    padding: 0;\n",
              "    width: 32px;\n",
              "  }\n",
              "\n",
              "  .colab-df-quickchart:hover {\n",
              "    background-color: var(--hover-bg-color);\n",
              "    box-shadow: 0 1px 2px rgba(60, 64, 67, 0.3), 0 1px 3px 1px rgba(60, 64, 67, 0.15);\n",
              "    fill: var(--button-hover-fill-color);\n",
              "  }\n",
              "\n",
              "  .colab-df-quickchart-complete:disabled,\n",
              "  .colab-df-quickchart-complete:disabled:hover {\n",
              "    background-color: var(--disabled-bg-color);\n",
              "    fill: var(--disabled-fill-color);\n",
              "    box-shadow: none;\n",
              "  }\n",
              "\n",
              "  .colab-df-spinner {\n",
              "    border: 2px solid var(--fill-color);\n",
              "    border-color: transparent;\n",
              "    border-bottom-color: var(--fill-color);\n",
              "    animation:\n",
              "      spin 1s steps(1) infinite;\n",
              "  }\n",
              "\n",
              "  @keyframes spin {\n",
              "    0% {\n",
              "      border-color: transparent;\n",
              "      border-bottom-color: var(--fill-color);\n",
              "      border-left-color: var(--fill-color);\n",
              "    }\n",
              "    20% {\n",
              "      border-color: transparent;\n",
              "      border-left-color: var(--fill-color);\n",
              "      border-top-color: var(--fill-color);\n",
              "    }\n",
              "    30% {\n",
              "      border-color: transparent;\n",
              "      border-left-color: var(--fill-color);\n",
              "      border-top-color: var(--fill-color);\n",
              "      border-right-color: var(--fill-color);\n",
              "    }\n",
              "    40% {\n",
              "      border-color: transparent;\n",
              "      border-right-color: var(--fill-color);\n",
              "      border-top-color: var(--fill-color);\n",
              "    }\n",
              "    60% {\n",
              "      border-color: transparent;\n",
              "      border-right-color: var(--fill-color);\n",
              "    }\n",
              "    80% {\n",
              "      border-color: transparent;\n",
              "      border-right-color: var(--fill-color);\n",
              "      border-bottom-color: var(--fill-color);\n",
              "    }\n",
              "    90% {\n",
              "      border-color: transparent;\n",
              "      border-bottom-color: var(--fill-color);\n",
              "    }\n",
              "  }\n",
              "</style>\n",
              "\n",
              "  <script>\n",
              "    async function quickchart(key) {\n",
              "      const quickchartButtonEl =\n",
              "        document.querySelector('#' + key + ' button');\n",
              "      quickchartButtonEl.disabled = true;  // To prevent multiple clicks.\n",
              "      quickchartButtonEl.classList.add('colab-df-spinner');\n",
              "      try {\n",
              "        const charts = await google.colab.kernel.invokeFunction(\n",
              "            'suggestCharts', [key], {});\n",
              "      } catch (error) {\n",
              "        console.error('Error during call to suggestCharts:', error);\n",
              "      }\n",
              "      quickchartButtonEl.classList.remove('colab-df-spinner');\n",
              "      quickchartButtonEl.classList.add('colab-df-quickchart-complete');\n",
              "    }\n",
              "    (() => {\n",
              "      let quickchartButtonEl =\n",
              "        document.querySelector('#df-ee57c04d-816d-4f94-984f-cf056dbf2a7b button');\n",
              "      quickchartButtonEl.style.display =\n",
              "        google.colab.kernel.accessAllowed ? 'block' : 'none';\n",
              "    })();\n",
              "  </script>\n",
              "</div>\n",
              "\n",
              "  <div id=\"id_134de25d-94b4-4875-9357-309f22a85cf5\">\n",
              "    <style>\n",
              "      .colab-df-generate {\n",
              "        background-color: #E8F0FE;\n",
              "        border: none;\n",
              "        border-radius: 50%;\n",
              "        cursor: pointer;\n",
              "        display: none;\n",
              "        fill: #1967D2;\n",
              "        height: 32px;\n",
              "        padding: 0 0 0 0;\n",
              "        width: 32px;\n",
              "      }\n",
              "\n",
              "      .colab-df-generate:hover {\n",
              "        background-color: #E2EBFA;\n",
              "        box-shadow: 0px 1px 2px rgba(60, 64, 67, 0.3), 0px 1px 3px 1px rgba(60, 64, 67, 0.15);\n",
              "        fill: #174EA6;\n",
              "      }\n",
              "\n",
              "      [theme=dark] .colab-df-generate {\n",
              "        background-color: #3B4455;\n",
              "        fill: #D2E3FC;\n",
              "      }\n",
              "\n",
              "      [theme=dark] .colab-df-generate:hover {\n",
              "        background-color: #434B5C;\n",
              "        box-shadow: 0px 1px 3px 1px rgba(0, 0, 0, 0.15);\n",
              "        filter: drop-shadow(0px 1px 2px rgba(0, 0, 0, 0.3));\n",
              "        fill: #FFFFFF;\n",
              "      }\n",
              "    </style>\n",
              "    <button class=\"colab-df-generate\" onclick=\"generateWithVariable('rdiss')\"\n",
              "            title=\"Generate code using this dataframe.\"\n",
              "            style=\"display:none;\">\n",
              "\n",
              "  <svg xmlns=\"http://www.w3.org/2000/svg\" height=\"24px\"viewBox=\"0 0 24 24\"\n",
              "       width=\"24px\">\n",
              "    <path d=\"M7,19H8.4L18.45,9,17,7.55,7,17.6ZM5,21V16.75L18.45,3.32a2,2,0,0,1,2.83,0l1.4,1.43a1.91,1.91,0,0,1,.58,1.4,1.91,1.91,0,0,1-.58,1.4L9.25,21ZM18.45,9,17,7.55Zm-12,3A5.31,5.31,0,0,0,4.9,8.1,5.31,5.31,0,0,0,1,6.5,5.31,5.31,0,0,0,4.9,4.9,5.31,5.31,0,0,0,6.5,1,5.31,5.31,0,0,0,8.1,4.9,5.31,5.31,0,0,0,12,6.5,5.46,5.46,0,0,0,6.5,12Z\"/>\n",
              "  </svg>\n",
              "    </button>\n",
              "    <script>\n",
              "      (() => {\n",
              "      const buttonEl =\n",
              "        document.querySelector('#id_134de25d-94b4-4875-9357-309f22a85cf5 button.colab-df-generate');\n",
              "      buttonEl.style.display =\n",
              "        google.colab.kernel.accessAllowed ? 'block' : 'none';\n",
              "\n",
              "      buttonEl.onclick = () => {\n",
              "        google.colab.notebook.generateWithVariable('rdiss');\n",
              "      }\n",
              "      })();\n",
              "    </script>\n",
              "  </div>\n",
              "\n",
              "    </div>\n",
              "  </div>\n"
            ],
            "application/vnd.google.colaboratory.intrinsic+json": {
              "type": "dataframe",
              "variable_name": "rdiss",
              "summary": "{\n  \"name\": \"rdiss\",\n  \"rows\": 50,\n  \"fields\": [\n    {\n      \"column\": \"Voice\",\n      \"properties\": {\n        \"dtype\": \"category\",\n        \"num_unique_values\": 11,\n        \"samples\": [\n          \"e\",\n          \"q\",\n          \"w\"\n        ],\n        \"semantic_type\": \"\",\n        \"description\": \"\"\n      }\n    },\n    {\n      \"column\": \"Part-2\",\n      \"properties\": {\n        \"dtype\": \"category\",\n        \"num_unique_values\": 9,\n        \"samples\": [\n          \"g\",\n          \"e\",\n          \"n\"\n        ],\n        \"semantic_type\": \"\",\n        \"description\": \"\"\n      }\n    },\n    {\n      \"column\": \"Part-3\",\n      \"properties\": {\n        \"dtype\": \"category\",\n        \"num_unique_values\": 5,\n        \"samples\": [\n          \"p\",\n          \"c\",\n          \"g\"\n        ],\n        \"semantic_type\": \"\",\n        \"description\": \"\"\n      }\n    }\n  ]\n}"
            }
          },
          "metadata": {},
          "execution_count": 9
        }
      ],
      "source": [
        "piece_url = 'https://raw.githubusercontent.com/pyampact/pyAMPACTtutorials/main/test_files/O_Virgo_Miserere.krn'\n",
        "#piece_url = 'O_Virgo_Miserere.krn'\n",
        "pyamp_piece = pyampact.Score(piece_url)\n",
        "rdiss = pyamp_piece.getSpines('cdata-rdiss')\n",
        "rdiss"
      ]
    },
    {
      "cell_type": "markdown",
      "id": "wL63WDlWBXWe",
      "metadata": {
        "id": "wL63WDlWBXWe"
      },
      "source": [
        "CRIM's CVF (Cadential Voice Function analysis) dataframe can be treated as if it's a pyAMPACT dataframe without any special treatment because the dataframe's index is time-aligned and the columnar index consists of part names.\n",
        "\n",
        "In a couple of cases, CRIM dataframes differ from this structure (for example .cadences() has different columns and .presentationTypes() has a different index and columns). In these cases, the CRIM dataframes need to be restructured before importing in pyAMPACT.\n",
        "\n",
        "The code in next cell generates an MEI file called \"pyAMPACT-CRIM_test.mei.xml\"  in `/` (viewable on the left under Files. It will be too big to view in Colab and should download for viewing."
      ]
    },
    {
      "cell_type": "code",
      "execution_count": 10,
      "id": "-FdZD4XxA4Gt",
      "metadata": {
        "id": "-FdZD4XxA4Gt"
      },
      "outputs": [],
      "source": [
        "crim_piece = crim.importScore(piece_url)"
      ]
    },
    {
      "cell_type": "code",
      "execution_count": 11,
      "id": "S0kL1_3mBTYS",
      "metadata": {
        "id": "S0kL1_3mBTYS"
      },
      "outputs": [],
      "source": [
        "cvf_table = crim_piece.cvfs()\n",
        "pyamp_piece.toMEI('pyAMPACT-CRIM_test', ' ', dfs={'CVF': cvf_table}, analysis_tag='harm')"
      ]
    },
    {
      "cell_type": "markdown",
      "id": "mU2ikrMWB4qu",
      "metadata": {
        "id": "mU2ikrMWB4qu"
      },
      "source": [
        "pyAMPACT can also create links to short excerpts of pieces, with or without extra data. We do this in the .krn format for its character economy and extensibility, via the (Verovio Humdrum Viewer)[https://verovio.humdrum.org]. The following code shows the cadential voice functions used in the last cadence of this piece which is in the last two measures."
      ]
    },
    {
      "cell_type": "code",
      "execution_count": 12,
      "id": "m5js_o7aB9gQ",
      "metadata": {
        "id": "m5js_o7aB9gQ",
        "outputId": "3289c0a5-1828-4857-f113-5ce57926c227",
        "colab": {
          "base_uri": "https://localhost:8080/"
        }
      },
      "outputs": [
        {
          "output_type": "stream",
          "name": "stdout",
          "text": [
            "https://verovio.humdrum.org/?t=ISEhQ09NOiBUaW5jdG9yaXMsIEpvaGFubmVzCiEhIU9UTDogTyB2aXJnbyBtaXNlcmVyZSBtZWkKKiprZXJuCSoqa2VybgkqKmtlcm4KKnBhcnQzCSpwYXJ0MgkqcGFydDEKKnN0YWZmMwkqc3RhZmYyCSpzdGFmZjEKKkl2b3gJKkl2b3gJKkl2b3gKKkkiUGFydC0zCSpJIlBhcnQtMgkqSSJWb2ljZQoqSSdQCSpJJ1AJKkknVgo9NDUJPTQ1CT00NQoxQUFdCTRlXQk0Y2NdCi4JNGQJNGIKLgkyYwkxYQoxRQkxQgkuCi4JLgkyZyMKPTQ2CT00Ngk9NDYKMEFBCTBBCTBhCj09CT09CT09CiotCSotCSotCiEhIVJERioqa2VybjogJT1yYXRpb25hbCByaHl0aG0KISEhUkRGKiprZXJuOiBsPWxvbmcgbm90ZSBpbiBvcmlnaW5hbCBub3RhdGlvbgohISFSREYqKmtlcm46IGk9ZWRpdG9yaWFsIGFjY2lkZW50YWwKISEhT05COiBUcmFuc2xhdGVkIGZyb20gYSBrcm4gZmlsZSBvbiAyMDI0LTA0LTA4IHZpYSBweUFNUEFDVAohISF0aXRsZTogQHtPVEx9\n"
          ]
        }
      ],
      "source": [
        "pyamp_piece.show(start=45)"
      ]
    }
  ],
  "metadata": {
    "colab": {
      "provenance": [],
      "include_colab_link": true
    },
    "kernelspec": {
      "display_name": "Python 3 (ipykernel)",
      "language": "python",
      "name": "python3"
    },
    "language_info": {
      "codemirror_mode": {
        "name": "ipython",
        "version": 3
      },
      "file_extension": ".py",
      "mimetype": "text/x-python",
      "name": "python",
      "nbconvert_exporter": "python",
      "pygments_lexer": "ipython3",
      "version": "3.10.13"
    }
  },
  "nbformat": 4,
  "nbformat_minor": 5
}