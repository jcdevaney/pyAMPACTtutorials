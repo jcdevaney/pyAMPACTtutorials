{
  "cells": [
    {
      "cell_type": "markdown",
      "metadata": {
        "id": "view-in-github",
        "colab_type": "text"
      },
      "source": [
        "<a href=\"https://colab.research.google.com/github/jcdevaney/pyAMPACTtutorials/blob/main/pyAMPACT_underspecifiedScores.ipynb\" target=\"_parent\"><img src=\"https://colab.research.google.com/assets/colab-badge.svg\" alt=\"Open In Colab\"/></a>"
      ]
    },
    {
      "cell_type": "markdown",
      "id": "4c5ed9bd-dd5b-406f-89a6-f40cf7bbce41",
      "metadata": {
        "id": "4c5ed9bd-dd5b-406f-89a6-f40cf7bbce41"
      },
      "source": [
        "<h1>pyAMPACT Underspecified Scores (Tony annotations)</h1>"
      ]
    },
    {
      "cell_type": "code",
      "execution_count": 1,
      "id": "a1509e57-aa7e-4c0a-99c3-26e02c565a6e",
      "metadata": {
        "id": "a1509e57-aa7e-4c0a-99c3-26e02c565a6e",
        "outputId": "6b81ceab-3f24-4822-e648-30e31d2c455f",
        "colab": {
          "base_uri": "https://localhost:8080/"
        }
      },
      "outputs": [
        {
          "output_type": "stream",
          "name": "stdout",
          "text": [
            "Cloning into 'pyAMPACTtutorials'...\n",
            "remote: Enumerating objects: 314, done.\u001b[K\n",
            "remote: Counting objects: 100% (137/137), done.\u001b[K\n",
            "remote: Compressing objects: 100% (123/123), done.\u001b[K\n",
            "remote: Total 314 (delta 89), reused 18 (delta 14), pack-reused 177\u001b[K\n",
            "Receiving objects: 100% (314/314), 17.62 MiB | 19.26 MiB/s, done.\n",
            "Resolving deltas: 100% (150/150), done.\n",
            "Importing libraries...\n"
          ]
        }
      ],
      "source": [
        "!git clone https://github.com/jcdevaney/pyAMPACTtutorials.git\n",
        "from IPython.utils import io\n",
        "print('Importing libraries...')\n",
        "with io.capture_output() as captured:\n",
        "    !pip install --upgrade pandas\n",
        "    !pip install -i https://test.pypi.org/simple/ --no-deps pyampact\n",
        "    import pyampact\n",
        "import pandas as pd\n",
        "import numpy as np\n",
        "import librosa"
      ]
    },
    {
      "cell_type": "markdown",
      "source": [
        "Load audio and symbolic files."
      ],
      "metadata": {
        "id": "GhIw0NxUfqyH"
      },
      "id": "GhIw0NxUfqyH"
    },
    {
      "cell_type": "code",
      "source": [
        "audio_file = '/content/Close to You vocals.wav'\n",
        "csv_file = '/content/Close To You note track.csv'\n",
        "\n",
        "y, original_sr = librosa.load(audio_file)\n",
        "\n",
        "piece = pyampact.Score(csv_file)"
      ],
      "metadata": {
        "colab": {
          "base_uri": "https://localhost:8080/",
          "height": 373
        },
        "id": "OpdmrJcCfL_i",
        "outputId": "f3499386-5f17-4d50-a21d-5004d40a94f5"
      },
      "id": "OpdmrJcCfL_i",
      "execution_count": 2,
      "outputs": [
        {
          "output_type": "error",
          "ename": "ConverterFileException",
          "evalue": "cannot find a format extensions for: /content/Close To You note track.csv",
          "traceback": [
            "\u001b[0;31m---------------------------------------------------------------------------\u001b[0m",
            "\u001b[0;31mConverterFileException\u001b[0m                    Traceback (most recent call last)",
            "\u001b[0;32m<ipython-input-2-1010c8b8585c>\u001b[0m in \u001b[0;36m<cell line: 6>\u001b[0;34m()\u001b[0m\n\u001b[1;32m      4\u001b[0m \u001b[0my\u001b[0m\u001b[0;34m,\u001b[0m \u001b[0moriginal_sr\u001b[0m \u001b[0;34m=\u001b[0m \u001b[0mlibrosa\u001b[0m\u001b[0;34m.\u001b[0m\u001b[0mload\u001b[0m\u001b[0;34m(\u001b[0m\u001b[0maudio_file\u001b[0m\u001b[0;34m)\u001b[0m\u001b[0;34m\u001b[0m\u001b[0;34m\u001b[0m\u001b[0m\n\u001b[1;32m      5\u001b[0m \u001b[0;34m\u001b[0m\u001b[0m\n\u001b[0;32m----> 6\u001b[0;31m \u001b[0mpiece\u001b[0m \u001b[0;34m=\u001b[0m \u001b[0mpyampact\u001b[0m\u001b[0;34m.\u001b[0m\u001b[0mScore\u001b[0m\u001b[0;34m(\u001b[0m\u001b[0mcsv_file\u001b[0m\u001b[0;34m)\u001b[0m\u001b[0;34m\u001b[0m\u001b[0;34m\u001b[0m\u001b[0m\n\u001b[0m",
            "\u001b[0;32m/usr/local/lib/python3.10/dist-packages/pyampact/symbolic.py\u001b[0m in \u001b[0;36m__init__\u001b[0;34m(self, score_path)\u001b[0m\n\u001b[1;32m    126\u001b[0m                 \u001b[0mos\u001b[0m\u001b[0;34m.\u001b[0m\u001b[0mremove\u001b[0m\u001b[0;34m(\u001b[0m\u001b[0mtmp_path\u001b[0m\u001b[0;34m)\u001b[0m\u001b[0;34m\u001b[0m\u001b[0;34m\u001b[0m\u001b[0m\n\u001b[1;32m    127\u001b[0m         \u001b[0;32melse\u001b[0m\u001b[0;34m:\u001b[0m  \u001b[0;31m# file is not an online kern file (can be either or neither but not both)\u001b[0m\u001b[0;34m\u001b[0m\u001b[0;34m\u001b[0m\u001b[0m\n\u001b[0;32m--> 128\u001b[0;31m             \u001b[0mself\u001b[0m\u001b[0;34m.\u001b[0m\u001b[0m_assignM21Attributes\u001b[0m\u001b[0;34m(\u001b[0m\u001b[0;34m)\u001b[0m\u001b[0;34m\u001b[0m\u001b[0;34m\u001b[0m\u001b[0m\n\u001b[0m\u001b[1;32m    129\u001b[0m             \u001b[0mself\u001b[0m\u001b[0;34m.\u001b[0m\u001b[0m_import_function_harm_spines\u001b[0m\u001b[0;34m(\u001b[0m\u001b[0;34m)\u001b[0m\u001b[0;34m\u001b[0m\u001b[0;34m\u001b[0m\u001b[0m\n\u001b[1;32m    130\u001b[0m         \u001b[0mself\u001b[0m\u001b[0;34m.\u001b[0m\u001b[0mpublic\u001b[0m \u001b[0;34m=\u001b[0m \u001b[0;34m'\\n'\u001b[0m\u001b[0;34m.\u001b[0m\u001b[0mjoin\u001b[0m\u001b[0;34m(\u001b[0m\u001b[0;34m[\u001b[0m\u001b[0;34mf'{prop.ljust(15)}{type(getattr(self, prop))}'\u001b[0m \u001b[0;32mfor\u001b[0m \u001b[0mprop\u001b[0m \u001b[0;32min\u001b[0m \u001b[0mdir\u001b[0m\u001b[0;34m(\u001b[0m\u001b[0mself\u001b[0m\u001b[0;34m)\u001b[0m \u001b[0;32mif\u001b[0m \u001b[0;32mnot\u001b[0m \u001b[0mprop\u001b[0m\u001b[0;34m.\u001b[0m\u001b[0mstartswith\u001b[0m\u001b[0;34m(\u001b[0m\u001b[0;34m'_'\u001b[0m\u001b[0;34m)\u001b[0m\u001b[0;34m]\u001b[0m\u001b[0;34m)\u001b[0m\u001b[0;34m\u001b[0m\u001b[0;34m\u001b[0m\u001b[0m\n",
            "\u001b[0;32m/usr/local/lib/python3.10/dist-packages/pyampact/symbolic.py\u001b[0m in \u001b[0;36m_assignM21Attributes\u001b[0;34m(self, path)\u001b[0m\n\u001b[1;32m    207\u001b[0m                 \u001b[0mimported_scores\u001b[0m\u001b[0;34m[\u001b[0m\u001b[0mself\u001b[0m\u001b[0;34m.\u001b[0m\u001b[0mpath\u001b[0m\u001b[0;34m]\u001b[0m \u001b[0;34m=\u001b[0m \u001b[0mm21\u001b[0m\u001b[0;34m.\u001b[0m\u001b[0mconverter\u001b[0m\u001b[0;34m.\u001b[0m\u001b[0mparse\u001b[0m\u001b[0;34m(\u001b[0m\u001b[0mmidi_bytes\u001b[0m\u001b[0;34m)\u001b[0m\u001b[0;34m\u001b[0m\u001b[0;34m\u001b[0m\u001b[0m\n\u001b[1;32m    208\u001b[0m             \u001b[0;32melse\u001b[0m\u001b[0;34m:\u001b[0m\u001b[0;34m\u001b[0m\u001b[0;34m\u001b[0m\u001b[0m\n\u001b[0;32m--> 209\u001b[0;31m                 \u001b[0mimported_scores\u001b[0m\u001b[0;34m[\u001b[0m\u001b[0mself\u001b[0m\u001b[0;34m.\u001b[0m\u001b[0mpath\u001b[0m\u001b[0;34m]\u001b[0m \u001b[0;34m=\u001b[0m \u001b[0mm21\u001b[0m\u001b[0;34m.\u001b[0m\u001b[0mconverter\u001b[0m\u001b[0;34m.\u001b[0m\u001b[0mparse\u001b[0m\u001b[0;34m(\u001b[0m\u001b[0mself\u001b[0m\u001b[0;34m.\u001b[0m\u001b[0mpath\u001b[0m\u001b[0;34m)\u001b[0m\u001b[0;34m\u001b[0m\u001b[0;34m\u001b[0m\u001b[0m\n\u001b[0m\u001b[1;32m    210\u001b[0m         \u001b[0mself\u001b[0m\u001b[0;34m.\u001b[0m\u001b[0mscore\u001b[0m \u001b[0;34m=\u001b[0m \u001b[0mimported_scores\u001b[0m\u001b[0;34m[\u001b[0m\u001b[0mself\u001b[0m\u001b[0;34m.\u001b[0m\u001b[0mpath\u001b[0m\u001b[0;34m]\u001b[0m\u001b[0;34m\u001b[0m\u001b[0;34m\u001b[0m\u001b[0m\n\u001b[1;32m    211\u001b[0m         \u001b[0mself\u001b[0m\u001b[0;34m.\u001b[0m\u001b[0mmetadata\u001b[0m \u001b[0;34m=\u001b[0m \u001b[0;34m{\u001b[0m\u001b[0;34m'title'\u001b[0m\u001b[0;34m:\u001b[0m \u001b[0;34m\"Title not found\"\u001b[0m\u001b[0;34m,\u001b[0m \u001b[0;34m'composer'\u001b[0m\u001b[0;34m:\u001b[0m \u001b[0;34m\"Composer not found\"\u001b[0m\u001b[0;34m}\u001b[0m\u001b[0;34m\u001b[0m\u001b[0;34m\u001b[0m\u001b[0m\n",
            "\u001b[0;32m/usr/local/lib/python3.10/dist-packages/music21/converter/__init__.py\u001b[0m in \u001b[0;36mparse\u001b[0;34m(value, forceSource, number, format, **keywords)\u001b[0m\n\u001b[1;32m   1407\u001b[0m     elif (not isinstance(value, bytes)\n\u001b[1;32m   1408\u001b[0m           and _osCanLoad(valueStr)):\n\u001b[0;32m-> 1409\u001b[0;31m         return parseFile(valueStr, number=number, format=format,\n\u001b[0m\u001b[1;32m   1410\u001b[0m                          forceSource=forceSource, **keywords)\n\u001b[1;32m   1411\u001b[0m     elif (not isinstance(value, bytes)\n",
            "\u001b[0;32m/usr/local/lib/python3.10/dist-packages/music21/converter/__init__.py\u001b[0m in \u001b[0;36mparseFile\u001b[0;34m(fp, number, format, forceSource, **keywords)\u001b[0m\n\u001b[1;32m   1261\u001b[0m     \u001b[0mv\u001b[0m \u001b[0;34m=\u001b[0m \u001b[0mConverter\u001b[0m\u001b[0;34m(\u001b[0m\u001b[0;34m)\u001b[0m\u001b[0;34m\u001b[0m\u001b[0;34m\u001b[0m\u001b[0m\n\u001b[1;32m   1262\u001b[0m     \u001b[0mfp\u001b[0m \u001b[0;34m=\u001b[0m \u001b[0mcommon\u001b[0m\u001b[0;34m.\u001b[0m\u001b[0mcleanpath\u001b[0m\u001b[0;34m(\u001b[0m\u001b[0mfp\u001b[0m\u001b[0;34m,\u001b[0m \u001b[0mreturnPathlib\u001b[0m\u001b[0;34m=\u001b[0m\u001b[0;32mTrue\u001b[0m\u001b[0;34m)\u001b[0m\u001b[0;34m\u001b[0m\u001b[0;34m\u001b[0m\u001b[0m\n\u001b[0;32m-> 1263\u001b[0;31m     \u001b[0mv\u001b[0m\u001b[0;34m.\u001b[0m\u001b[0mparseFile\u001b[0m\u001b[0;34m(\u001b[0m\u001b[0mfp\u001b[0m\u001b[0;34m,\u001b[0m \u001b[0mnumber\u001b[0m\u001b[0;34m=\u001b[0m\u001b[0mnumber\u001b[0m\u001b[0;34m,\u001b[0m \u001b[0mformat\u001b[0m\u001b[0;34m=\u001b[0m\u001b[0mformat\u001b[0m\u001b[0;34m,\u001b[0m \u001b[0mforceSource\u001b[0m\u001b[0;34m=\u001b[0m\u001b[0mforceSource\u001b[0m\u001b[0;34m,\u001b[0m \u001b[0;34m**\u001b[0m\u001b[0mkeywords\u001b[0m\u001b[0;34m)\u001b[0m\u001b[0;34m\u001b[0m\u001b[0;34m\u001b[0m\u001b[0m\n\u001b[0m\u001b[1;32m   1264\u001b[0m     \u001b[0;32mif\u001b[0m \u001b[0mt\u001b[0m\u001b[0;34m.\u001b[0m\u001b[0mTYPE_CHECKING\u001b[0m\u001b[0;34m:\u001b[0m\u001b[0;34m\u001b[0m\u001b[0;34m\u001b[0m\u001b[0m\n\u001b[1;32m   1265\u001b[0m         \u001b[0;32massert\u001b[0m \u001b[0misinstance\u001b[0m\u001b[0;34m(\u001b[0m\u001b[0mv\u001b[0m\u001b[0;34m.\u001b[0m\u001b[0mstream\u001b[0m\u001b[0;34m,\u001b[0m \u001b[0;34m(\u001b[0m\u001b[0mstream\u001b[0m\u001b[0;34m.\u001b[0m\u001b[0mScore\u001b[0m\u001b[0;34m,\u001b[0m \u001b[0mstream\u001b[0m\u001b[0;34m.\u001b[0m\u001b[0mPart\u001b[0m\u001b[0;34m,\u001b[0m \u001b[0mstream\u001b[0m\u001b[0;34m.\u001b[0m\u001b[0mOpus\u001b[0m\u001b[0;34m)\u001b[0m\u001b[0;34m)\u001b[0m\u001b[0;34m\u001b[0m\u001b[0;34m\u001b[0m\u001b[0m\n",
            "\u001b[0;32m/usr/local/lib/python3.10/dist-packages/music21/converter/__init__.py\u001b[0m in \u001b[0;36mparseFile\u001b[0;34m(self, fp, number, format, forceSource, storePickle, **keywords)\u001b[0m\n\u001b[1;32m    624\u001b[0m \u001b[0;34m\u001b[0m\u001b[0m\n\u001b[1;32m    625\u001b[0m         \u001b[0;32mif\u001b[0m \u001b[0museFormat\u001b[0m \u001b[0;32mis\u001b[0m \u001b[0;32mNone\u001b[0m\u001b[0;34m:\u001b[0m\u001b[0;34m\u001b[0m\u001b[0;34m\u001b[0m\u001b[0m\n\u001b[0;32m--> 626\u001b[0;31m             \u001b[0museFormat\u001b[0m \u001b[0;34m=\u001b[0m \u001b[0mself\u001b[0m\u001b[0;34m.\u001b[0m\u001b[0mgetFormatFromFileExtension\u001b[0m\u001b[0;34m(\u001b[0m\u001b[0mfp\u001b[0m\u001b[0;34m)\u001b[0m\u001b[0;34m\u001b[0m\u001b[0;34m\u001b[0m\u001b[0m\n\u001b[0m\u001b[1;32m    627\u001b[0m \u001b[0;34m\u001b[0m\u001b[0m\n\u001b[1;32m    628\u001b[0m         \u001b[0mpfObj\u001b[0m \u001b[0;34m=\u001b[0m \u001b[0mPickleFilter\u001b[0m\u001b[0;34m(\u001b[0m\u001b[0mfp\u001b[0m\u001b[0;34m,\u001b[0m \u001b[0mforceSource\u001b[0m\u001b[0;34m,\u001b[0m \u001b[0mnumber\u001b[0m\u001b[0;34m,\u001b[0m \u001b[0;34m**\u001b[0m\u001b[0mkeywords\u001b[0m\u001b[0;34m)\u001b[0m\u001b[0;34m\u001b[0m\u001b[0;34m\u001b[0m\u001b[0m\n",
            "\u001b[0;32m/usr/local/lib/python3.10/dist-packages/music21/converter/__init__.py\u001b[0m in \u001b[0;36mgetFormatFromFileExtension\u001b[0;34m(self, fp)\u001b[0m\n\u001b[1;32m    602\u001b[0m             \u001b[0museFormat\u001b[0m \u001b[0;34m=\u001b[0m \u001b[0mcommon\u001b[0m\u001b[0;34m.\u001b[0m\u001b[0mfindFormatFile\u001b[0m\u001b[0;34m(\u001b[0m\u001b[0mfp\u001b[0m\u001b[0;34m)\u001b[0m\u001b[0;34m\u001b[0m\u001b[0;34m\u001b[0m\u001b[0m\n\u001b[1;32m    603\u001b[0m             \u001b[0;32mif\u001b[0m \u001b[0museFormat\u001b[0m \u001b[0;32mis\u001b[0m \u001b[0;32mNone\u001b[0m\u001b[0;34m:\u001b[0m\u001b[0;34m\u001b[0m\u001b[0;34m\u001b[0m\u001b[0m\n\u001b[0;32m--> 604\u001b[0;31m                 \u001b[0;32mraise\u001b[0m \u001b[0mConverterFileException\u001b[0m\u001b[0;34m(\u001b[0m\u001b[0;34mf'cannot find a format extensions for: {fp}'\u001b[0m\u001b[0;34m)\u001b[0m\u001b[0;34m\u001b[0m\u001b[0;34m\u001b[0m\u001b[0m\n\u001b[0m\u001b[1;32m    605\u001b[0m         \u001b[0;32mreturn\u001b[0m \u001b[0museFormat\u001b[0m\u001b[0;34m\u001b[0m\u001b[0;34m\u001b[0m\u001b[0m\n\u001b[1;32m    606\u001b[0m \u001b[0;34m\u001b[0m\u001b[0m\n",
            "\u001b[0;31mConverterFileException\u001b[0m: cannot find a format extensions for: /content/Close To You note track.csv"
          ]
        }
      ]
    },
    {
      "cell_type": "markdown",
      "source": [
        "Run the alignment with pyampact's `run_alignment` function."
      ],
      "metadata": {
        "id": "AMW0icJ_g6gm"
      },
      "id": "AMW0icJ_g6gm"
    },
    {
      "cell_type": "code",
      "source": [
        "target_sr = 4000\n",
        "win_ms = 100\n",
        "hop_length = 32\n",
        "width = 3\n",
        "n_harm = 3\n",
        "\n",
        "# Visualize the alignment with True flag\n",
        "\n",
        "res, dtw, spec, nmat = pyampact.run_alignment(\n",
        "    y, original_sr, piece, piece.nmats(), width, target_sr, n_harm, win_ms, hop_length, True)"
      ],
      "metadata": {
        "id": "xBVKgDIHfdg5"
      },
      "id": "xBVKgDIHfdg5",
      "execution_count": null,
      "outputs": []
    },
    {
      "cell_type": "markdown",
      "source": [
        "Estimate performance paramters."
      ],
      "metadata": {
        "id": "brYkE-tPhqfS"
      },
      "id": "brYkE-tPhqfS"
    },
    {
      "cell_type": "code",
      "source": [
        "# Calculate an instananeous frequency-gram of the audio signal\n",
        "freqs, times, mags, f0_values, mags_mat = pyampact.ifgram(audiofile=audio_file, tsr=target_sr, win_ms=win_ms)\n",
        "mags_db = librosa.amplitude_to_db(mags, ref=np.max)\n",
        "\n",
        "# Estimate F0 values\n",
        "f0_values, sig_pwr = pyampact.calculate_f0_est(audio_file, hop_length, win_ms, target_sr)\n",
        "sig_pwr = mags ** 2 # power of signal, magnitude/amplitude squared\n",
        "\n",
        "# Prune NaN and zero values from estimated F0 and power\n",
        "f0_values = f0_values[~np.isnan(f0_values)]\n",
        "sig_pwr = sig_pwr[sig_pwr != 0]"
      ],
      "metadata": {
        "id": "Q3h_oMh9ht00"
      },
      "id": "Q3h_oMh9ht00",
      "execution_count": null,
      "outputs": []
    },
    {
      "cell_type": "markdown",
      "source": [
        "Compile estimated performance parameters"
      ],
      "metadata": {
        "id": "WTECcxItin5_"
      },
      "id": "WTECcxItin5_"
    },
    {
      "cell_type": "code",
      "source": [
        "pyampact.data_compilation(f0_values, sig_pwr, mags_mat, nmat, target_sr, hop_length, y, audio_file)"
      ],
      "metadata": {
        "id": "a7nwehYBiqpr"
      },
      "id": "a7nwehYBiqpr",
      "execution_count": null,
      "outputs": []
    },
    {
      "cell_type": "markdown",
      "source": [
        "Export estimated performance parameters to a kern or MEI file"
      ],
      "metadata": {
        "id": "lpj83MQxiwCh"
      },
      "id": "lpj83MQxiwCh"
    },
    {
      "cell_type": "code",
      "source": [
        "piece.toKern()"
      ],
      "metadata": {
        "id": "Q2V6ovo0YdR_",
        "outputId": "a71d3e71-5e5e-470c-8268-62ec403400fc",
        "colab": {
          "base_uri": "https://localhost:8080/",
          "height": 122
        }
      },
      "id": "Q2V6ovo0YdR_",
      "execution_count": null,
      "outputs": [
        {
          "output_type": "execute_result",
          "data": {
            "text/plain": [
              "'!!!COM: Mozart\\n!!!OTL: Zwolf Variationen in C uber ein Menuett von Johann Christian Fischer\\n**kern\\t**kern\\n*part2\\t*part1\\n*staff2\\t*staff1\\n*Ivox\\t*Ivox\\n*I\"Part-2\\t*I\"Part-1\\n*I\\'P\\t*I\\'P\\n=1\\t=1\\n*clefF4\\t*clefG2\\n*k[]\\t*k[]\\n*M3/4\\t*M3/4\\n4C\\t2gg\\n4E\\t.\\n4C\\t16ffLL\\n.\\t16ee\\n.\\t16dd\\n.\\t16ccJJ\\n=2\\t=2\\n4D\\t8ggL\\n.\\t8ffJ\\n4BB\\t4.dd\\n4GG\\t.\\n.\\t8ff\\n=3\\t=3\\n8DL\\t12eeL\\n.\\t12gg\\n8FJ\\t.\\n.\\t12aaJ\\n4G\\t4cc\\n4GG\\t4b\\n=4\\t=4\\n4C\\t4b\\n4GG\\t4cc\\n4CC\\t4r\\n==\\t==\\n*-\\t*-\\n!!!RDF**kern: %=rational rhythm\\n!!!RDF**kern: l=long note in original notation\\n!!!RDF**kern: i=editorial accidental\\n!!!ONB: Translated from a krn file on 2024-03-14 via pyAMPACT\\n!!!title: @{OTL}'"
            ],
            "application/vnd.google.colaboratory.intrinsic+json": {
              "type": "string"
            }
          },
          "metadata": {},
          "execution_count": 7
        }
      ]
    },
    {
      "cell_type": "code",
      "source": [
        "piece.toMEI()"
      ],
      "metadata": {
        "id": "ihwvIxMIeoQb",
        "outputId": "f1c0641f-507e-45f5-e51a-935af52fcb87",
        "colab": {
          "base_uri": "https://localhost:8080/"
        }
      },
      "id": "ihwvIxMIeoQb",
      "execution_count": null,
      "outputs": [
        {
          "output_type": "execute_result",
          "data": {
            "text/plain": [
              "<xml.etree.ElementTree.ElementTree at 0x7e46729d3d60>"
            ]
          },
          "metadata": {},
          "execution_count": 8
        }
      ]
    }
  ],
  "metadata": {
    "kernelspec": {
      "display_name": "Python 3 (ipykernel)",
      "language": "python",
      "name": "python3"
    },
    "language_info": {
      "codemirror_mode": {
        "name": "ipython",
        "version": 3
      },
      "file_extension": ".py",
      "mimetype": "text/x-python",
      "name": "python",
      "nbconvert_exporter": "python",
      "pygments_lexer": "ipython3",
      "version": "3.10.11"
    },
    "colab": {
      "provenance": [],
      "include_colab_link": true
    }
  },
  "nbformat": 4,
  "nbformat_minor": 5
}