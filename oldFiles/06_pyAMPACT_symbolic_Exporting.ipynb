{
  "nbformat": 4,
  "nbformat_minor": 0,
  "metadata": {
    "colab": {
      "provenance": [],
      "authorship_tag": "ABX9TyOl+zMJfxCUeLdj71vKvVOw",
      "include_colab_link": true
    },
    "kernelspec": {
      "name": "python3",
      "display_name": "Python 3"
    },
    "language_info": {
      "name": "python"
    }
  },
  "cells": [
    {
      "cell_type": "markdown",
      "metadata": {
        "id": "view-in-github",
        "colab_type": "text"
      },
      "source": [
        "<a href=\"https://colab.research.google.com/github/jcdevaney/pyAMPACTtutorials/blob/main/06_pyAMPACT_symbolic_Exporting.ipynb\" target=\"_parent\"><img src=\"https://colab.research.google.com/assets/colab-badge.svg\" alt=\"Open In Colab\"/></a>"
      ]
    },
    {
      "cell_type": "markdown",
      "source": [
        "<h1>pyAMPACT Exporting Symbolic Data</h1>"
      ],
      "metadata": {
        "id": "l5QIb5WCFRwy"
      }
    },
    {
      "cell_type": "code",
      "execution_count": 1,
      "metadata": {
        "id": "MCFs3L2TFKgN",
        "outputId": "496fb2e4-2c64-444b-a3e8-c47108649e6f",
        "colab": {
          "base_uri": "https://localhost:8080/"
        }
      },
      "outputs": [
        {
          "output_type": "stream",
          "name": "stdout",
          "text": [
            "Cloning into 'pyAMPACTtutorials'...\n",
            "remote: Enumerating objects: 302, done.\u001b[K\n",
            "remote: Counting objects: 100% (125/125), done.\u001b[K\n",
            "remote: Compressing objects: 100% (111/111), done.\u001b[K\n",
            "remote: Total 302 (delta 81), reused 17 (delta 14), pack-reused 177\u001b[K\n",
            "Receiving objects: 100% (302/302), 17.42 MiB | 14.30 MiB/s, done.\n",
            "Resolving deltas: 100% (142/142), done.\n",
            "Importing libraries...\n"
          ]
        }
      ],
      "source": [
        "!git clone https://github.com/jcdevaney/pyAMPACTtutorials.git\n",
        "from IPython.utils import io\n",
        "print('Importing libraries...')\n",
        "with io.capture_output() as captured:\n",
        "    !pip install --upgrade pandas\n",
        "    !pip install -i https://test.pypi.org/simple/ --no-deps pyampact==0.4.7\n",
        "    import pyampact"
      ]
    }
  ]
}